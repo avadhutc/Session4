{
  "nbformat": 4,
  "nbformat_minor": 0,
  "metadata": {
    "colab": {
      "name": "EVA_Session_4_Third_Keras.ipynb",
      "version": "0.3.2",
      "provenance": [],
      "collapsed_sections": [],
      "include_colab_link": true
    },
    "kernelspec": {
      "name": "python3",
      "display_name": "Python 3"
    },
    "accelerator": "GPU"
  },
  "cells": [
    {
      "cell_type": "markdown",
      "metadata": {
        "id": "view-in-github",
        "colab_type": "text"
      },
      "source": [
        "<a href=\"https://colab.research.google.com/github/avadhutc/Session4/blob/master/code/EVA_Session_4_Third_Keras.ipynb\" target=\"_parent\"><img src=\"https://colab.research.google.com/assets/colab-badge.svg\" alt=\"Open In Colab\"/></a>"
      ]
    },
    {
      "cell_type": "markdown",
      "metadata": {
        "id": "rTLyNG-JGGvP",
        "colab_type": "text"
      },
      "source": [
        "# Change No: 1,  Increase batch size from 32 to 64\n",
        "## Lets try increasing batch sizes helping or not"
      ]
    },
    {
      "cell_type": "markdown",
      "metadata": {
        "id": "aNyZv-Ec52ot",
        "colab_type": "text"
      },
      "source": [
        "# **Import Libraries and modules**"
      ]
    },
    {
      "cell_type": "code",
      "metadata": {
        "id": "3m3w1Cw49Zkt",
        "colab_type": "code",
        "outputId": "e71d2755-d555-40fb-bd91-355845299177",
        "colab": {
          "base_uri": "https://localhost:8080/",
          "height": 34
        }
      },
      "source": [
        "# https://keras.io/\n",
        "!pip install -q keras # install keras package\n",
        "import keras # import keras package for use"
      ],
      "execution_count": 0,
      "outputs": [
        {
          "output_type": "stream",
          "text": [
            "Using TensorFlow backend.\n"
          ],
          "name": "stderr"
        }
      ]
    },
    {
      "cell_type": "code",
      "metadata": {
        "id": "Eso6UHE080D4",
        "colab_type": "code",
        "colab": {}
      },
      "source": [
        "import numpy as np # import numpy package alias np\n",
        "\n",
        "from keras.models import Sequential # import Sequential flow to build model\n",
        "from keras.layers import Flatten # import flatten layer to convert any dimensional layer into one di\n",
        "from keras.layers import Convolution2D, MaxPooling2D # for doing convolution and maxpooling on image \n",
        "from keras.utils import np_utils # utility functions\n",
        "\n",
        "from keras.datasets import mnist# import mnist dataset\n",
        "from matplotlib import pyplot as plt # import pyplot alias plt for plotting\n",
        "#%matplotlib inline # print results in notebook cells"
      ],
      "execution_count": 0,
      "outputs": []
    },
    {
      "cell_type": "markdown",
      "metadata": {
        "id": "zByEi95J86RD",
        "colab_type": "text"
      },
      "source": [
        "### Load pre-shuffled MNIST data into train and test sets"
      ]
    },
    {
      "cell_type": "code",
      "metadata": {
        "id": "7eRM0QWN83PV",
        "colab_type": "code",
        "colab": {}
      },
      "source": [
        "(X_train, y_train), (X_test, y_test) = mnist.load_data()# download mnist dataset and load for training and testing sets"
      ],
      "execution_count": 0,
      "outputs": []
    },
    {
      "cell_type": "code",
      "metadata": {
        "id": "4a4Be72j8-ZC",
        "colab_type": "code",
        "outputId": "9bba1c32-080b-4565-9408-fb23320e857b",
        "colab": {
          "base_uri": "https://localhost:8080/",
          "height": 304
        }
      },
      "source": [
        "print (X_train.shape) # print shape of X_train dataset\n",
        " \n",
        "\n",
        "\n",
        "plt.imshow(X_train[0]) # display image"
      ],
      "execution_count": 0,
      "outputs": [
        {
          "output_type": "stream",
          "text": [
            "(60000, 28, 28)\n"
          ],
          "name": "stdout"
        },
        {
          "output_type": "execute_result",
          "data": {
            "text/plain": [
              "<matplotlib.image.AxesImage at 0x7fafe5bd4940>"
            ]
          },
          "metadata": {
            "tags": []
          },
          "execution_count": 4
        },
        {
          "output_type": "display_data",
          "data": {
            "image/png": "[encoded data removed]",
            "text/plain": [
              "<Figure size 432x288 with 1 Axes>"
            ]
          },
          "metadata": {
            "tags": []
          }
        }
      ]
    },
    {
      "cell_type": "code",
      "metadata": {
        "id": "dkmprriw9AnZ",
        "colab_type": "code",
        "colab": {}
      },
      "source": [
        "X_train = X_train.reshape(X_train.shape[0], 28, 28,1) # reshape or arrange train dataset for all images with 1 channel \n",
        "X_test = X_test.reshape(X_test.shape[0], 28, 28,1)# reshape or arrange test dataset for all images with 1 channel"
      ],
      "execution_count": 0,
      "outputs": []
    },
    {
      "cell_type": "code",
      "metadata": {
        "id": "X2m4YS4E9CRh",
        "colab_type": "code",
        "colab": {}
      },
      "source": [
        "X_train = X_train.astype('float32') # set datatype of training dataset as float32\n",
        "X_test = X_test.astype('float32')# set datatype of test dataset as float32\n",
        "X_train /= 255 # normalize training dataset between 0 and 1\n",
        "X_test /= 255 # normalize tes dataset between 0 and 1"
      ],
      "execution_count": 0,
      "outputs": []
    },
    {
      "cell_type": "code",
      "metadata": {
        "id": "0Mn0vAYD9DvB",
        "colab_type": "code",
        "outputId": "5240564b-497a-43cc-f734-3f742deee98b",
        "colab": {
          "base_uri": "https://localhost:8080/",
          "height": 34
        }
      },
      "source": [
        "y_train[:10] # training set labels"
      ],
      "execution_count": 0,
      "outputs": [
        {
          "output_type": "execute_result",
          "data": {
            "text/plain": [
              "array([5, 0, 4, 1, 9, 2, 1, 3, 1, 4], dtype=uint8)"
            ]
          },
          "metadata": {
            "tags": []
          },
          "execution_count": 7
        }
      ]
    },
    {
      "cell_type": "code",
      "metadata": {
        "id": "ZG8JiXR39FHC",
        "colab_type": "code",
        "colab": {}
      },
      "source": [
        "# Convert 1-dimensional class arrays to 10-dimensional class matrices\n",
        "Y_train = np_utils.to_categorical(y_train, 10)# convert train labels into one-hot encodings\n",
        "Y_test = np_utils.to_categorical(y_test, 10)# convert test labels into one-hot encodings"
      ],
      "execution_count": 0,
      "outputs": []
    },
    {
      "cell_type": "code",
      "metadata": {
        "id": "fYlFRvKS9HMB",
        "colab_type": "code",
        "outputId": "63a15f26-341f-47db-933c-22a3ed505394",
        "colab": {
          "base_uri": "https://localhost:8080/",
          "height": 194
        }
      },
      "source": [
        "Y_train[:10]# print first 10 train labels\n"
      ],
      "execution_count": 0,
      "outputs": [
        {
          "output_type": "execute_result",
          "data": {
            "text/plain": [
              "array([[0., 0., 0., 0., 0., 1., 0., 0., 0., 0.],\n",
              "       [1., 0., 0., 0., 0., 0., 0., 0., 0., 0.],\n",
              "       [0., 0., 0., 0., 1., 0., 0., 0., 0., 0.],\n",
              "       [0., 1., 0., 0., 0., 0., 0., 0., 0., 0.],\n",
              "       [0., 0., 0., 0., 0., 0., 0., 0., 0., 1.],\n",
              "       [0., 0., 1., 0., 0., 0., 0., 0., 0., 0.],\n",
              "       [0., 1., 0., 0., 0., 0., 0., 0., 0., 0.],\n",
              "       [0., 0., 0., 1., 0., 0., 0., 0., 0., 0.],\n",
              "       [0., 1., 0., 0., 0., 0., 0., 0., 0., 0.],\n",
              "       [0., 0., 0., 0., 1., 0., 0., 0., 0., 0.]], dtype=float32)"
            ]
          },
          "metadata": {
            "tags": []
          },
          "execution_count": 9
        }
      ]
    },
    {
      "cell_type": "code",
      "metadata": {
        "id": "7oe3qx-4XCX0",
        "colab_type": "code",
        "colab": {}
      },
      "source": [
        ""
      ],
      "execution_count": 0,
      "outputs": []
    },
    {
      "cell_type": "code",
      "metadata": {
        "id": "HDm_3uJuXCac",
        "colab_type": "code",
        "colab": {}
      },
      "source": [
        ""
      ],
      "execution_count": 0,
      "outputs": []
    },
    {
      "cell_type": "code",
      "metadata": {
        "colab_type": "code",
        "outputId": "91beddb1-70f3-42bf-d5d2-5cbb4ddcb828",
        "id": "K0ZvEJV0o2to",
        "colab": {
          "base_uri": "https://localhost:8080/",
          "height": 196
        }
      },
      "source": [
        "from keras.layers import Activation, BatchNormalization\n",
        "\n",
        "model = Sequential() # Sequential model\n",
        " \n",
        "model.add(Convolution2D(16, 3, 3, activation='relu', input_shape=(28,28,1))) # Input Channel dimension= 1, output channel dimension= 16, RF = 3, out_img_size = 26\n",
        "\n",
        "model.add(Convolution2D(32, 3, 3, activation='relu')) # Input Channel dimension= 16, output channel dimension= 32, RF = 5, out_img_size = 24\n",
        "\n",
        "model.add(MaxPooling2D(pool_size = (2, 2))) # Input Channel dimension= 32, output channel dimension= 32, RF = 6, out_img_size = 12\n",
        "model.add(Convolution2D(10, 1, activation='relu')) # Input Channel dimension= 32, output channel dimension= 10, RF = 6, out_img_size = 12\n",
        "\n",
        "model.add(Convolution2D(64, 3, 3, activation='relu'))# Input Channel dimension= 10, output channel dimension= 64, RF = 10, out_img_size = 10\n",
        "\n",
        "model.add(MaxPooling2D(pool_size = (2, 2)))# Input Channel dimension= 64, output channel dimension= 64, RF = 11, out_img_size = 5\n",
        "model.add(Convolution2D(10, 1, activation='relu'))# Input Channel dimension= 64, output channel dimension= 10, RF = 11, out_img_size = 5\n",
        " \n",
        "model.add(Convolution2D(10, 5)) # Input Channel dimension= 10, output channel dimension= 10, RF = 27, out_img_size = 1\n",
        "\n",
        "model.add(Flatten()) #flatten image dimension into 1\n",
        "model.add(Activation('softmax'))# softmax to assign confidence score of each class"
      ],
      "execution_count": 0,
      "outputs": [
        {
          "output_type": "stream",
          "text": [
            "WARNING:tensorflow:From /usr/local/lib/python3.6/dist-packages/tensorflow/python/framework/op_def_library.py:263: colocate_with (from tensorflow.python.framework.ops) is deprecated and will be removed in a future version.\n",
            "Instructions for updating:\n",
            "Colocations handled automatically by placer.\n"
          ],
          "name": "stdout"
        },
        {
          "output_type": "stream",
          "text": [
            "/usr/local/lib/python3.6/dist-packages/ipykernel_launcher.py:5: UserWarning: Update your `Conv2D` call to the Keras 2 API: `Conv2D(16, (3, 3), activation=\"relu\", input_shape=(28, 28, 1...)`\n",
            "  \"\"\"\n",
            "/usr/local/lib/python3.6/dist-packages/ipykernel_launcher.py:6: UserWarning: Update your `Conv2D` call to the Keras 2 API: `Conv2D(32, (3, 3), activation=\"relu\")`\n",
            "  \n",
            "/usr/local/lib/python3.6/dist-packages/ipykernel_launcher.py:11: UserWarning: Update your `Conv2D` call to the Keras 2 API: `Conv2D(64, (3, 3), activation=\"relu\")`\n",
            "  # This is added back by InteractiveShellApp.init_path()\n"
          ],
          "name": "stderr"
        }
      ]
    },
    {
      "cell_type": "code",
      "metadata": {
        "colab_type": "code",
        "outputId": "e62ed54e-ba13-4018-aad6-64b022fd4bd7",
        "id": "fVs_Ic4Eo2uB",
        "colab": {
          "base_uri": "https://localhost:8080/",
          "height": 496
        }
      },
      "source": [
        "model.summary()"
      ],
      "execution_count": 0,
      "outputs": [
        {
          "output_type": "stream",
          "text": [
            "_________________________________________________________________\n",
            "Layer (type)                 Output Shape              Param #   \n",
            "=================================================================\n",
            "conv2d_1 (Conv2D)            (None, 26, 26, 16)        160       \n",
            "_________________________________________________________________\n",
            "conv2d_2 (Conv2D)            (None, 24, 24, 32)        4640      \n",
            "_________________________________________________________________\n",
            "max_pooling2d_1 (MaxPooling2 (None, 12, 12, 32)        0         \n",
            "_________________________________________________________________\n",
            "conv2d_3 (Conv2D)            (None, 12, 12, 10)        330       \n",
            "_________________________________________________________________\n",
            "conv2d_4 (Conv2D)            (None, 10, 10, 64)        5824      \n",
            "_________________________________________________________________\n",
            "max_pooling2d_2 (MaxPooling2 (None, 5, 5, 64)          0         \n",
            "_________________________________________________________________\n",
            "conv2d_5 (Conv2D)            (None, 5, 5, 10)          650       \n",
            "_________________________________________________________________\n",
            "conv2d_6 (Conv2D)            (None, 1, 1, 10)          2510      \n",
            "_________________________________________________________________\n",
            "flatten_1 (Flatten)          (None, 10)                0         \n",
            "_________________________________________________________________\n",
            "activation_1 (Activation)    (None, 10)                0         \n",
            "=================================================================\n",
            "Total params: 14,114\n",
            "Trainable params: 14,114\n",
            "Non-trainable params: 0\n",
            "_________________________________________________________________\n"
          ],
          "name": "stdout"
        }
      ]
    },
    {
      "cell_type": "code",
      "metadata": {
        "colab_type": "code",
        "id": "8CV04eYHo2uK",
        "colab": {}
      },
      "source": [
        "# import callbacks\n",
        "from keras.callbacks import ModelCheckpoint"
      ],
      "execution_count": 0,
      "outputs": []
    },
    {
      "cell_type": "code",
      "metadata": {
        "colab_type": "code",
        "id": "Fxf9aTMXo2uO",
        "colab": {}
      },
      "source": [
        "# save best weights \n",
        "final_weights_path = 'best_mnist_cnn_model.h5'"
      ],
      "execution_count": 0,
      "outputs": []
    },
    {
      "cell_type": "code",
      "metadata": {
        "colab_type": "code",
        "id": "IZYkFfdio2uS",
        "colab": {}
      },
      "source": [
        "callbacks_list = [ModelCheckpoint(final_weights_path, monitor='val_acc', verbose = 1,save_best_only = True)]  \n"
      ],
      "execution_count": 0,
      "outputs": []
    },
    {
      "cell_type": "code",
      "metadata": {
        "colab_type": "code",
        "id": "fXsrKLwmo2uV",
        "colab": {}
      },
      "source": [
        "# model compilation\n",
        "model.compile(loss='categorical_crossentropy',\n",
        "             optimizer='adam',\n",
        "             metrics=['accuracy'])"
      ],
      "execution_count": 0,
      "outputs": []
    },
    {
      "cell_type": "code",
      "metadata": {
        "colab_type": "code",
        "outputId": "3d48873f-fdcf-4b99-d0d3-d26acf1655fa",
        "id": "Ouj37GWuo2up",
        "colab": {
          "base_uri": "https://localhost:8080/",
          "height": 2276
        }
      },
      "source": [
        "# model training\n",
        "history = model.fit(X_train, Y_train, batch_size=64, nb_epoch=30, validation_data=(X_test,Y_test),callbacks = callbacks_list, verbose=1)"
      ],
      "execution_count": 0,
      "outputs": [
        {
          "output_type": "stream",
          "text": [
            "WARNING:tensorflow:From /usr/local/lib/python3.6/dist-packages/tensorflow/python/ops/math_ops.py:3066: to_int32 (from tensorflow.python.ops.math_ops) is deprecated and will be removed in a future version.\n",
            "Instructions for updating:\n",
            "Use tf.cast instead.\n"
          ],
          "name": "stdout"
        },
        {
          "output_type": "stream",
          "text": [
            "/usr/local/lib/python3.6/dist-packages/ipykernel_launcher.py:1: UserWarning: The `nb_epoch` argument in `fit` has been renamed `epochs`.\n",
            "  \"\"\"Entry point for launching an IPython kernel.\n"
          ],
          "name": "stderr"
        },
        {
          "output_type": "stream",
          "text": [
            "Train on 60000 samples, validate on 10000 samples\n",
            "Epoch 1/30\n",
            "60000/60000 [==============================] - 7s 119us/step - loss: 0.2730 - acc: 0.9146 - val_loss: 0.0816 - val_acc: 0.9759\n",
            "\n",
            "Epoch 00001: val_acc improved from -inf to 0.97590, saving model to best_mnist_cnn_model.h5\n",
            "Epoch 2/30\n",
            "60000/60000 [==============================] - 5s 79us/step - loss: 0.0761 - acc: 0.9761 - val_loss: 0.0583 - val_acc: 0.9812\n",
            "\n",
            "Epoch 00002: val_acc improved from 0.97590 to 0.98120, saving model to best_mnist_cnn_model.h5\n",
            "Epoch 3/30\n",
            "60000/60000 [==============================] - 5s 80us/step - loss: 0.0581 - acc: 0.9819 - val_loss: 0.0471 - val_acc: 0.9847\n",
            "\n",
            "Epoch 00003: val_acc improved from 0.98120 to 0.98470, saving model to best_mnist_cnn_model.h5\n",
            "Epoch 4/30\n",
            "60000/60000 [==============================] - 5s 80us/step - loss: 0.0483 - acc: 0.9848 - val_loss: 0.0373 - val_acc: 0.9869\n",
            "\n",
            "Epoch 00004: val_acc improved from 0.98470 to 0.98690, saving model to best_mnist_cnn_model.h5\n",
            "Epoch 5/30\n",
            "60000/60000 [==============================] - 5s 79us/step - loss: 0.0413 - acc: 0.9872 - val_loss: 0.0360 - val_acc: 0.9879\n",
            "\n",
            "Epoch 00005: val_acc improved from 0.98690 to 0.98790, saving model to best_mnist_cnn_model.h5\n",
            "Epoch 6/30\n",
            "60000/60000 [==============================] - 5s 80us/step - loss: 0.0373 - acc: 0.9882 - val_loss: 0.0423 - val_acc: 0.9863\n",
            "\n",
            "Epoch 00006: val_acc did not improve from 0.98790\n",
            "Epoch 7/30\n",
            "60000/60000 [==============================] - 5s 81us/step - loss: 0.0319 - acc: 0.9899 - val_loss: 0.0351 - val_acc: 0.9878\n",
            "\n",
            "Epoch 00007: val_acc did not improve from 0.98790\n",
            "Epoch 8/30\n",
            "60000/60000 [==============================] - 5s 79us/step - loss: 0.0305 - acc: 0.9905 - val_loss: 0.0318 - val_acc: 0.9900\n",
            "\n",
            "Epoch 00008: val_acc improved from 0.98790 to 0.99000, saving model to best_mnist_cnn_model.h5\n",
            "Epoch 9/30\n",
            "60000/60000 [==============================] - 5s 90us/step - loss: 0.0266 - acc: 0.9917 - val_loss: 0.0372 - val_acc: 0.9876\n",
            "\n",
            "Epoch 00009: val_acc did not improve from 0.99000\n",
            "Epoch 10/30\n",
            "60000/60000 [==============================] - 6s 94us/step - loss: 0.0249 - acc: 0.9920 - val_loss: 0.0348 - val_acc: 0.9896\n",
            "\n",
            "Epoch 00010: val_acc did not improve from 0.99000\n",
            "Epoch 11/30\n",
            "60000/60000 [==============================] - 5s 90us/step - loss: 0.0223 - acc: 0.9929 - val_loss: 0.0374 - val_acc: 0.9893\n",
            "\n",
            "Epoch 00011: val_acc did not improve from 0.99000\n",
            "Epoch 12/30\n",
            "60000/60000 [==============================] - 5s 90us/step - loss: 0.0205 - acc: 0.9930 - val_loss: 0.0416 - val_acc: 0.9877\n",
            "\n",
            "Epoch 00012: val_acc did not improve from 0.99000\n",
            "Epoch 13/30\n",
            "60000/60000 [==============================] - 5s 80us/step - loss: 0.0192 - acc: 0.9941 - val_loss: 0.0333 - val_acc: 0.9893\n",
            "\n",
            "Epoch 00013: val_acc did not improve from 0.99000\n",
            "Epoch 14/30\n",
            "60000/60000 [==============================] - 5s 79us/step - loss: 0.0172 - acc: 0.9945 - val_loss: 0.0317 - val_acc: 0.9905\n",
            "\n",
            "Epoch 00014: val_acc improved from 0.99000 to 0.99050, saving model to best_mnist_cnn_model.h5\n",
            "Epoch 15/30\n",
            "60000/60000 [==============================] - 5s 79us/step - loss: 0.0160 - acc: 0.9948 - val_loss: 0.0324 - val_acc: 0.9910\n",
            "\n",
            "Epoch 00015: val_acc improved from 0.99050 to 0.99100, saving model to best_mnist_cnn_model.h5\n",
            "Epoch 16/30\n",
            "60000/60000 [==============================] - 5s 79us/step - loss: 0.0147 - acc: 0.9952 - val_loss: 0.0316 - val_acc: 0.9903\n",
            "\n",
            "Epoch 00016: val_acc did not improve from 0.99100\n",
            "Epoch 17/30\n",
            "60000/60000 [==============================] - 5s 78us/step - loss: 0.0138 - acc: 0.9954 - val_loss: 0.0448 - val_acc: 0.9870\n",
            "\n",
            "Epoch 00017: val_acc did not improve from 0.99100\n",
            "Epoch 18/30\n",
            "60000/60000 [==============================] - 5s 78us/step - loss: 0.0124 - acc: 0.9960 - val_loss: 0.0341 - val_acc: 0.9905\n",
            "\n",
            "Epoch 00018: val_acc did not improve from 0.99100\n",
            "Epoch 19/30\n",
            "60000/60000 [==============================] - 5s 79us/step - loss: 0.0119 - acc: 0.9961 - val_loss: 0.0348 - val_acc: 0.9888\n",
            "\n",
            "Epoch 00019: val_acc did not improve from 0.99100\n",
            "Epoch 20/30\n",
            "60000/60000 [==============================] - 5s 91us/step - loss: 0.0109 - acc: 0.9964 - val_loss: 0.0339 - val_acc: 0.9903\n",
            "\n",
            "Epoch 00020: val_acc did not improve from 0.99100\n",
            "Epoch 21/30\n",
            "60000/60000 [==============================] - 5s 79us/step - loss: 0.0098 - acc: 0.9966 - val_loss: 0.0352 - val_acc: 0.9909\n",
            "\n",
            "Epoch 00021: val_acc did not improve from 0.99100\n",
            "Epoch 22/30\n",
            "60000/60000 [==============================] - 5s 79us/step - loss: 0.0100 - acc: 0.9965 - val_loss: 0.0444 - val_acc: 0.9894\n",
            "\n",
            "Epoch 00022: val_acc did not improve from 0.99100\n",
            "Epoch 23/30\n",
            "60000/60000 [==============================] - 5s 79us/step - loss: 0.0088 - acc: 0.9970 - val_loss: 0.0449 - val_acc: 0.9901\n",
            "\n",
            "Epoch 00023: val_acc did not improve from 0.99100\n",
            "Epoch 24/30\n",
            "60000/60000 [==============================] - 5s 80us/step - loss: 0.0094 - acc: 0.9966 - val_loss: 0.0429 - val_acc: 0.9888\n",
            "\n",
            "Epoch 00024: val_acc did not improve from 0.99100\n",
            "Epoch 25/30\n",
            "60000/60000 [==============================] - 5s 79us/step - loss: 0.0080 - acc: 0.9975 - val_loss: 0.0417 - val_acc: 0.9901\n",
            "\n",
            "Epoch 00025: val_acc did not improve from 0.99100\n",
            "Epoch 26/30\n",
            "60000/60000 [==============================] - 5s 79us/step - loss: 0.0077 - acc: 0.9973 - val_loss: 0.0393 - val_acc: 0.9910\n",
            "\n",
            "Epoch 00026: val_acc did not improve from 0.99100\n",
            "Epoch 27/30\n",
            "60000/60000 [==============================] - 5s 83us/step - loss: 0.0086 - acc: 0.9972 - val_loss: 0.0421 - val_acc: 0.9903\n",
            "\n",
            "Epoch 00027: val_acc did not improve from 0.99100\n",
            "Epoch 28/30\n",
            "60000/60000 [==============================] - 5s 91us/step - loss: 0.0067 - acc: 0.9977 - val_loss: 0.0410 - val_acc: 0.9906\n",
            "\n",
            "Epoch 00028: val_acc did not improve from 0.99100\n",
            "Epoch 29/30\n",
            "60000/60000 [==============================] - 5s 86us/step - loss: 0.0063 - acc: 0.9980 - val_loss: 0.0438 - val_acc: 0.9906\n",
            "\n",
            "Epoch 00029: val_acc did not improve from 0.99100\n",
            "Epoch 30/30\n",
            "60000/60000 [==============================] - 5s 79us/step - loss: 0.0073 - acc: 0.9976 - val_loss: 0.0479 - val_acc: 0.9891\n",
            "\n",
            "Epoch 00030: val_acc did not improve from 0.99100\n"
          ],
          "name": "stdout"
        }
      ]
    },
    {
      "cell_type": "markdown",
      "metadata": {
        "id": "kIPvQrjzF3HV",
        "colab_type": "text"
      },
      "source": [
        "# Visualization"
      ]
    },
    {
      "cell_type": "code",
      "metadata": {
        "colab_type": "code",
        "outputId": "56a7e08f-01c9-4a45-af0e-6df40c3b27dd",
        "id": "DMRsZdf7o2uw",
        "colab": {
          "base_uri": "https://localhost:8080/",
          "height": 268
        }
      },
      "source": [
        "plt.plot(history.history['acc'],'r')\n",
        "plt.plot(history.history['val_acc'],'b')\n",
        "plt.legend({'training accuracy':'r', 'validation accuracy': 'b'})\n",
        "plt.show()"
      ],
      "execution_count": 0,
      "outputs": [
        {
          "output_type": "display_data",
          "data": {
            "image/png": "[encoded data removed]",
            "text/plain": [
              "<Figure size 432x288 with 1 Axes>"
            ]
          },
          "metadata": {
            "tags": []
          }
        }
      ]
    },
    {
      "cell_type": "code",
      "metadata": {
        "colab_type": "code",
        "outputId": "b9ca775a-b87c-4eae-e54e-a99694a2249a",
        "id": "T2dcj0Rmo2u8",
        "colab": {
          "base_uri": "https://localhost:8080/",
          "height": 268
        }
      },
      "source": [
        "plt.plot(history.history['loss'],'r')\n",
        "plt.plot(history.history['val_loss'],'b')\n",
        "plt.legend({'training loss':'r', 'validation loss': 'b'})\n",
        "plt.show()"
      ],
      "execution_count": 0,
      "outputs": [
        {
          "output_type": "display_data",
          "data": {
            "image/png": "[encoded data removed]",
            "text/plain": [
              "<Figure size 432x288 with 1 Axes>"
            ]
          },
          "metadata": {
            "tags": []
          }
        }
      ]
    },
    {
      "cell_type": "code",
      "metadata": {
        "colab_type": "code",
        "id": "qdQtm9GRo2vB",
        "colab": {}
      },
      "source": [
        "#model score accuarcy on test data\n",
        "score = model.evaluate(X_test, Y_test, verbose=0)"
      ],
      "execution_count": 0,
      "outputs": []
    },
    {
      "cell_type": "code",
      "metadata": {
        "colab_type": "code",
        "outputId": "417ce653-dbde-4ecb-d7dd-56db552891d8",
        "id": "gSxcjd3Ko2vD",
        "colab": {
          "base_uri": "https://localhost:8080/",
          "height": 34
        }
      },
      "source": [
        "print(score)"
      ],
      "execution_count": 0,
      "outputs": [
        {
          "output_type": "stream",
          "text": [
            "[0.04790766974819267, 0.9891]\n"
          ],
          "name": "stdout"
        }
      ]
    },
    {
      "cell_type": "markdown",
      "metadata": {
        "id": "59mVOR_-IQXt",
        "colab_type": "text"
      },
      "source": [
        "# Maximum Validation Accuracy achieved 99.10% @ 15th epoch with 14.5 K parameters\n",
        "# Batch size 64 size is not helping here"
      ]
    },
    {
      "cell_type": "code",
      "metadata": {
        "id": "N8V6cUsDXCdE",
        "colab_type": "code",
        "colab": {}
      },
      "source": [
        ""
      ],
      "execution_count": 0,
      "outputs": []
    },
    {
      "cell_type": "markdown",
      "metadata": {
        "id": "KPchifRqtSy1",
        "colab_type": "text"
      },
      "source": [
        "# Change No: 2,  Increase batch size from 64 to 128"
      ]
    },
    {
      "cell_type": "code",
      "metadata": {
        "id": "8VYHCfq2XCfw",
        "colab_type": "code",
        "colab": {}
      },
      "source": [
        ""
      ],
      "execution_count": 0,
      "outputs": []
    },
    {
      "cell_type": "code",
      "metadata": {
        "colab_type": "code",
        "outputId": "b04acf33-5217-485a-c62a-aabd544d4b56",
        "id": "LAN7SVMttcaU",
        "colab": {
          "base_uri": "https://localhost:8080/",
          "height": 143
        }
      },
      "source": [
        "from keras.layers import Activation, BatchNormalization\n",
        "\n",
        "model = Sequential() # Sequential model\n",
        " \n",
        "model.add(Convolution2D(16, 3, 3, activation='relu', input_shape=(28,28,1))) # Input Channel dimension= 1, output channel dimension= 16, RF = 3, out_img_size = 26\n",
        "\n",
        "model.add(Convolution2D(32, 3, 3, activation='relu')) # Input Channel dimension= 16, output channel dimension= 32, RF = 5, out_img_size = 24\n",
        "\n",
        "model.add(MaxPooling2D(pool_size = (2, 2))) # Input Channel dimension= 32, output channel dimension= 32, RF = 6, out_img_size = 12\n",
        "model.add(Convolution2D(10, 1, activation='relu')) # Input Channel dimension= 32, output channel dimension= 10, RF = 6, out_img_size = 12\n",
        "\n",
        "model.add(Convolution2D(64, 3, 3, activation='relu'))# Input Channel dimension= 10, output channel dimension= 64, RF = 10, out_img_size = 10\n",
        "\n",
        "model.add(MaxPooling2D(pool_size = (2, 2)))# Input Channel dimension= 64, output channel dimension= 64, RF = 11, out_img_size = 5\n",
        "model.add(Convolution2D(10, 1, activation='relu'))# Input Channel dimension= 64, output channel dimension= 10, RF = 11, out_img_size = 5\n",
        " \n",
        "model.add(Convolution2D(10, 5)) # Input Channel dimension= 10, output channel dimension= 10, RF = 27, out_img_size = 5\n",
        "\n",
        "model.add(Flatten()) #flatten image dimension into 1\n",
        "model.add(Activation('softmax'))# softmax to assign confidence score of each class"
      ],
      "execution_count": 0,
      "outputs": [
        {
          "output_type": "stream",
          "text": [
            "/usr/local/lib/python3.6/dist-packages/ipykernel_launcher.py:5: UserWarning: Update your `Conv2D` call to the Keras 2 API: `Conv2D(16, (3, 3), activation=\"relu\", input_shape=(28, 28, 1...)`\n",
            "  \"\"\"\n",
            "/usr/local/lib/python3.6/dist-packages/ipykernel_launcher.py:6: UserWarning: Update your `Conv2D` call to the Keras 2 API: `Conv2D(32, (3, 3), activation=\"relu\")`\n",
            "  \n",
            "/usr/local/lib/python3.6/dist-packages/ipykernel_launcher.py:11: UserWarning: Update your `Conv2D` call to the Keras 2 API: `Conv2D(64, (3, 3), activation=\"relu\")`\n",
            "  # This is added back by InteractiveShellApp.init_path()\n"
          ],
          "name": "stderr"
        }
      ]
    },
    {
      "cell_type": "code",
      "metadata": {
        "colab_type": "code",
        "outputId": "407a2087-128d-44cc-b5d5-98cd3c3c8e0a",
        "id": "6p220YmJtcap",
        "colab": {
          "base_uri": "https://localhost:8080/",
          "height": 496
        }
      },
      "source": [
        "model.summary()"
      ],
      "execution_count": 0,
      "outputs": [
        {
          "output_type": "stream",
          "text": [
            "_________________________________________________________________\n",
            "Layer (type)                 Output Shape              Param #   \n",
            "=================================================================\n",
            "conv2d_7 (Conv2D)            (None, 26, 26, 16)        160       \n",
            "_________________________________________________________________\n",
            "conv2d_8 (Conv2D)            (None, 24, 24, 32)        4640      \n",
            "_________________________________________________________________\n",
            "max_pooling2d_3 (MaxPooling2 (None, 12, 12, 32)        0         \n",
            "_________________________________________________________________\n",
            "conv2d_9 (Conv2D)            (None, 12, 12, 10)        330       \n",
            "_________________________________________________________________\n",
            "conv2d_10 (Conv2D)           (None, 10, 10, 64)        5824      \n",
            "_________________________________________________________________\n",
            "max_pooling2d_4 (MaxPooling2 (None, 5, 5, 64)          0         \n",
            "_________________________________________________________________\n",
            "conv2d_11 (Conv2D)           (None, 5, 5, 10)          650       \n",
            "_________________________________________________________________\n",
            "conv2d_12 (Conv2D)           (None, 1, 1, 10)          2510      \n",
            "_________________________________________________________________\n",
            "flatten_2 (Flatten)          (None, 10)                0         \n",
            "_________________________________________________________________\n",
            "activation_2 (Activation)    (None, 10)                0         \n",
            "=================================================================\n",
            "Total params: 14,114\n",
            "Trainable params: 14,114\n",
            "Non-trainable params: 0\n",
            "_________________________________________________________________\n"
          ],
          "name": "stdout"
        }
      ]
    },
    {
      "cell_type": "code",
      "metadata": {
        "colab_type": "code",
        "id": "VDjZuiiStca7",
        "colab": {}
      },
      "source": [
        "# import callbacks\n",
        "from keras.callbacks import ModelCheckpoint"
      ],
      "execution_count": 0,
      "outputs": []
    },
    {
      "cell_type": "code",
      "metadata": {
        "colab_type": "code",
        "id": "vZZRLhOotcbD",
        "colab": {}
      },
      "source": [
        "# save best weights \n",
        "final_weights_path = 'best_mnist_cnn_model.h5'"
      ],
      "execution_count": 0,
      "outputs": []
    },
    {
      "cell_type": "code",
      "metadata": {
        "colab_type": "code",
        "id": "RlZO5x9ZtcbI",
        "colab": {}
      },
      "source": [
        "callbacks_list = [ModelCheckpoint(final_weights_path, monitor='val_acc', verbose = 1,save_best_only = True)]  \n"
      ],
      "execution_count": 0,
      "outputs": []
    },
    {
      "cell_type": "code",
      "metadata": {
        "colab_type": "code",
        "id": "vFjH2YAatcbO",
        "colab": {}
      },
      "source": [
        "# model compilation\n",
        "model.compile(loss='categorical_crossentropy',\n",
        "             optimizer='adam',\n",
        "             metrics=['accuracy'])"
      ],
      "execution_count": 0,
      "outputs": []
    },
    {
      "cell_type": "code",
      "metadata": {
        "colab_type": "code",
        "outputId": "b226c2d3-3131-4b46-c580-3d59e4bf9362",
        "id": "X2rdBABvtcbW",
        "colab": {
          "base_uri": "https://localhost:8080/",
          "height": 2203
        }
      },
      "source": [
        "# model training\n",
        "history = model.fit(X_train, Y_train, batch_size=128, nb_epoch=30, validation_data=(X_test,Y_test),callbacks = callbacks_list, verbose=1)"
      ],
      "execution_count": 0,
      "outputs": [
        {
          "output_type": "stream",
          "text": [
            "/usr/local/lib/python3.6/dist-packages/ipykernel_launcher.py:1: UserWarning: The `nb_epoch` argument in `fit` has been renamed `epochs`.\n",
            "  \"\"\"Entry point for launching an IPython kernel.\n"
          ],
          "name": "stderr"
        },
        {
          "output_type": "stream",
          "text": [
            "Train on 60000 samples, validate on 10000 samples\n",
            "Epoch 1/30\n",
            "60000/60000 [==============================] - 4s 66us/step - loss: 0.3346 - acc: 0.8937 - val_loss: 0.0969 - val_acc: 0.9694\n",
            "\n",
            "Epoch 00001: val_acc improved from -inf to 0.96940, saving model to best_mnist_cnn_model.h5\n",
            "Epoch 2/30\n",
            "60000/60000 [==============================] - 3s 56us/step - loss: 0.0831 - acc: 0.9747 - val_loss: 0.0584 - val_acc: 0.9814\n",
            "\n",
            "Epoch 00002: val_acc improved from 0.96940 to 0.98140, saving model to best_mnist_cnn_model.h5\n",
            "Epoch 3/30\n",
            "60000/60000 [==============================] - 3s 51us/step - loss: 0.0635 - acc: 0.9804 - val_loss: 0.0549 - val_acc: 0.9836\n",
            "\n",
            "Epoch 00003: val_acc improved from 0.98140 to 0.98360, saving model to best_mnist_cnn_model.h5\n",
            "Epoch 4/30\n",
            "60000/60000 [==============================] - 3s 48us/step - loss: 0.0528 - acc: 0.9841 - val_loss: 0.0606 - val_acc: 0.9796\n",
            "\n",
            "Epoch 00004: val_acc did not improve from 0.98360\n",
            "Epoch 5/30\n",
            "60000/60000 [==============================] - 3s 48us/step - loss: 0.0476 - acc: 0.9848 - val_loss: 0.0605 - val_acc: 0.9790\n",
            "\n",
            "Epoch 00005: val_acc did not improve from 0.98360\n",
            "Epoch 6/30\n",
            "60000/60000 [==============================] - 3s 48us/step - loss: 0.0429 - acc: 0.9865 - val_loss: 0.0378 - val_acc: 0.9869\n",
            "\n",
            "Epoch 00006: val_acc improved from 0.98360 to 0.98690, saving model to best_mnist_cnn_model.h5\n",
            "Epoch 7/30\n",
            "60000/60000 [==============================] - 3s 50us/step - loss: 0.0371 - acc: 0.9884 - val_loss: 0.0372 - val_acc: 0.9867\n",
            "\n",
            "Epoch 00007: val_acc did not improve from 0.98690\n",
            "Epoch 8/30\n",
            "60000/60000 [==============================] - 3s 53us/step - loss: 0.0341 - acc: 0.9894 - val_loss: 0.0365 - val_acc: 0.9887\n",
            "\n",
            "Epoch 00008: val_acc improved from 0.98690 to 0.98870, saving model to best_mnist_cnn_model.h5\n",
            "Epoch 9/30\n",
            "60000/60000 [==============================] - 3s 53us/step - loss: 0.0325 - acc: 0.9895 - val_loss: 0.0404 - val_acc: 0.9872\n",
            "\n",
            "Epoch 00009: val_acc did not improve from 0.98870\n",
            "Epoch 10/30\n",
            "60000/60000 [==============================] - 3s 52us/step - loss: 0.0307 - acc: 0.9904 - val_loss: 0.0479 - val_acc: 0.9840\n",
            "\n",
            "Epoch 00010: val_acc did not improve from 0.98870\n",
            "Epoch 11/30\n",
            "60000/60000 [==============================] - 3s 48us/step - loss: 0.0280 - acc: 0.9909 - val_loss: 0.0375 - val_acc: 0.9883\n",
            "\n",
            "Epoch 00011: val_acc did not improve from 0.98870\n",
            "Epoch 12/30\n",
            "60000/60000 [==============================] - 3s 48us/step - loss: 0.0252 - acc: 0.9918 - val_loss: 0.0360 - val_acc: 0.9893\n",
            "\n",
            "Epoch 00012: val_acc improved from 0.98870 to 0.98930, saving model to best_mnist_cnn_model.h5\n",
            "Epoch 13/30\n",
            "60000/60000 [==============================] - 3s 49us/step - loss: 0.0233 - acc: 0.9925 - val_loss: 0.0320 - val_acc: 0.9895\n",
            "\n",
            "Epoch 00013: val_acc improved from 0.98930 to 0.98950, saving model to best_mnist_cnn_model.h5\n",
            "Epoch 14/30\n",
            "60000/60000 [==============================] - 3s 49us/step - loss: 0.0223 - acc: 0.9924 - val_loss: 0.0338 - val_acc: 0.9895\n",
            "\n",
            "Epoch 00014: val_acc did not improve from 0.98950\n",
            "Epoch 15/30\n",
            "60000/60000 [==============================] - 3s 49us/step - loss: 0.0211 - acc: 0.9930 - val_loss: 0.0321 - val_acc: 0.9900\n",
            "\n",
            "Epoch 00015: val_acc improved from 0.98950 to 0.99000, saving model to best_mnist_cnn_model.h5\n",
            "Epoch 16/30\n",
            "60000/60000 [==============================] - 3s 50us/step - loss: 0.0199 - acc: 0.9936 - val_loss: 0.0321 - val_acc: 0.9899\n",
            "\n",
            "Epoch 00016: val_acc did not improve from 0.99000\n",
            "Epoch 17/30\n",
            "60000/60000 [==============================] - 3s 54us/step - loss: 0.0173 - acc: 0.9942 - val_loss: 0.0361 - val_acc: 0.9888\n",
            "\n",
            "Epoch 00017: val_acc did not improve from 0.99000\n",
            "Epoch 18/30\n",
            "60000/60000 [==============================] - 3s 50us/step - loss: 0.0178 - acc: 0.9939 - val_loss: 0.0349 - val_acc: 0.9899\n",
            "\n",
            "Epoch 00018: val_acc did not improve from 0.99000\n",
            "Epoch 19/30\n",
            "60000/60000 [==============================] - 3s 48us/step - loss: 0.0157 - acc: 0.9952 - val_loss: 0.0329 - val_acc: 0.9896\n",
            "\n",
            "Epoch 00019: val_acc did not improve from 0.99000\n",
            "Epoch 20/30\n",
            "60000/60000 [==============================] - 3s 49us/step - loss: 0.0136 - acc: 0.9958 - val_loss: 0.0369 - val_acc: 0.9895\n",
            "\n",
            "Epoch 00020: val_acc did not improve from 0.99000\n",
            "Epoch 21/30\n",
            "60000/60000 [==============================] - 3s 48us/step - loss: 0.0146 - acc: 0.9950 - val_loss: 0.0331 - val_acc: 0.9909\n",
            "\n",
            "Epoch 00021: val_acc improved from 0.99000 to 0.99090, saving model to best_mnist_cnn_model.h5\n",
            "Epoch 22/30\n",
            "60000/60000 [==============================] - 3s 48us/step - loss: 0.0128 - acc: 0.9956 - val_loss: 0.0355 - val_acc: 0.9901\n",
            "\n",
            "Epoch 00022: val_acc did not improve from 0.99090\n",
            "Epoch 23/30\n",
            "60000/60000 [==============================] - 3s 48us/step - loss: 0.0119 - acc: 0.9961 - val_loss: 0.0351 - val_acc: 0.9901\n",
            "\n",
            "Epoch 00023: val_acc did not improve from 0.99090\n",
            "Epoch 24/30\n",
            "60000/60000 [==============================] - 3s 48us/step - loss: 0.0122 - acc: 0.9957 - val_loss: 0.0326 - val_acc: 0.9893\n",
            "\n",
            "Epoch 00024: val_acc did not improve from 0.99090\n",
            "Epoch 25/30\n",
            "60000/60000 [==============================] - 3s 48us/step - loss: 0.0114 - acc: 0.9963 - val_loss: 0.0354 - val_acc: 0.9903\n",
            "\n",
            "Epoch 00025: val_acc did not improve from 0.99090\n",
            "Epoch 26/30\n",
            "60000/60000 [==============================] - 3s 48us/step - loss: 0.0109 - acc: 0.9960 - val_loss: 0.0416 - val_acc: 0.9889\n",
            "\n",
            "Epoch 00026: val_acc did not improve from 0.99090\n",
            "Epoch 27/30\n",
            "60000/60000 [==============================] - 3s 48us/step - loss: 0.0095 - acc: 0.9967 - val_loss: 0.0348 - val_acc: 0.9903\n",
            "\n",
            "Epoch 00027: val_acc did not improve from 0.99090\n",
            "Epoch 28/30\n",
            "60000/60000 [==============================] - 3s 48us/step - loss: 0.0078 - acc: 0.9974 - val_loss: 0.0418 - val_acc: 0.9887\n",
            "\n",
            "Epoch 00028: val_acc did not improve from 0.99090\n",
            "Epoch 29/30\n",
            "60000/60000 [==============================] - 3s 48us/step - loss: 0.0098 - acc: 0.9965 - val_loss: 0.0391 - val_acc: 0.9895\n",
            "\n",
            "Epoch 00029: val_acc did not improve from 0.99090\n",
            "Epoch 30/30\n",
            "60000/60000 [==============================] - 3s 48us/step - loss: 0.0093 - acc: 0.9968 - val_loss: 0.0441 - val_acc: 0.9884\n",
            "\n",
            "Epoch 00030: val_acc did not improve from 0.99090\n"
          ],
          "name": "stdout"
        }
      ]
    },
    {
      "cell_type": "markdown",
      "metadata": {
        "id": "a2R_H2RxF9aA",
        "colab_type": "text"
      },
      "source": [
        "# Visualization"
      ]
    },
    {
      "cell_type": "code",
      "metadata": {
        "colab_type": "code",
        "outputId": "cb463bbc-03c1-46db-d828-1930e7edfa52",
        "id": "LCJwGKPptcbw",
        "colab": {
          "base_uri": "https://localhost:8080/",
          "height": 268
        }
      },
      "source": [
        "plt.plot(history.history['acc'],'r')\n",
        "plt.plot(history.history['val_acc'],'b')\n",
        "plt.legend({'training accuracy':'r', 'validation accuracy': 'b'})\n",
        "plt.show()"
      ],
      "execution_count": 0,
      "outputs": [
        {
          "output_type": "display_data",
          "data": {
            "image/png": "[encoded data removed]",
            "text/plain": [
              "<Figure size 432x288 with 1 Axes>"
            ]
          },
          "metadata": {
            "tags": []
          }
        }
      ]
    },
    {
      "cell_type": "code",
      "metadata": {
        "colab_type": "code",
        "outputId": "49257d25-6a31-4ea6-fbbb-f32052356faa",
        "id": "T7P6Az5rtcb0",
        "colab": {
          "base_uri": "https://localhost:8080/",
          "height": 268
        }
      },
      "source": [
        "plt.plot(history.history['loss'],'r')\n",
        "plt.plot(history.history['val_loss'],'b')\n",
        "plt.legend({'training loss':'r', 'validation loss': 'b'})\n",
        "plt.show()"
      ],
      "execution_count": 0,
      "outputs": [
        {
          "output_type": "display_data",
          "data": {
            "image/png": "[encoded data removed]",
            "text/plain": [
              "<Figure size 432x288 with 1 Axes>"
            ]
          },
          "metadata": {
            "tags": []
          }
        }
      ]
    },
    {
      "cell_type": "code",
      "metadata": {
        "colab_type": "code",
        "id": "2UkQkGLbtcb7",
        "colab": {}
      },
      "source": [
        "#model score accuarcy on test data\n",
        "score = model.evaluate(X_test, Y_test, verbose=0)"
      ],
      "execution_count": 0,
      "outputs": []
    },
    {
      "cell_type": "code",
      "metadata": {
        "colab_type": "code",
        "outputId": "32b60ec3-fbde-49c1-c50e-19492387cb5a",
        "id": "-bG6N0KRtcb-",
        "colab": {
          "base_uri": "https://localhost:8080/",
          "height": 34
        }
      },
      "source": [
        "print(score)"
      ],
      "execution_count": 0,
      "outputs": [
        {
          "output_type": "stream",
          "text": [
            "[0.04407113555301885, 0.9884]\n"
          ],
          "name": "stdout"
        }
      ]
    },
    {
      "cell_type": "markdown",
      "metadata": {
        "id": "rKzlEKjrIflx",
        "colab_type": "text"
      },
      "source": [
        "# Maximum Validation Accuracy achieved 99.09% @ 21st epoch with 14.5 K parameters\n",
        "# Batch size 128 size is not helping here"
      ]
    },
    {
      "cell_type": "markdown",
      "metadata": {
        "id": "Ud4KTL8RIs_m",
        "colab_type": "text"
      },
      "source": [
        ""
      ]
    },
    {
      "cell_type": "markdown",
      "metadata": {
        "id": "4BxnwSHquIv7",
        "colab_type": "text"
      },
      "source": [
        "# Change No: 3,  Original batch size = 32 and include Batch Normalization after kernel(3,3), Increased No of epochs  to 50"
      ]
    },
    {
      "cell_type": "code",
      "metadata": {
        "colab_type": "code",
        "outputId": "668ffb4c-5043-461b-f556-689948562797",
        "id": "T6Oi_HIauRRN",
        "colab": {
          "base_uri": "https://localhost:8080/",
          "height": 146
        }
      },
      "source": [
        "from keras.layers import Activation, BatchNormalization\n",
        "\n",
        "model = Sequential() # Sequential model\n",
        " \n",
        "model.add(Convolution2D(16, 3, 3, activation='relu', input_shape=(28,28,1))) # Input Channel dimension= 1, output channel dimension= 16, RF = 3, out_img_size = 26\n",
        "model.add(BatchNormalization())\n",
        "\n",
        "model.add(Convolution2D(32, 3, 3, activation='relu')) # Input Channel dimension= 16, output channel dimension= 32, RF = 5, out_img_size = 24\n",
        "model.add(BatchNormalization())\n",
        "\n",
        "model.add(MaxPooling2D(pool_size = (2, 2))) # Input Channel dimension= 32, output channel dimension= 32, RF = 6, out_img_size = 12\n",
        "model.add(Convolution2D(10, 1, activation='relu')) # Input Channel dimension= 32, output channel dimension= 10, RF = 6, out_img_size = 12\n",
        "\n",
        "model.add(Convolution2D(64, 3, 3, activation='relu'))# Input Channel dimension= 10, output channel dimension= 64, RF = 10, out_img_size = 10\n",
        "model.add(BatchNormalization())\n",
        "\n",
        "model.add(MaxPooling2D(pool_size = (2, 2)))# Input Channel dimension= 64, output channel dimension= 64, RF = 11, out_img_size = 5\n",
        "model.add(Convolution2D(10, 1, activation='relu'))# Input Channel dimension= 64, output channel dimension= 10, RF = 11, out_img_size = 5\n",
        " \n",
        "model.add(Convolution2D(10, 5)) # Input Channel dimension= 10, output channel dimension= 10, RF = 27, out_img_size = 1\n",
        "\n",
        "model.add(Flatten()) #flatten image dimension into 1\n",
        "model.add(Activation('softmax'))# softmax to assign confidence score of each class"
      ],
      "execution_count": 0,
      "outputs": [
        {
          "output_type": "stream",
          "text": [
            "/usr/local/lib/python3.6/dist-packages/ipykernel_launcher.py:5: UserWarning: Update your `Conv2D` call to the Keras 2 API: `Conv2D(16, (3, 3), activation=\"relu\", input_shape=(28, 28, 1...)`\n",
            "  \"\"\"\n",
            "/usr/local/lib/python3.6/dist-packages/ipykernel_launcher.py:8: UserWarning: Update your `Conv2D` call to the Keras 2 API: `Conv2D(32, (3, 3), activation=\"relu\")`\n",
            "  \n",
            "/usr/local/lib/python3.6/dist-packages/ipykernel_launcher.py:14: UserWarning: Update your `Conv2D` call to the Keras 2 API: `Conv2D(64, (3, 3), activation=\"relu\")`\n",
            "  \n"
          ],
          "name": "stderr"
        }
      ]
    },
    {
      "cell_type": "code",
      "metadata": {
        "colab_type": "code",
        "outputId": "73d0842b-953b-4d79-fcbc-1fb39f89fa38",
        "id": "4nPutt15uRRZ",
        "colab": {
          "base_uri": "https://localhost:8080/",
          "height": 617
        }
      },
      "source": [
        "model.summary()"
      ],
      "execution_count": 0,
      "outputs": [
        {
          "output_type": "stream",
          "text": [
            "_________________________________________________________________\n",
            "Layer (type)                 Output Shape              Param #   \n",
            "=================================================================\n",
            "conv2d_37 (Conv2D)           (None, 26, 26, 16)        160       \n",
            "_________________________________________________________________\n",
            "batch_normalization_13 (Batc (None, 26, 26, 16)        64        \n",
            "_________________________________________________________________\n",
            "conv2d_38 (Conv2D)           (None, 24, 24, 32)        4640      \n",
            "_________________________________________________________________\n",
            "batch_normalization_14 (Batc (None, 24, 24, 32)        128       \n",
            "_________________________________________________________________\n",
            "max_pooling2d_13 (MaxPooling (None, 12, 12, 32)        0         \n",
            "_________________________________________________________________\n",
            "conv2d_39 (Conv2D)           (None, 12, 12, 10)        330       \n",
            "_________________________________________________________________\n",
            "conv2d_40 (Conv2D)           (None, 10, 10, 64)        5824      \n",
            "_________________________________________________________________\n",
            "batch_normalization_15 (Batc (None, 10, 10, 64)        256       \n",
            "_________________________________________________________________\n",
            "max_pooling2d_14 (MaxPooling (None, 5, 5, 64)          0         \n",
            "_________________________________________________________________\n",
            "conv2d_41 (Conv2D)           (None, 5, 5, 10)          650       \n",
            "_________________________________________________________________\n",
            "conv2d_42 (Conv2D)           (None, 1, 1, 10)          2510      \n",
            "_________________________________________________________________\n",
            "flatten_7 (Flatten)          (None, 10)                0         \n",
            "_________________________________________________________________\n",
            "activation_7 (Activation)    (None, 10)                0         \n",
            "=================================================================\n",
            "Total params: 14,562\n",
            "Trainable params: 14,338\n",
            "Non-trainable params: 224\n",
            "_________________________________________________________________\n"
          ],
          "name": "stdout"
        }
      ]
    },
    {
      "cell_type": "code",
      "metadata": {
        "colab_type": "code",
        "id": "H8DkG9HguRRk",
        "colab": {}
      },
      "source": [
        "# import callbacks\n",
        "from keras.callbacks import ModelCheckpoint"
      ],
      "execution_count": 0,
      "outputs": []
    },
    {
      "cell_type": "code",
      "metadata": {
        "colab_type": "code",
        "id": "CvTnlxM4uRRr",
        "colab": {}
      },
      "source": [
        "# save best weights \n",
        "final_weights_path = 'best_mnist_cnn_model.h5'"
      ],
      "execution_count": 0,
      "outputs": []
    },
    {
      "cell_type": "code",
      "metadata": {
        "colab_type": "code",
        "id": "tCPRjixOuRR1",
        "colab": {}
      },
      "source": [
        "callbacks_list = [ModelCheckpoint(final_weights_path, monitor='val_acc', verbose = 1,save_best_only = True)]  \n"
      ],
      "execution_count": 0,
      "outputs": []
    },
    {
      "cell_type": "code",
      "metadata": {
        "colab_type": "code",
        "id": "FAcuSe96uRR8",
        "colab": {}
      },
      "source": [
        "# model compilation\n",
        "model.compile(loss='categorical_crossentropy',\n",
        "             optimizer='adam',\n",
        "             metrics=['accuracy'])"
      ],
      "execution_count": 0,
      "outputs": []
    },
    {
      "cell_type": "markdown",
      "metadata": {
        "id": "QDtzQ8z0GAKT",
        "colab_type": "text"
      },
      "source": [
        "# Visualization"
      ]
    },
    {
      "cell_type": "code",
      "metadata": {
        "colab_type": "code",
        "outputId": "956423bf-9a7e-4c00-c53d-6920a0cc7d88",
        "id": "IwqnJ24_wZOl",
        "colab": {
          "base_uri": "https://localhost:8080/",
          "height": 3625
        }
      },
      "source": [
        "# model training\n",
        "history = model.fit(X_train, Y_train, batch_size=32, nb_epoch=50, validation_data=(X_test,Y_test),callbacks = callbacks_list, verbose=1)"
      ],
      "execution_count": 0,
      "outputs": [
        {
          "output_type": "stream",
          "text": [
            "/usr/local/lib/python3.6/dist-packages/ipykernel_launcher.py:1: UserWarning: The `nb_epoch` argument in `fit` has been renamed `epochs`.\n",
            "  \"\"\"Entry point for launching an IPython kernel.\n"
          ],
          "name": "stderr"
        },
        {
          "output_type": "stream",
          "text": [
            "Train on 60000 samples, validate on 10000 samples\n",
            "Epoch 1/50\n",
            "60000/60000 [==============================] - 15s 243us/step - loss: 0.3797 - acc: 0.9373 - val_loss: 0.1414 - val_acc: 0.9823\n",
            "\n",
            "Epoch 00001: val_acc did not improve from 0.99280\n",
            "Epoch 2/50\n",
            "60000/60000 [==============================] - 13s 220us/step - loss: 0.1541 - acc: 0.9695 - val_loss: 0.0843 - val_acc: 0.9850\n",
            "\n",
            "Epoch 00002: val_acc did not improve from 0.99280\n",
            "Epoch 3/50\n",
            "60000/60000 [==============================] - 13s 221us/step - loss: 0.1060 - acc: 0.9766 - val_loss: 0.0542 - val_acc: 0.9880\n",
            "\n",
            "Epoch 00003: val_acc did not improve from 0.99280\n",
            "Epoch 4/50\n",
            "60000/60000 [==============================] - 14s 228us/step - loss: 0.0827 - acc: 0.9809 - val_loss: 0.0426 - val_acc: 0.9899\n",
            "\n",
            "Epoch 00004: val_acc did not improve from 0.99280\n",
            "Epoch 5/50\n",
            "60000/60000 [==============================] - 14s 238us/step - loss: 0.0692 - acc: 0.9836 - val_loss: 0.0389 - val_acc: 0.9907\n",
            "\n",
            "Epoch 00005: val_acc did not improve from 0.99280\n",
            "Epoch 6/50\n",
            "60000/60000 [==============================] - 13s 220us/step - loss: 0.0592 - acc: 0.9856 - val_loss: 0.0390 - val_acc: 0.9896\n",
            "\n",
            "Epoch 00006: val_acc did not improve from 0.99280\n",
            "Epoch 7/50\n",
            "60000/60000 [==============================] - 13s 221us/step - loss: 0.0527 - acc: 0.9869 - val_loss: 0.0353 - val_acc: 0.9904\n",
            "\n",
            "Epoch 00007: val_acc did not improve from 0.99280\n",
            "Epoch 8/50\n",
            "60000/60000 [==============================] - 13s 221us/step - loss: 0.0476 - acc: 0.9879 - val_loss: 0.0306 - val_acc: 0.9905\n",
            "\n",
            "Epoch 00008: val_acc did not improve from 0.99280\n",
            "Epoch 9/50\n",
            "60000/60000 [==============================] - 13s 221us/step - loss: 0.0433 - acc: 0.9888 - val_loss: 0.0302 - val_acc: 0.9918\n",
            "\n",
            "Epoch 00009: val_acc did not improve from 0.99280\n",
            "Epoch 10/50\n",
            "60000/60000 [==============================] - 14s 229us/step - loss: 0.0391 - acc: 0.9897 - val_loss: 0.0328 - val_acc: 0.9896\n",
            "\n",
            "Epoch 00010: val_acc did not improve from 0.99280\n",
            "Epoch 11/50\n",
            "60000/60000 [==============================] - 14s 236us/step - loss: 0.0368 - acc: 0.9906 - val_loss: 0.0248 - val_acc: 0.9929\n",
            "\n",
            "Epoch 00011: val_acc improved from 0.99280 to 0.99290, saving model to best_mnist_cnn_model.h5\n",
            "Epoch 12/50\n",
            "60000/60000 [==============================] - 15s 244us/step - loss: 0.0344 - acc: 0.9908 - val_loss: 0.0265 - val_acc: 0.9915\n",
            "\n",
            "Epoch 00012: val_acc did not improve from 0.99290\n",
            "Epoch 13/50\n",
            "60000/60000 [==============================] - 14s 226us/step - loss: 0.0316 - acc: 0.9915 - val_loss: 0.0291 - val_acc: 0.9915\n",
            "\n",
            "Epoch 00013: val_acc did not improve from 0.99290\n",
            "Epoch 14/50\n",
            "60000/60000 [==============================] - 14s 227us/step - loss: 0.0297 - acc: 0.9920 - val_loss: 0.0285 - val_acc: 0.9922\n",
            "\n",
            "Epoch 00014: val_acc did not improve from 0.99290\n",
            "Epoch 15/50\n",
            "60000/60000 [==============================] - 14s 228us/step - loss: 0.0284 - acc: 0.9923 - val_loss: 0.0255 - val_acc: 0.9916\n",
            "\n",
            "Epoch 00015: val_acc did not improve from 0.99290\n",
            "Epoch 16/50\n",
            "60000/60000 [==============================] - 14s 239us/step - loss: 0.0272 - acc: 0.9928 - val_loss: 0.0266 - val_acc: 0.9917\n",
            "\n",
            "Epoch 00016: val_acc did not improve from 0.99290\n",
            "Epoch 17/50\n",
            "60000/60000 [==============================] - 14s 225us/step - loss: 0.0244 - acc: 0.9934 - val_loss: 0.0270 - val_acc: 0.9923\n",
            "\n",
            "Epoch 00017: val_acc did not improve from 0.99290\n",
            "Epoch 18/50\n",
            "60000/60000 [==============================] - 13s 221us/step - loss: 0.0235 - acc: 0.9940 - val_loss: 0.0238 - val_acc: 0.9928\n",
            "\n",
            "Epoch 00018: val_acc did not improve from 0.99290\n",
            "Epoch 19/50\n",
            "60000/60000 [==============================] - 13s 221us/step - loss: 0.0224 - acc: 0.9942 - val_loss: 0.0299 - val_acc: 0.9908\n",
            "\n",
            "Epoch 00019: val_acc did not improve from 0.99290\n",
            "Epoch 20/50\n",
            "60000/60000 [==============================] - 13s 221us/step - loss: 0.0214 - acc: 0.9942 - val_loss: 0.0244 - val_acc: 0.9929\n",
            "\n",
            "Epoch 00020: val_acc did not improve from 0.99290\n",
            "Epoch 21/50\n",
            "60000/60000 [==============================] - 13s 221us/step - loss: 0.0210 - acc: 0.9941 - val_loss: 0.0209 - val_acc: 0.9924\n",
            "\n",
            "Epoch 00021: val_acc did not improve from 0.99290\n",
            "Epoch 22/50\n",
            "60000/60000 [==============================] - 14s 240us/step - loss: 0.0201 - acc: 0.9945 - val_loss: 0.0237 - val_acc: 0.9933\n",
            "\n",
            "Epoch 00022: val_acc improved from 0.99290 to 0.99330, saving model to best_mnist_cnn_model.h5\n",
            "Epoch 23/50\n",
            "60000/60000 [==============================] - 13s 225us/step - loss: 0.0197 - acc: 0.9945 - val_loss: 0.0252 - val_acc: 0.9918\n",
            "\n",
            "Epoch 00023: val_acc did not improve from 0.99330\n",
            "Epoch 24/50\n",
            "60000/60000 [==============================] - 13s 221us/step - loss: 0.0187 - acc: 0.9950 - val_loss: 0.0274 - val_acc: 0.9913\n",
            "\n",
            "Epoch 00024: val_acc did not improve from 0.99330\n",
            "Epoch 25/50\n",
            "60000/60000 [==============================] - 13s 221us/step - loss: 0.0177 - acc: 0.9954 - val_loss: 0.0256 - val_acc: 0.9916\n",
            "\n",
            "Epoch 00025: val_acc did not improve from 0.99330\n",
            "Epoch 26/50\n",
            "60000/60000 [==============================] - 13s 221us/step - loss: 0.0170 - acc: 0.9952 - val_loss: 0.0289 - val_acc: 0.9908\n",
            "\n",
            "Epoch 00026: val_acc did not improve from 0.99330\n",
            "Epoch 27/50\n",
            "60000/60000 [==============================] - 13s 221us/step - loss: 0.0159 - acc: 0.9958 - val_loss: 0.0278 - val_acc: 0.9920\n",
            "\n",
            "Epoch 00027: val_acc did not improve from 0.99330\n",
            "Epoch 28/50\n",
            "60000/60000 [==============================] - 15s 242us/step - loss: 0.0168 - acc: 0.9956 - val_loss: 0.0293 - val_acc: 0.9912\n",
            "\n",
            "Epoch 00028: val_acc did not improve from 0.99330\n",
            "Epoch 29/50\n",
            "60000/60000 [==============================] - 13s 222us/step - loss: 0.0144 - acc: 0.9961 - val_loss: 0.0252 - val_acc: 0.9921\n",
            "\n",
            "Epoch 00029: val_acc did not improve from 0.99330\n",
            "Epoch 30/50\n",
            "60000/60000 [==============================] - 13s 221us/step - loss: 0.0161 - acc: 0.9957 - val_loss: 0.0234 - val_acc: 0.9922\n",
            "\n",
            "Epoch 00030: val_acc did not improve from 0.99330\n",
            "Epoch 31/50\n",
            "60000/60000 [==============================] - 13s 221us/step - loss: 0.0131 - acc: 0.9964 - val_loss: 0.0263 - val_acc: 0.9921\n",
            "\n",
            "Epoch 00031: val_acc did not improve from 0.99330\n",
            "Epoch 32/50\n",
            "60000/60000 [==============================] - 13s 221us/step - loss: 0.0140 - acc: 0.9962 - val_loss: 0.0284 - val_acc: 0.9907\n",
            "\n",
            "Epoch 00032: val_acc did not improve from 0.99330\n",
            "Epoch 33/50\n",
            "60000/60000 [==============================] - 13s 220us/step - loss: 0.0142 - acc: 0.9962 - val_loss: 0.0272 - val_acc: 0.9906\n",
            "\n",
            "Epoch 00033: val_acc did not improve from 0.99330\n",
            "Epoch 34/50\n",
            "60000/60000 [==============================] - 15s 243us/step - loss: 0.0130 - acc: 0.9967 - val_loss: 0.0234 - val_acc: 0.9928\n",
            "\n",
            "Epoch 00034: val_acc did not improve from 0.99330\n",
            "Epoch 35/50\n",
            "60000/60000 [==============================] - 15s 249us/step - loss: 0.0129 - acc: 0.9964 - val_loss: 0.0321 - val_acc: 0.9910\n",
            "\n",
            "Epoch 00035: val_acc did not improve from 0.99330\n",
            "Epoch 36/50\n",
            "60000/60000 [==============================] - 13s 221us/step - loss: 0.0126 - acc: 0.9967 - val_loss: 0.0257 - val_acc: 0.9923\n",
            "\n",
            "Epoch 00036: val_acc did not improve from 0.99330\n",
            "Epoch 37/50\n",
            "60000/60000 [==============================] - 14s 234us/step - loss: 0.0117 - acc: 0.9969 - val_loss: 0.0255 - val_acc: 0.9922\n",
            "\n",
            "Epoch 00037: val_acc did not improve from 0.99330\n",
            "Epoch 38/50\n",
            "60000/60000 [==============================] - 13s 221us/step - loss: 0.0119 - acc: 0.9967 - val_loss: 0.0279 - val_acc: 0.9923\n",
            "\n",
            "Epoch 00038: val_acc did not improve from 0.99330\n",
            "Epoch 39/50\n",
            "60000/60000 [==============================] - 13s 220us/step - loss: 0.0114 - acc: 0.9969 - val_loss: 0.0243 - val_acc: 0.9920\n",
            "\n",
            "Epoch 00039: val_acc did not improve from 0.99330\n",
            "Epoch 40/50\n",
            "60000/60000 [==============================] - 15s 244us/step - loss: 0.0115 - acc: 0.9970 - val_loss: 0.0291 - val_acc: 0.9906\n",
            "\n",
            "Epoch 00040: val_acc did not improve from 0.99330\n",
            "Epoch 41/50\n",
            "60000/60000 [==============================] - 13s 221us/step - loss: 0.0101 - acc: 0.9972 - val_loss: 0.0249 - val_acc: 0.9918\n",
            "\n",
            "Epoch 00041: val_acc did not improve from 0.99330\n",
            "Epoch 42/50\n",
            "60000/60000 [==============================] - 13s 220us/step - loss: 0.0110 - acc: 0.9969 - val_loss: 0.0253 - val_acc: 0.9931\n",
            "\n",
            "Epoch 00042: val_acc did not improve from 0.99330\n",
            "Epoch 43/50\n",
            "60000/60000 [==============================] - 13s 220us/step - loss: 0.0110 - acc: 0.9968 - val_loss: 0.0248 - val_acc: 0.9925\n",
            "\n",
            "Epoch 00043: val_acc did not improve from 0.99330\n",
            "Epoch 44/50\n",
            "60000/60000 [==============================] - 13s 221us/step - loss: 0.0113 - acc: 0.9966 - val_loss: 0.0227 - val_acc: 0.9930\n",
            "\n",
            "Epoch 00044: val_acc did not improve from 0.99330\n",
            "Epoch 45/50\n",
            "60000/60000 [==============================] - 13s 221us/step - loss: 0.0091 - acc: 0.9976 - val_loss: 0.0245 - val_acc: 0.9923\n",
            "\n",
            "Epoch 00045: val_acc did not improve from 0.99330\n",
            "Epoch 46/50\n",
            "60000/60000 [==============================] - 15s 243us/step - loss: 0.0107 - acc: 0.9970 - val_loss: 0.0251 - val_acc: 0.9917\n",
            "\n",
            "Epoch 00046: val_acc did not improve from 0.99330\n",
            "Epoch 47/50\n",
            "60000/60000 [==============================] - 13s 221us/step - loss: 0.0091 - acc: 0.9977 - val_loss: 0.0273 - val_acc: 0.9925\n",
            "\n",
            "Epoch 00047: val_acc did not improve from 0.99330\n",
            "Epoch 48/50\n",
            "60000/60000 [==============================] - 13s 221us/step - loss: 0.0092 - acc: 0.9976 - val_loss: 0.0230 - val_acc: 0.9935\n",
            "\n",
            "Epoch 00048: val_acc improved from 0.99330 to 0.99350, saving model to best_mnist_cnn_model.h5\n",
            "Epoch 49/50\n",
            "60000/60000 [==============================] - 13s 221us/step - loss: 0.0093 - acc: 0.9972 - val_loss: 0.0284 - val_acc: 0.9915\n",
            "\n",
            "Epoch 00049: val_acc did not improve from 0.99350\n",
            "Epoch 50/50\n",
            "60000/60000 [==============================] - 13s 221us/step - loss: 0.0084 - acc: 0.9980 - val_loss: 0.0229 - val_acc: 0.9928\n",
            "\n",
            "Epoch 00050: val_acc did not improve from 0.99350\n"
          ],
          "name": "stdout"
        }
      ]
    },
    {
      "cell_type": "code",
      "metadata": {
        "colab_type": "code",
        "outputId": "9501efc5-4b04-4999-b045-f1333af46a97",
        "id": "Wh0zYifdwZO0",
        "colab": {
          "base_uri": "https://localhost:8080/",
          "height": 268
        }
      },
      "source": [
        "plt.plot(history.history['acc'],'r')\n",
        "plt.plot(history.history['val_acc'],'b')\n",
        "plt.legend({'training accuracy':'r', 'validation accuracy': 'b'})\n",
        "plt.show()"
      ],
      "execution_count": 0,
      "outputs": [
        {
          "output_type": "display_data",
          "data": {
            "image/png": "[encoded data removed]",
            "text/plain": [
              "<Figure size 432x288 with 1 Axes>"
            ]
          },
          "metadata": {
            "tags": []
          }
        }
      ]
    },
    {
      "cell_type": "code",
      "metadata": {
        "colab_type": "code",
        "outputId": "3953ae1c-3a66-4d9a-b42a-fe41f1be7b23",
        "id": "eFiGBRIfwZO5",
        "colab": {
          "base_uri": "https://localhost:8080/",
          "height": 268
        }
      },
      "source": [
        "plt.plot(history.history['loss'],'r')\n",
        "plt.plot(history.history['val_loss'],'b')\n",
        "plt.legend({'training loss':'r', 'validation loss': 'b'})\n",
        "plt.show()"
      ],
      "execution_count": 0,
      "outputs": [
        {
          "output_type": "display_data",
          "data": {
            "image/png": "[encoded data removed]",
            "text/plain": [
              "<Figure size 432x288 with 1 Axes>"
            ]
          },
          "metadata": {
            "tags": []
          }
        }
      ]
    },
    {
      "cell_type": "code",
      "metadata": {
        "colab_type": "code",
        "id": "uUlN0EDRwZO9",
        "colab": {}
      },
      "source": [
        "#model score accuarcy on test data\n",
        "score = model.evaluate(X_test, Y_test, verbose=0)"
      ],
      "execution_count": 0,
      "outputs": []
    },
    {
      "cell_type": "code",
      "metadata": {
        "colab_type": "code",
        "outputId": "15556494-5abe-411d-cbc7-2e8d60c84f61",
        "id": "Nz9M8eXewZO_",
        "colab": {
          "base_uri": "https://localhost:8080/",
          "height": 34
        }
      },
      "source": [
        "print(score)"
      ],
      "execution_count": 0,
      "outputs": [
        {
          "output_type": "stream",
          "text": [
            "[0.022910703869312418, 0.9928]\n"
          ],
          "name": "stdout"
        }
      ]
    },
    {
      "cell_type": "markdown",
      "metadata": {
        "id": "G5ZnXD_PIyAh",
        "colab_type": "text"
      },
      "source": [
        "# Maximum Validation Accuracy achieved 99.35% @ 48th epoch with 14.5 K parameters\n",
        "# Batch size 32 size along with batch normalization and more epochs counts helped\n",
        "# Let's forward this network in 4th notebook"
      ]
    }
  ]
}
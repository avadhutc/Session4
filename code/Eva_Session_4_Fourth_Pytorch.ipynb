{
  "nbformat": 4,
  "nbformat_minor": 0,
  "metadata": {
    "colab": {
      "name": "Eva_Session_4_Fourth_Pytorch.ipynb",
      "version": "0.3.2",
      "provenance": [],
      "collapsed_sections": [],
      "include_colab_link": true
    },
    "kernelspec": {
      "name": "python3",
      "display_name": "Python 3"
    },
    "accelerator": "GPU"
  },
  "cells": [
    {
      "cell_type": "markdown",
      "metadata": {
        "id": "view-in-github",
        "colab_type": "text"
      },
      "source": [
        "<a href=\"https://colab.research.google.com/github/avadhutc/Session4/blob/master/code/Eva_Session_4_Fourth_Pytorch.ipynb\" target=\"_parent\"><img src=\"https://colab.research.google.com/assets/colab-badge.svg\" alt=\"Open In Colab\"/></a>"
      ]
    },
    {
      "cell_type": "markdown",
      "metadata": {
        "id": "2oHciwvYI5tO",
        "colab_type": "text"
      },
      "source": [
        "## This Pytorch notebook implementation similar to Keras fourth notebook\n",
        "### This notebook uses:\n",
        "#### 1. batch size 128\n",
        "#### 2. Epochs =50\n",
        "#### 3. Reduce Lr on Plateau\n",
        "#### 4. BatchNormalization\n",
        "#### 5. Dropout(0.2)"
      ]
    },
    {
      "cell_type": "code",
      "metadata": {
        "id": "NkjPeSO0I3hX",
        "colab_type": "code",
        "colab": {}
      },
      "source": [
        "# import torch and torchvision package for use\n",
        "import torch\n",
        "import torchvision\n",
        "import torchvision.transforms as transforms"
      ],
      "execution_count": 0,
      "outputs": []
    },
    {
      "cell_type": "code",
      "metadata": {
        "id": "2ZNlKnEQLxwc",
        "colab_type": "code",
        "outputId": "9096e88c-2004-4e06-e99e-5af0fca6381b",
        "colab": {
          "base_uri": "https://localhost:8080/",
          "height": 35
        }
      },
      "source": [
        "device = torch.device(\"cuda:0\" if torch.cuda.is_available() else \"cpu\")\n",
        "\n",
        "# Assuming that we are on a CUDA machine, this should print a CUDA device:\n",
        "\n",
        "print(device)"
      ],
      "execution_count": 118,
      "outputs": [
        {
          "output_type": "stream",
          "text": [
            "cuda:0\n"
          ],
          "name": "stdout"
        }
      ]
    },
    {
      "cell_type": "code",
      "metadata": {
        "id": "NqsFFrMvlCxc",
        "colab_type": "code",
        "colab": {}
      },
      "source": [
        " \n",
        "batch_size = 128\n",
        "batch_size_train = 128\n",
        "batch_size_test = 128\n",
        "learning_rate = 0.01\n",
        "## global mean and std (0.1307,), (0.3081,)\n",
        "# normalize training and test dataset between 0 and 1\n",
        "transform = transforms.Compose([transforms.ToTensor(),\n",
        "                               transforms.Normalize((0.1307,), (0.3081,))])\n",
        "trainset = torchvision.datasets.MNIST(root='./data', train= True,\n",
        "                                      download= True, transform=transform)\n",
        "trainloader = torch.utils.data.DataLoader(trainset, batch_size = batch_size, shuffle=True)\n",
        "\n",
        "testset = torchvision.datasets.MNIST(root='./data', train= False,\n",
        "                                      download= True, transform=transform)\n",
        "testloader = torch.utils.data.DataLoader(testset, batch_size = batch_size, shuffle=False)\n",
        "\n",
        "image_datasets = {\n",
        "    'train': trainset,    \n",
        "    'validation': testset    \n",
        "}\n",
        "\n",
        "dataloaders = {\n",
        "    'train': torch.utils.data.DataLoader(image_datasets['train'], batch_size = batch_size, shuffle=True),    \n",
        "    'validation': torch.utils.data.DataLoader(image_datasets['validation'], batch_size = batch_size, shuffle=False)\n",
        "}\n",
        "\n",
        "classes = ('0', '1', '2', '3',\n",
        "          '4', '5', '6', '7', '8', '9')"
      ],
      "execution_count": 0,
      "outputs": []
    },
    {
      "cell_type": "code",
      "metadata": {
        "id": "IrVRehIbtZF1",
        "colab_type": "code",
        "colab": {}
      },
      "source": [
        "examples = enumerate(testloader)\n",
        "batch_idx, (example_data, example_targets) = next(examples)"
      ],
      "execution_count": 0,
      "outputs": []
    },
    {
      "cell_type": "code",
      "metadata": {
        "id": "89ReeIbPtd9U",
        "colab_type": "code",
        "outputId": "9f16d691-962c-49d5-ebcb-ded88b262d8f",
        "colab": {
          "base_uri": "https://localhost:8080/",
          "height": 35
        }
      },
      "source": [
        "example_data.shape"
      ],
      "execution_count": 109,
      "outputs": [
        {
          "output_type": "execute_result",
          "data": {
            "text/plain": [
              "torch.Size([128, 1, 28, 28])"
            ]
          },
          "metadata": {
            "tags": []
          },
          "execution_count": 109
        }
      ]
    },
    {
      "cell_type": "code",
      "metadata": {
        "id": "EwheO8qstjjD",
        "colab_type": "code",
        "outputId": "e6a8fa62-0134-4194-ed14-abe25ef0bf5e",
        "colab": {
          "base_uri": "https://localhost:8080/",
          "height": 285
        }
      },
      "source": [
        "import matplotlib.pyplot as plt\n",
        "\n",
        "fig = plt.figure()\n",
        "for i in range(6):\n",
        "  plt.subplot(2,3,i+1)\n",
        "  plt.tight_layout()\n",
        "  plt.imshow(example_data[i][0], cmap='gray', interpolation='none')\n",
        "  plt.title(\"Ground Truth: {}\".format(example_targets[i]))\n",
        "  plt.xticks([])\n",
        "  plt.yticks([])\n",
        "  fig"
      ],
      "execution_count": 110,
      "outputs": [
        {
          "output_type": "display_data",
          "data": {
            "image/png": "[encoded data removed]",
            "text/plain": [
              "<Figure size 432x288 with 6 Axes>"
            ]
          },
          "metadata": {
            "tags": []
          }
        }
      ]
    },
    {
      "cell_type": "code",
      "metadata": {
        "id": "8kNxLQxKtkHm",
        "colab_type": "code",
        "colab": {}
      },
      "source": [
        ""
      ],
      "execution_count": 0,
      "outputs": []
    },
    {
      "cell_type": "code",
      "metadata": {
        "id": "ya4yhPZbtkKy",
        "colab_type": "code",
        "colab": {}
      },
      "source": [
        ""
      ],
      "execution_count": 0,
      "outputs": []
    },
    {
      "cell_type": "code",
      "metadata": {
        "id": "17JqVt0dlC0B",
        "colab_type": "code",
        "outputId": "fb4e2465-08e8-4f88-a468-4f6100e0eb91",
        "colab": {
          "base_uri": "https://localhost:8080/",
          "height": 325
        }
      },
      "source": [
        "import matplotlib.pyplot as plt# import pyplot alias plt for plotting\n",
        "import numpy as np # import numpy package alias np\n",
        "\n",
        "# functions ti show an image\n",
        "\n",
        "def imshow(img): \n",
        "  img = img/2 + 0.5 # unnormalize\n",
        "  npimg = img.numpy()\n",
        "  plt.imshow(np.transpose(npimg, (1, 2, 0)))\n",
        "  plt.show() # display image\n",
        "  \n",
        "  \n",
        "#get some random training images\n",
        "dataiter = iter(trainloader)\n",
        "images,labels = dataiter.next()\n",
        "\n",
        "# show images\n",
        "imshow(torchvision.utils.make_grid(images))\n",
        "# print labels\n",
        "print(' '.join('%5s' % classes[labels[j]] for j in range(32)))"
      ],
      "execution_count": 111,
      "outputs": [
        {
          "output_type": "stream",
          "text": [
            "Clipping input data to the valid range for imshow with RGB data ([0..1] for floats or [0..255] for integers).\n"
          ],
          "name": "stderr"
        },
        {
          "output_type": "display_data",
          "data": {
            "image/png": "[encoded data removed]",
            "text/plain": [
              "<Figure size 432x288 with 1 Axes>"
            ]
          },
          "metadata": {
            "tags": []
          }
        },
        {
          "output_type": "stream",
          "text": [
            "    4     7     3     6     0     3     9     9     4     1     9     6     7     1     8     1     6     1     5     1     0     1     0     1     4     2     9     4     3     0     7     8\n"
          ],
          "name": "stdout"
        }
      ]
    },
    {
      "cell_type": "code",
      "metadata": {
        "id": "HkH8Xc6AlC2Y",
        "colab_type": "code",
        "colab": {}
      },
      "source": [
        ""
      ],
      "execution_count": 0,
      "outputs": []
    },
    {
      "cell_type": "code",
      "metadata": {
        "id": "ySOkBQiuFLav",
        "colab_type": "code",
        "colab": {}
      },
      "source": [
        "import torch.nn as nn\n",
        "import torch.nn.functional as F\n",
        "from torchsummary import summary"
      ],
      "execution_count": 0,
      "outputs": []
    },
    {
      "cell_type": "code",
      "metadata": {
        "id": "50WZ81H9FOLt",
        "colab_type": "code",
        "outputId": "b8c68bf2-4c58-4fde-9790-c56eab4ced8d",
        "colab": {
          "base_uri": "https://localhost:8080/",
          "height": 619
        }
      },
      "source": [
        "class Net(nn.Module):\n",
        "        def __init__(self):\n",
        "          super(Net, self).__init__()        \n",
        "          self.conv1 = nn.Sequential(nn.Conv2d(1, 16, kernel_size=3, stride=1, padding=0), nn.ReLU()) # Input Channel dimension= 1, output channel dimension= 32, RF = 3        \n",
        "          self.bnrm1 = nn.Sequential(nn.BatchNorm2d(16))\n",
        "          self.drop1 = nn.Sequential(nn.Dropout2d(0.2))\n",
        "          self.conv2 = nn.Sequential(nn.Conv2d(16, 32, kernel_size=3, stride=1, padding=0), nn.ReLU())# Input Channel dimension= 16, output channel dimension= 32, RF = 5\n",
        "          self.bnrm2 = nn.Sequential(nn.BatchNorm2d(32))\n",
        "          self.drop2 = nn.Sequential(nn.Dropout2d(0.2))\n",
        "          self.pool1 = nn.Sequential(nn.MaxPool2d(kernel_size=2, stride=2))# Input Channel dimension= 32, output channel dimension= 32, RF = 6\n",
        "          self.conv3 = nn.Sequential(nn.Conv2d(32, 10, kernel_size=1, stride=1, padding=0), nn.ReLU())  # Input Channel dimension= 32, output channel dimension= 10, RF = 6       \n",
        "          self.conv4 = nn.Sequential(nn.Conv2d(10, 64, kernel_size=3, stride=1, padding=0), nn.ReLU())# Input Channel dimension= 10, output channel dimension= 64, RF = 10\n",
        "          self.bnrm3 = nn.Sequential(nn.BatchNorm2d(64))\n",
        "          self.drop3 = nn.Sequential(nn.Dropout2d(0.2))\n",
        "          self.pool2 = nn.Sequential(nn.MaxPool2d(kernel_size=2, stride=2))# Input Channel dimension= 64, output channel dimension= 64, RF = 11\n",
        "          self.conv5 = nn.Sequential(nn.Conv2d(64, 10, kernel_size=1, stride=1, padding=0)) # Input Channel dimension= 64, output channel dimension= 10, RF = 11   \n",
        "          self.conv6 = nn.Sequential(nn.Conv2d(10, 10, kernel_size=5, stride=1, padding=0)) # Input Channel dimension= 10, output channel dimension= 10, RF = 11 + 8 + 8 = 27               \n",
        "          \n",
        "          \n",
        "        def forward(self, x):\n",
        "          x = self.conv1(x)\n",
        "          x = self.bnrm1(x)\n",
        "          x = self.drop1(x)\n",
        "          x = self.conv2(x)\n",
        "          x = self.bnrm2(x)\n",
        "          x = self.drop2(x)\n",
        "          x = self.pool1(x)\n",
        "          x = self.conv3(x)\n",
        "          x = self.conv4(x)\n",
        "          x = self.bnrm3(x)\n",
        "          x = self.drop3(x)\n",
        "          x = self.pool2(x)\n",
        "          x = self.conv5(x)\n",
        "          x = self.conv6(x)\n",
        "          \n",
        "          x = x.reshape(x.size(0), -1) #flatten image dimension into 1\n",
        "          \n",
        "          #print(x.size(0))\n",
        "          #x = x.view(x.size(0), -1)# or x = x.view(32, -1) as batch_size=32 or x.view(x.size(0), -1)\n",
        "          \n",
        "          x = F.log_softmax(x)# softmax to assign confidence score of each class\n",
        "          return x\n",
        "        \n",
        "model = Net().to(device)\n",
        "summary(model, (1, 28, 28))    \n"
      ],
      "execution_count": 122,
      "outputs": [
        {
          "output_type": "stream",
          "text": [
            "----------------------------------------------------------------\n",
            "        Layer (type)               Output Shape         Param #\n",
            "================================================================\n",
            "            Conv2d-1           [-1, 16, 26, 26]             160\n",
            "              ReLU-2           [-1, 16, 26, 26]               0\n",
            "       BatchNorm2d-3           [-1, 16, 26, 26]              32\n",
            "         Dropout2d-4           [-1, 16, 26, 26]               0\n",
            "            Conv2d-5           [-1, 32, 24, 24]           4,640\n",
            "              ReLU-6           [-1, 32, 24, 24]               0\n",
            "       BatchNorm2d-7           [-1, 32, 24, 24]              64\n",
            "         Dropout2d-8           [-1, 32, 24, 24]               0\n",
            "         MaxPool2d-9           [-1, 32, 12, 12]               0\n",
            "           Conv2d-10           [-1, 10, 12, 12]             330\n",
            "             ReLU-11           [-1, 10, 12, 12]               0\n",
            "           Conv2d-12           [-1, 64, 10, 10]           5,824\n",
            "             ReLU-13           [-1, 64, 10, 10]               0\n",
            "      BatchNorm2d-14           [-1, 64, 10, 10]             128\n",
            "        Dropout2d-15           [-1, 64, 10, 10]               0\n",
            "        MaxPool2d-16             [-1, 64, 5, 5]               0\n",
            "           Conv2d-17             [-1, 10, 5, 5]             650\n",
            "           Conv2d-18             [-1, 10, 1, 1]           2,510\n",
            "================================================================\n",
            "Total params: 14,338\n",
            "Trainable params: 14,338\n",
            "Non-trainable params: 0\n",
            "----------------------------------------------------------------\n",
            "Input size (MB): 0.00\n",
            "Forward/backward pass size (MB): 1.16\n",
            "Params size (MB): 0.05\n",
            "Estimated Total Size (MB): 1.22\n",
            "----------------------------------------------------------------\n"
          ],
          "name": "stdout"
        },
        {
          "output_type": "stream",
          "text": [
            "/usr/local/lib/python3.6/dist-packages/ipykernel_launcher.py:41: UserWarning: Implicit dimension choice for log_softmax has been deprecated. Change the call to include dim=X as an argument.\n"
          ],
          "name": "stderr"
        }
      ]
    },
    {
      "cell_type": "code",
      "metadata": {
        "id": "uWumAS_HlC94",
        "colab_type": "code",
        "colab": {}
      },
      "source": [
        "log_interval = 200\n",
        "import torch.optim as optim\n",
        "from torch.optim.lr_scheduler import ReduceLROnPlateau\n",
        "import time\n",
        "import copy\n",
        "\n",
        "criterion = nn.CrossEntropyLoss()   ## cross entropy loss\n",
        "optimizer = optim.Adam(model.parameters(), lr=0.003,betas=(0.9, 0.999), eps=1e-8,weight_decay=0, amsgrad=False )##adam optimizer, learning rate = 1e-3\n",
        "\n",
        "scheduler = optim.lr_scheduler.ReduceLROnPlateau(\n",
        "    optimizer,mode='max', patience=7, factor=0.1,  verbose=True)"
      ],
      "execution_count": 0,
      "outputs": []
    },
    {
      "cell_type": "code",
      "metadata": {
        "id": "9ZpAyIkGlDAV",
        "colab_type": "code",
        "colab": {}
      },
      "source": [
        "##loop over 50 epochs, one batch has 32 samples, avg loss and accuracy printed over 3200 samples\n",
        "log_interval = 200\n",
        "def train_model(model, criterion, optimizer, num_epochs=3):\n",
        "      for epoch in range(0, num_epochs):  #loop over the dataset multiple times\n",
        "              print('Epoch {}/{}'.format(epoch+1, num_epochs))\n",
        "              print('-' * 10)\n",
        "        \n",
        "              for phase in ['train', 'validation']:\n",
        "                  if phase == 'train':\n",
        "                      model.train()\n",
        "                  else:\n",
        "                      model.eval()\n",
        "\n",
        "                  running_loss = 0.0\n",
        "                  running_corrects = 0\n",
        "                  correct = 0\n",
        "                  total = 0\n",
        "                  \n",
        "                  for batch_idx, data in enumerate(dataloaders[phase], 0):\n",
        "                      #get the inputs\n",
        "                      inputs, labels = data\n",
        "\n",
        "                      inputs, labels = inputs.to(device), labels.to(device)\n",
        "                      \n",
        "                      # Clear gradients w.r.t. parameters\n",
        "                      #optimizer.zero_grad()\n",
        "                      \n",
        "                      #forward + backward _ optimize\n",
        "                      outputs = model(inputs)\n",
        "                      loss = criterion(outputs, labels)\n",
        "                      \n",
        "                      if phase == 'train':\n",
        "                          #zero the parameter gradients\n",
        "                          optimizer.zero_grad()\n",
        "                          # Backpropagation\n",
        "                          loss.backward()\n",
        "                          optimizer.step()\n",
        "\n",
        "                      _, preds = torch.max(outputs, 1)\n",
        "                      running_loss += loss.detach() * inputs.size(0)\n",
        "                      running_corrects += torch.sum(preds == labels.data)\n",
        "                  \n",
        "                  epoch_loss = running_loss / len(image_datasets[phase])\n",
        "                  epoch_acc = running_corrects.float() / len(image_datasets[phase])\n",
        "\n",
        "                  print('{} loss: {:.4f}, acc: {:.4f}'.format(phase,\n",
        "                                                        epoch_loss.item(),\n",
        "       \n",
        "                                                              epoch_acc.item()))\n",
        "                  print('-'*20)\n",
        "                  scheduler.step(epoch_acc)\n",
        "      return model          "
      ],
      "execution_count": 0,
      "outputs": []
    },
    {
      "cell_type": "code",
      "metadata": {
        "id": "3nyj0o-XlDC8",
        "colab_type": "code",
        "outputId": "efca5265-c842-44a3-efbb-0691d800b226",
        "colab": {
          "base_uri": "https://localhost:8080/",
          "height": 5619
        }
      },
      "source": [
        "model_trained = train_model(model, criterion, optimizer, num_epochs=50)"
      ],
      "execution_count": 125,
      "outputs": [
        {
          "output_type": "stream",
          "text": [
            "Epoch 1/50\n",
            "----------\n"
          ],
          "name": "stdout"
        },
        {
          "output_type": "stream",
          "text": [
            "/usr/local/lib/python3.6/dist-packages/ipykernel_launcher.py:41: UserWarning: Implicit dimension choice for log_softmax has been deprecated. Change the call to include dim=X as an argument.\n"
          ],
          "name": "stderr"
        },
        {
          "output_type": "stream",
          "text": [
            "train loss: 0.1783, acc: 0.9480\n",
            "--------------------\n",
            "validation loss: 0.0548, acc: 0.9814\n",
            "--------------------\n",
            "Epoch 2/50\n",
            "----------\n",
            "train loss: 0.0711, acc: 0.9787\n",
            "--------------------\n",
            "validation loss: 0.0370, acc: 0.9872\n",
            "--------------------\n",
            "Epoch 3/50\n",
            "----------\n",
            "train loss: 0.0590, acc: 0.9823\n",
            "--------------------\n",
            "validation loss: 0.0359, acc: 0.9886\n",
            "--------------------\n",
            "Epoch 4/50\n",
            "----------\n",
            "train loss: 0.0525, acc: 0.9835\n",
            "--------------------\n",
            "validation loss: 0.0393, acc: 0.9878\n",
            "--------------------\n",
            "Epoch 5/50\n",
            "----------\n",
            "train loss: 0.0460, acc: 0.9861\n",
            "--------------------\n",
            "validation loss: 0.0332, acc: 0.9893\n",
            "--------------------\n",
            "Epoch 6/50\n",
            "----------\n",
            "train loss: 0.0420, acc: 0.9873\n",
            "--------------------\n",
            "validation loss: 0.0296, acc: 0.9894\n",
            "--------------------\n",
            "Epoch 7/50\n",
            "----------\n",
            "train loss: 0.0384, acc: 0.9879\n",
            "--------------------\n",
            "validation loss: 0.0313, acc: 0.9909\n",
            "--------------------\n",
            "Epoch 8/50\n",
            "----------\n",
            "train loss: 0.0373, acc: 0.9887\n",
            "--------------------\n",
            "validation loss: 0.0279, acc: 0.9905\n",
            "--------------------\n",
            "Epoch 9/50\n",
            "----------\n",
            "train loss: 0.0362, acc: 0.9887\n",
            "--------------------\n",
            "validation loss: 0.0283, acc: 0.9911\n",
            "--------------------\n",
            "Epoch 10/50\n",
            "----------\n",
            "train loss: 0.0331, acc: 0.9899\n",
            "--------------------\n",
            "validation loss: 0.0319, acc: 0.9892\n",
            "--------------------\n",
            "Epoch 11/50\n",
            "----------\n",
            "train loss: 0.0320, acc: 0.9900\n",
            "--------------------\n",
            "validation loss: 0.0261, acc: 0.9912\n",
            "--------------------\n",
            "Epoch 12/50\n",
            "----------\n",
            "train loss: 0.0301, acc: 0.9905\n",
            "--------------------\n",
            "validation loss: 0.0268, acc: 0.9914\n",
            "--------------------\n",
            "Epoch 13/50\n",
            "----------\n",
            "train loss: 0.0293, acc: 0.9909\n",
            "--------------------\n",
            "validation loss: 0.0270, acc: 0.9912\n",
            "--------------------\n",
            "Epoch 14/50\n",
            "----------\n",
            "train loss: 0.0282, acc: 0.9912\n",
            "--------------------\n",
            "validation loss: 0.0279, acc: 0.9913\n",
            "--------------------\n",
            "Epoch 15/50\n",
            "----------\n",
            "train loss: 0.0282, acc: 0.9914\n",
            "--------------------\n",
            "validation loss: 0.0272, acc: 0.9922\n",
            "--------------------\n",
            "Epoch 16/50\n",
            "----------\n",
            "train loss: 0.0285, acc: 0.9906\n",
            "--------------------\n",
            "validation loss: 0.0272, acc: 0.9922\n",
            "--------------------\n",
            "Epoch 17/50\n",
            "----------\n",
            "train loss: 0.0263, acc: 0.9916\n",
            "--------------------\n",
            "validation loss: 0.0308, acc: 0.9902\n",
            "--------------------\n",
            "Epoch 18/50\n",
            "----------\n",
            "train loss: 0.0267, acc: 0.9913\n",
            "--------------------\n",
            "validation loss: 0.0267, acc: 0.9916\n",
            "--------------------\n",
            "Epoch 19/50\n",
            "----------\n",
            "train loss: 0.0254, acc: 0.9917\n",
            "--------------------\n",
            "validation loss: 0.0293, acc: 0.9915\n",
            "--------------------\n",
            "Epoch    37: reducing learning rate of group 0 to 3.0000e-04.\n",
            "Epoch 20/50\n",
            "----------\n",
            "train loss: 0.0166, acc: 0.9947\n",
            "--------------------\n",
            "validation loss: 0.0225, acc: 0.9931\n",
            "--------------------\n",
            "Epoch 21/50\n",
            "----------\n",
            "train loss: 0.0144, acc: 0.9952\n",
            "--------------------\n",
            "validation loss: 0.0225, acc: 0.9936\n",
            "--------------------\n",
            "Epoch 22/50\n",
            "----------\n",
            "train loss: 0.0146, acc: 0.9950\n",
            "--------------------\n",
            "validation loss: 0.0222, acc: 0.9933\n",
            "--------------------\n",
            "Epoch 23/50\n",
            "----------\n",
            "train loss: 0.0128, acc: 0.9957\n",
            "--------------------\n",
            "validation loss: 0.0216, acc: 0.9938\n",
            "--------------------\n",
            "Epoch 24/50\n",
            "----------\n",
            "train loss: 0.0119, acc: 0.9964\n",
            "--------------------\n",
            "validation loss: 0.0212, acc: 0.9940\n",
            "--------------------\n",
            "Epoch 25/50\n",
            "----------\n",
            "train loss: 0.0112, acc: 0.9964\n",
            "--------------------\n",
            "validation loss: 0.0216, acc: 0.9936\n",
            "--------------------\n",
            "Epoch 26/50\n",
            "----------\n",
            "train loss: 0.0119, acc: 0.9961\n",
            "--------------------\n",
            "validation loss: 0.0221, acc: 0.9935\n",
            "--------------------\n",
            "Epoch 27/50\n",
            "----------\n",
            "train loss: 0.0114, acc: 0.9964\n",
            "--------------------\n",
            "validation loss: 0.0218, acc: 0.9934\n",
            "--------------------\n",
            "Epoch 28/50\n",
            "----------\n",
            "train loss: 0.0116, acc: 0.9963\n",
            "--------------------\n",
            "Epoch    54: reducing learning rate of group 0 to 3.0000e-05.\n",
            "validation loss: 0.0224, acc: 0.9932\n",
            "--------------------\n",
            "Epoch 29/50\n",
            "----------\n",
            "train loss: 0.0104, acc: 0.9967\n",
            "--------------------\n",
            "validation loss: 0.0221, acc: 0.9929\n",
            "--------------------\n",
            "Epoch 30/50\n",
            "----------\n",
            "train loss: 0.0101, acc: 0.9968\n",
            "--------------------\n",
            "validation loss: 0.0221, acc: 0.9932\n",
            "--------------------\n",
            "Epoch 31/50\n",
            "----------\n",
            "train loss: 0.0103, acc: 0.9965\n",
            "--------------------\n",
            "validation loss: 0.0219, acc: 0.9932\n",
            "--------------------\n",
            "Epoch 32/50\n",
            "----------\n",
            "train loss: 0.0099, acc: 0.9968\n",
            "--------------------\n",
            "validation loss: 0.0220, acc: 0.9931\n",
            "--------------------\n",
            "Epoch 33/50\n",
            "----------\n",
            "train loss: 0.0098, acc: 0.9968\n",
            "--------------------\n",
            "validation loss: 0.0220, acc: 0.9931\n",
            "--------------------\n",
            "Epoch 34/50\n",
            "----------\n",
            "train loss: 0.0098, acc: 0.9967\n",
            "--------------------\n",
            "Epoch    66: reducing learning rate of group 0 to 3.0000e-06.\n",
            "validation loss: 0.0220, acc: 0.9931\n",
            "--------------------\n",
            "Epoch 35/50\n",
            "----------\n",
            "train loss: 0.0097, acc: 0.9972\n",
            "--------------------\n",
            "validation loss: 0.0220, acc: 0.9933\n",
            "--------------------\n",
            "Epoch 36/50\n",
            "----------\n",
            "train loss: 0.0096, acc: 0.9970\n",
            "--------------------\n",
            "validation loss: 0.0220, acc: 0.9932\n",
            "--------------------\n",
            "Epoch 37/50\n",
            "----------\n",
            "train loss: 0.0098, acc: 0.9967\n",
            "--------------------\n",
            "validation loss: 0.0220, acc: 0.9931\n",
            "--------------------\n",
            "Epoch 38/50\n",
            "----------\n",
            "train loss: 0.0092, acc: 0.9967\n",
            "--------------------\n",
            "validation loss: 0.0221, acc: 0.9934\n",
            "--------------------\n",
            "Epoch 39/50\n",
            "----------\n",
            "train loss: 0.0095, acc: 0.9970\n",
            "--------------------\n",
            "Epoch    76: reducing learning rate of group 0 to 3.0000e-07.\n",
            "validation loss: 0.0221, acc: 0.9933\n",
            "--------------------\n",
            "Epoch 40/50\n",
            "----------\n",
            "train loss: 0.0101, acc: 0.9966\n",
            "--------------------\n",
            "validation loss: 0.0221, acc: 0.9936\n",
            "--------------------\n",
            "Epoch 41/50\n",
            "----------\n",
            "train loss: 0.0097, acc: 0.9968\n",
            "--------------------\n",
            "validation loss: 0.0221, acc: 0.9935\n",
            "--------------------\n",
            "Epoch 42/50\n",
            "----------\n",
            "train loss: 0.0102, acc: 0.9966\n",
            "--------------------\n",
            "validation loss: 0.0221, acc: 0.9932\n",
            "--------------------\n",
            "Epoch 43/50\n",
            "----------\n",
            "train loss: 0.0097, acc: 0.9968\n",
            "--------------------\n",
            "Epoch    84: reducing learning rate of group 0 to 3.0000e-08.\n",
            "validation loss: 0.0221, acc: 0.9933\n",
            "--------------------\n",
            "Epoch 44/50\n",
            "----------\n",
            "train loss: 0.0092, acc: 0.9969\n",
            "--------------------\n",
            "validation loss: 0.0221, acc: 0.9932\n",
            "--------------------\n",
            "Epoch 45/50\n",
            "----------\n",
            "train loss: 0.0099, acc: 0.9969\n",
            "--------------------\n",
            "validation loss: 0.0221, acc: 0.9934\n",
            "--------------------\n",
            "Epoch 46/50\n",
            "----------\n",
            "train loss: 0.0096, acc: 0.9971\n",
            "--------------------\n",
            "validation loss: 0.0221, acc: 0.9931\n",
            "--------------------\n",
            "Epoch 47/50\n",
            "----------\n",
            "train loss: 0.0096, acc: 0.9970\n",
            "--------------------\n",
            "Epoch    92: reducing learning rate of group 0 to 3.0000e-09.\n",
            "validation loss: 0.0221, acc: 0.9933\n",
            "--------------------\n",
            "Epoch 48/50\n",
            "----------\n",
            "train loss: 0.0102, acc: 0.9966\n",
            "--------------------\n",
            "validation loss: 0.0221, acc: 0.9930\n",
            "--------------------\n",
            "Epoch 49/50\n",
            "----------\n",
            "train loss: 0.0097, acc: 0.9970\n",
            "--------------------\n",
            "validation loss: 0.0221, acc: 0.9931\n",
            "--------------------\n",
            "Epoch 50/50\n",
            "----------\n",
            "train loss: 0.0093, acc: 0.9971\n",
            "--------------------\n",
            "validation loss: 0.0221, acc: 0.9935\n",
            "--------------------\n"
          ],
          "name": "stdout"
        }
      ]
    },
    {
      "cell_type": "code",
      "metadata": {
        "id": "4v1R9HdzlDFm",
        "colab_type": "code",
        "outputId": "76b353ec-079e-48fc-b170-ef7b526dc7dc",
        "colab": {
          "base_uri": "https://localhost:8080/",
          "height": 74
        }
      },
      "source": [
        "#model score accuarcy on test data\n",
        "correct = 0\n",
        "total = 0\n",
        "with torch.no_grad():\n",
        "  for data in testloader:\n",
        "    images, labels = data\n",
        "    images = images.to(device)\n",
        "    labels = labels.to(device)\n",
        "    outputs = model(images)\n",
        "    \n",
        "    _, predicted = torch.max(outputs.data, 1)\n",
        "    total += labels.size(0)\n",
        "    correct += (predicted == labels).sum().item()\n",
        "    \n",
        "print('Accuracy of the network on the 10000 test images: %.6f %%' % (100 * correct / total))"
      ],
      "execution_count": 126,
      "outputs": [
        {
          "output_type": "stream",
          "text": [
            "/usr/local/lib/python3.6/dist-packages/ipykernel_launcher.py:41: UserWarning: Implicit dimension choice for log_softmax has been deprecated. Change the call to include dim=X as an argument.\n"
          ],
          "name": "stderr"
        },
        {
          "output_type": "stream",
          "text": [
            "Accuracy of the network on the 10000 test images: 99.350000 %\n"
          ],
          "name": "stdout"
        }
      ]
    },
    {
      "cell_type": "markdown",
      "metadata": {
        "id": "SQDaRrukIVvq",
        "colab_type": "text"
      },
      "source": [
        "## Maximum Validation Accuracy achieved 99.40% @ 24th epoch with 14.3K parameters"
      ]
    }
  ]
}
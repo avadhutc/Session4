{
  "nbformat": 4,
  "nbformat_minor": 0,
  "metadata": {
    "colab": {
      "name": "EVA_Session_4_Second_Keras.ipynb",
      "version": "0.3.2",
      "provenance": [],
      "collapsed_sections": [],
      "include_colab_link": true
    },
    "kernelspec": {
      "name": "python3",
      "display_name": "Python 3"
    },
    "accelerator": "GPU"
  },
  "cells": [
    {
      "cell_type": "markdown",
      "metadata": {
        "id": "view-in-github",
        "colab_type": "text"
      },
      "source": [
        "<a href=\"https://colab.research.google.com/github/avadhutc/Session4/blob/master/code/EVA_Session_4_Second_Keras.ipynb\" target=\"_parent\"><img src=\"https://colab.research.google.com/assets/colab-badge.svg\" alt=\"Open In Colab\"/></a>"
      ]
    },
    {
      "cell_type": "markdown",
      "metadata": {
        "id": "aNyZv-Ec52ot",
        "colab_type": "text"
      },
      "source": [
        "# Change No: 1    Vanilla Network with Parameters less than 15K \n",
        "## Parameters reduced with reducing no of kernels(3,3) to 16 in one of middle layer\n",
        "## No of kernels(3,3) in layers as follow: 15, 32, 16, 64"
      ]
    },
    {
      "cell_type": "markdown",
      "metadata": {
        "id": "B65u6Wzi8HJR",
        "colab_type": "text"
      },
      "source": [
        "# **Import Libraries and modules**"
      ]
    },
    {
      "cell_type": "code",
      "metadata": {
        "id": "3m3w1Cw49Zkt",
        "colab_type": "code",
        "outputId": "53b571d3-ec30-40d1-b29a-22034b6b4d2d",
        "colab": {
          "base_uri": "https://localhost:8080/",
          "height": 34
        }
      },
      "source": [
        "# https://keras.io/\n",
        "!pip install -q keras # install keras package\n",
        "import keras # import keras package for use"
      ],
      "execution_count": 0,
      "outputs": [
        {
          "output_type": "stream",
          "text": [
            "Using TensorFlow backend.\n"
          ],
          "name": "stderr"
        }
      ]
    },
    {
      "cell_type": "code",
      "metadata": {
        "id": "Eso6UHE080D4",
        "colab_type": "code",
        "colab": {}
      },
      "source": [
        "import numpy as np # import numpy package alias np\n",
        "\n",
        "from keras.models import Sequential # import Sequential flow to build model\n",
        "from keras.layers import Flatten # import flatten layer to convert any dimensional layer into one di\n",
        "from keras.layers import Convolution2D, MaxPooling2D # for doing convolution and maxpooling on image \n",
        "from keras.utils import np_utils # utility functions\n",
        "\n",
        "from keras.datasets import mnist# import mnist dataset\n",
        "from matplotlib import pyplot as plt # import pyplot alias plt for plotting\n",
        "#%matplotlib inline # print results in notebook cells"
      ],
      "execution_count": 0,
      "outputs": []
    },
    {
      "cell_type": "markdown",
      "metadata": {
        "id": "zByEi95J86RD",
        "colab_type": "text"
      },
      "source": [
        "### Load pre-shuffled MNIST data into train and test sets"
      ]
    },
    {
      "cell_type": "code",
      "metadata": {
        "id": "7eRM0QWN83PV",
        "colab_type": "code",
        "colab": {}
      },
      "source": [
        "(X_train, y_train), (X_test, y_test) = mnist.load_data()# download mnist dataset and load for training and testing sets"
      ],
      "execution_count": 0,
      "outputs": []
    },
    {
      "cell_type": "code",
      "metadata": {
        "id": "4a4Be72j8-ZC",
        "colab_type": "code",
        "outputId": "a4a2214e-9920-496e-e920-3f5534aff0da",
        "colab": {
          "base_uri": "https://localhost:8080/",
          "height": 304
        }
      },
      "source": [
        "print (X_train.shape) # print shape of X_train dataset\n",
        " \n",
        "\n",
        "\n",
        "plt.imshow(X_train[0]) # display image"
      ],
      "execution_count": 0,
      "outputs": [
        {
          "output_type": "stream",
          "text": [
            "(60000, 28, 28)\n"
          ],
          "name": "stdout"
        },
        {
          "output_type": "execute_result",
          "data": {
            "text/plain": [
              "<matplotlib.image.AxesImage at 0x7f793631c978>"
            ]
          },
          "metadata": {
            "tags": []
          },
          "execution_count": 4
        },
        {
          "output_type": "display_data",
          "data": {
            "image/png": "[encoded data removed]",
            "text/plain": [
              "<Figure size 432x288 with 1 Axes>"
            ]
          },
          "metadata": {
            "tags": []
          }
        }
      ]
    },
    {
      "cell_type": "code",
      "metadata": {
        "id": "dkmprriw9AnZ",
        "colab_type": "code",
        "colab": {}
      },
      "source": [
        "X_train = X_train.reshape(X_train.shape[0], 28, 28,1) # reshape or arrange train dataset for all images with 1 channel \n",
        "X_test = X_test.reshape(X_test.shape[0], 28, 28,1)# reshape or arrange test dataset for all images with 1 channel"
      ],
      "execution_count": 0,
      "outputs": []
    },
    {
      "cell_type": "code",
      "metadata": {
        "id": "X2m4YS4E9CRh",
        "colab_type": "code",
        "colab": {}
      },
      "source": [
        "X_train = X_train.astype('float32') # set datatype of training dataset as float32\n",
        "X_test = X_test.astype('float32')# set datatype of test dataset as float32\n",
        "X_train /= 255 # normalize training dataset between 0 and 1\n",
        "X_test /= 255 # normalize tes dataset between 0 and 1"
      ],
      "execution_count": 0,
      "outputs": []
    },
    {
      "cell_type": "code",
      "metadata": {
        "id": "0Mn0vAYD9DvB",
        "colab_type": "code",
        "outputId": "740acc83-3f7e-48e9-89d2-d99339468469",
        "colab": {
          "base_uri": "https://localhost:8080/",
          "height": 34
        }
      },
      "source": [
        "y_train[:10] # training set labels"
      ],
      "execution_count": 0,
      "outputs": [
        {
          "output_type": "execute_result",
          "data": {
            "text/plain": [
              "array([5, 0, 4, 1, 9, 2, 1, 3, 1, 4], dtype=uint8)"
            ]
          },
          "metadata": {
            "tags": []
          },
          "execution_count": 7
        }
      ]
    },
    {
      "cell_type": "code",
      "metadata": {
        "id": "ZG8JiXR39FHC",
        "colab_type": "code",
        "colab": {}
      },
      "source": [
        "# Convert 1-dimensional class arrays to 10-dimensional class matrices\n",
        "Y_train = np_utils.to_categorical(y_train, 10)# convert train labels into one-hot encodings\n",
        "Y_test = np_utils.to_categorical(y_test, 10)# convert test labels into one-hot encodings"
      ],
      "execution_count": 0,
      "outputs": []
    },
    {
      "cell_type": "code",
      "metadata": {
        "id": "fYlFRvKS9HMB",
        "colab_type": "code",
        "outputId": "911b4e2d-18d0-4348-be09-4ab1092a5c08",
        "colab": {
          "base_uri": "https://localhost:8080/",
          "height": 194
        }
      },
      "source": [
        "Y_train[:10]# print first 10 train labels\n"
      ],
      "execution_count": 0,
      "outputs": [
        {
          "output_type": "execute_result",
          "data": {
            "text/plain": [
              "array([[0., 0., 0., 0., 0., 1., 0., 0., 0., 0.],\n",
              "       [1., 0., 0., 0., 0., 0., 0., 0., 0., 0.],\n",
              "       [0., 0., 0., 0., 1., 0., 0., 0., 0., 0.],\n",
              "       [0., 1., 0., 0., 0., 0., 0., 0., 0., 0.],\n",
              "       [0., 0., 0., 0., 0., 0., 0., 0., 0., 1.],\n",
              "       [0., 0., 1., 0., 0., 0., 0., 0., 0., 0.],\n",
              "       [0., 1., 0., 0., 0., 0., 0., 0., 0., 0.],\n",
              "       [0., 0., 0., 1., 0., 0., 0., 0., 0., 0.],\n",
              "       [0., 1., 0., 0., 0., 0., 0., 0., 0., 0.],\n",
              "       [0., 0., 0., 0., 1., 0., 0., 0., 0., 0.]], dtype=float32)"
            ]
          },
          "metadata": {
            "tags": []
          },
          "execution_count": 9
        }
      ]
    },
    {
      "cell_type": "code",
      "metadata": {
        "colab_type": "code",
        "outputId": "750e3a61-afc7-4560-bf44-6f5dea105281",
        "id": "PJIzAxm98HvS",
        "colab": {
          "base_uri": "https://localhost:8080/",
          "height": 178
        }
      },
      "source": [
        "from keras.layers import Activation, BatchNormalization\n",
        "\n",
        "model = Sequential() # Sequential model\n",
        " \n",
        "model.add(Convolution2D(15, 3, 3, activation='relu', input_shape=(28,28,1))) # Input Channel dimension= 1, output channel dimension= 15, RF = 3, out_img_size = 26\n",
        "\n",
        "model.add(Convolution2D(32, 3, 3, activation='relu')) # Input Channel dimension= 15, output channel dimension= 32, RF = 5, out_img_size = 24\n",
        "\n",
        "model.add(MaxPooling2D(pool_size = (2, 2))) # Input Channel dimension= 32, output channel dimension= 32, RF = 6, out_img_size = 12\n",
        "model.add(Convolution2D(10, 1, activation='relu')) # Input Channel dimension= 32, output channel dimension= 10, RF = 6, out_img_size = 12\n",
        "\n",
        "model.add(Convolution2D(16, 3, 3, activation='relu'))# Input Channel dimension= 10, output channel dimension= 16, RF = 10, out_img_size = 10\n",
        "\n",
        "model.add(Convolution2D(10, 1, activation='relu'))# Input Channel dimension= 16, output channel dimension= 10, RF = 10, out_img_size = 10\n",
        "\n",
        "model.add(Convolution2D(64, 3, 3, activation='relu'))# Input Channel dimension= 10, output channel dimension= 64, RF = 14, out_img_size = 8\n",
        "\n",
        "model.add(MaxPooling2D(pool_size = (2, 2)))# Input Channel dimension= 64, output channel dimension= 64, RF = 15, out_img_size = 4\n",
        "model.add(Convolution2D(10, 1, activation='relu'))# Input Channel dimension= 64, output channel dimension= 10, RF = 15, out_img_size = 4\n",
        " \n",
        "model.add(Convolution2D(10, 4)) # Input Channel dimension= 10, output channel dimension= 10, RF = 27, out_img_size = 1\n",
        "\n",
        "model.add(Flatten()) #flatten image dimension into 1\n",
        "model.add(Activation('softmax'))# softmax to assign confidence score of each class"
      ],
      "execution_count": 0,
      "outputs": [
        {
          "output_type": "stream",
          "text": [
            "/usr/local/lib/python3.6/dist-packages/ipykernel_launcher.py:5: UserWarning: Update your `Conv2D` call to the Keras 2 API: `Conv2D(15, (3, 3), activation=\"relu\", input_shape=(28, 28, 1...)`\n",
            "  \"\"\"\n",
            "/usr/local/lib/python3.6/dist-packages/ipykernel_launcher.py:6: UserWarning: Update your `Conv2D` call to the Keras 2 API: `Conv2D(32, (3, 3), activation=\"relu\")`\n",
            "  \n",
            "/usr/local/lib/python3.6/dist-packages/ipykernel_launcher.py:11: UserWarning: Update your `Conv2D` call to the Keras 2 API: `Conv2D(16, (3, 3), activation=\"relu\")`\n",
            "  # This is added back by InteractiveShellApp.init_path()\n",
            "/usr/local/lib/python3.6/dist-packages/ipykernel_launcher.py:13: UserWarning: Update your `Conv2D` call to the Keras 2 API: `Conv2D(64, (3, 3), activation=\"relu\")`\n",
            "  del sys.path[0]\n"
          ],
          "name": "stderr"
        }
      ]
    },
    {
      "cell_type": "code",
      "metadata": {
        "colab_type": "code",
        "outputId": "48d707f5-34de-4712-c513-048ebf6cce3c",
        "id": "AGZSY5ps8Hvj",
        "colab": {
          "base_uri": "https://localhost:8080/",
          "height": 567
        }
      },
      "source": [
        "model.summary()"
      ],
      "execution_count": 0,
      "outputs": [
        {
          "output_type": "stream",
          "text": [
            "_________________________________________________________________\n",
            "Layer (type)                 Output Shape              Param #   \n",
            "=================================================================\n",
            "conv2d_83 (Conv2D)           (None, 26, 26, 15)        150       \n",
            "_________________________________________________________________\n",
            "conv2d_84 (Conv2D)           (None, 24, 24, 32)        4352      \n",
            "_________________________________________________________________\n",
            "max_pooling2d_22 (MaxPooling (None, 12, 12, 32)        0         \n",
            "_________________________________________________________________\n",
            "conv2d_85 (Conv2D)           (None, 12, 12, 10)        330       \n",
            "_________________________________________________________________\n",
            "conv2d_86 (Conv2D)           (None, 10, 10, 16)        1456      \n",
            "_________________________________________________________________\n",
            "conv2d_87 (Conv2D)           (None, 10, 10, 10)        170       \n",
            "_________________________________________________________________\n",
            "conv2d_88 (Conv2D)           (None, 8, 8, 64)          5824      \n",
            "_________________________________________________________________\n",
            "max_pooling2d_23 (MaxPooling (None, 4, 4, 64)          0         \n",
            "_________________________________________________________________\n",
            "conv2d_89 (Conv2D)           (None, 4, 4, 10)          650       \n",
            "_________________________________________________________________\n",
            "conv2d_90 (Conv2D)           (None, 1, 1, 10)          1610      \n",
            "_________________________________________________________________\n",
            "flatten_10 (Flatten)         (None, 10)                0         \n",
            "_________________________________________________________________\n",
            "activation_10 (Activation)   (None, 10)                0         \n",
            "=================================================================\n",
            "Total params: 14,542\n",
            "Trainable params: 14,542\n",
            "Non-trainable params: 0\n",
            "_________________________________________________________________\n"
          ],
          "name": "stdout"
        }
      ]
    },
    {
      "cell_type": "code",
      "metadata": {
        "id": "KZam8Hq6lyN8",
        "colab_type": "code",
        "colab": {}
      },
      "source": [
        "# import callbacks\n",
        "from keras.callbacks import ModelCheckpoint"
      ],
      "execution_count": 0,
      "outputs": []
    },
    {
      "cell_type": "code",
      "metadata": {
        "id": "eoYiClnul61n",
        "colab_type": "code",
        "colab": {}
      },
      "source": [
        "# save best weights \n",
        "final_weights_path = 'best_mnist_cnn_model.h5'"
      ],
      "execution_count": 0,
      "outputs": []
    },
    {
      "cell_type": "code",
      "metadata": {
        "id": "eT4ip7U1l_kj",
        "colab_type": "code",
        "colab": {}
      },
      "source": [
        "callbacks_list = [ModelCheckpoint(final_weights_path, monitor='val_acc', verbose = 1,save_best_only = True)]  \n"
      ],
      "execution_count": 0,
      "outputs": []
    },
    {
      "cell_type": "code",
      "metadata": {
        "colab_type": "code",
        "id": "pEMg8GiG8Hvt",
        "colab": {}
      },
      "source": [
        "# model compilation\n",
        "model.compile(loss='categorical_crossentropy',\n",
        "             optimizer='adam',\n",
        "             metrics=['accuracy'])"
      ],
      "execution_count": 0,
      "outputs": []
    },
    {
      "cell_type": "code",
      "metadata": {
        "colab_type": "code",
        "outputId": "ea339aad-1651-42c1-c652-fc48fecc5ef5",
        "id": "nx6l2OaS8Hvx",
        "colab": {
          "base_uri": "https://localhost:8080/",
          "height": 2276
        }
      },
      "source": [
        "# model training\n",
        "history = model.fit(X_train, Y_train, batch_size=32, nb_epoch=30, validation_data=(X_test,Y_test),callbacks = callbacks_list, verbose=1)"
      ],
      "execution_count": 0,
      "outputs": [
        {
          "output_type": "stream",
          "text": [
            "WARNING:tensorflow:From /usr/local/lib/python3.6/dist-packages/tensorflow/python/ops/math_ops.py:3066: to_int32 (from tensorflow.python.ops.math_ops) is deprecated and will be removed in a future version.\n",
            "Instructions for updating:\n",
            "Use tf.cast instead.\n"
          ],
          "name": "stdout"
        },
        {
          "output_type": "stream",
          "text": [
            "/usr/local/lib/python3.6/dist-packages/ipykernel_launcher.py:1: UserWarning: The `nb_epoch` argument in `fit` has been renamed `epochs`.\n",
            "  \"\"\"Entry point for launching an IPython kernel.\n"
          ],
          "name": "stderr"
        },
        {
          "output_type": "stream",
          "text": [
            "Train on 60000 samples, validate on 10000 samples\n",
            "Epoch 1/30\n",
            "60000/60000 [==============================] - 13s 218us/step - loss: 0.2057 - acc: 0.9361 - val_loss: 0.0871 - val_acc: 0.9731\n",
            "\n",
            "Epoch 00001: val_acc improved from -inf to 0.97310, saving model to best_mnist_cnn_model.h5\n",
            "Epoch 2/30\n",
            "60000/60000 [==============================] - 11s 181us/step - loss: 0.0720 - acc: 0.9776 - val_loss: 0.0551 - val_acc: 0.9823\n",
            "\n",
            "Epoch 00002: val_acc improved from 0.97310 to 0.98230, saving model to best_mnist_cnn_model.h5\n",
            "Epoch 3/30\n",
            "60000/60000 [==============================] - 11s 181us/step - loss: 0.0567 - acc: 0.9827 - val_loss: 0.0420 - val_acc: 0.9869\n",
            "\n",
            "Epoch 00003: val_acc improved from 0.98230 to 0.98690, saving model to best_mnist_cnn_model.h5\n",
            "Epoch 4/30\n",
            "60000/60000 [==============================] - 11s 181us/step - loss: 0.0480 - acc: 0.9848 - val_loss: 0.0343 - val_acc: 0.9873\n",
            "\n",
            "Epoch 00004: val_acc improved from 0.98690 to 0.98730, saving model to best_mnist_cnn_model.h5\n",
            "Epoch 5/30\n",
            "60000/60000 [==============================] - 11s 181us/step - loss: 0.0405 - acc: 0.9875 - val_loss: 0.0464 - val_acc: 0.9847\n",
            "\n",
            "Epoch 00005: val_acc did not improve from 0.98730\n",
            "Epoch 6/30\n",
            "60000/60000 [==============================] - 11s 181us/step - loss: 0.0370 - acc: 0.9887 - val_loss: 0.0479 - val_acc: 0.9837\n",
            "\n",
            "Epoch 00006: val_acc did not improve from 0.98730\n",
            "Epoch 7/30\n",
            "60000/60000 [==============================] - 12s 203us/step - loss: 0.0323 - acc: 0.9896 - val_loss: 0.0412 - val_acc: 0.9866\n",
            "\n",
            "Epoch 00007: val_acc did not improve from 0.98730\n",
            "Epoch 8/30\n",
            "60000/60000 [==============================] - 11s 183us/step - loss: 0.0287 - acc: 0.9910 - val_loss: 0.0296 - val_acc: 0.9890\n",
            "\n",
            "Epoch 00008: val_acc improved from 0.98730 to 0.98900, saving model to best_mnist_cnn_model.h5\n",
            "Epoch 9/30\n",
            "60000/60000 [==============================] - 11s 181us/step - loss: 0.0254 - acc: 0.9920 - val_loss: 0.0330 - val_acc: 0.9883\n",
            "\n",
            "Epoch 00009: val_acc did not improve from 0.98900\n",
            "Epoch 10/30\n",
            "60000/60000 [==============================] - 11s 182us/step - loss: 0.0241 - acc: 0.9925 - val_loss: 0.0353 - val_acc: 0.9879\n",
            "\n",
            "Epoch 00010: val_acc did not improve from 0.98900\n",
            "Epoch 11/30\n",
            "60000/60000 [==============================] - 11s 180us/step - loss: 0.0221 - acc: 0.9928 - val_loss: 0.0350 - val_acc: 0.9890\n",
            "\n",
            "Epoch 00011: val_acc did not improve from 0.98900\n",
            "Epoch 12/30\n",
            "60000/60000 [==============================] - 12s 203us/step - loss: 0.0202 - acc: 0.9932 - val_loss: 0.0312 - val_acc: 0.9902\n",
            "\n",
            "Epoch 00012: val_acc improved from 0.98900 to 0.99020, saving model to best_mnist_cnn_model.h5\n",
            "Epoch 13/30\n",
            "60000/60000 [==============================] - 11s 187us/step - loss: 0.0187 - acc: 0.9940 - val_loss: 0.0352 - val_acc: 0.9894\n",
            "\n",
            "Epoch 00013: val_acc did not improve from 0.99020\n",
            "Epoch 14/30\n",
            "60000/60000 [==============================] - 12s 198us/step - loss: 0.0175 - acc: 0.9943 - val_loss: 0.0347 - val_acc: 0.9899\n",
            "\n",
            "Epoch 00014: val_acc did not improve from 0.99020\n",
            "Epoch 15/30\n",
            "60000/60000 [==============================] - 11s 186us/step - loss: 0.0164 - acc: 0.9943 - val_loss: 0.0382 - val_acc: 0.9892\n",
            "\n",
            "Epoch 00015: val_acc did not improve from 0.99020\n",
            "Epoch 16/30\n",
            "60000/60000 [==============================] - 11s 180us/step - loss: 0.0156 - acc: 0.9948 - val_loss: 0.0419 - val_acc: 0.9890\n",
            "\n",
            "Epoch 00016: val_acc did not improve from 0.99020\n",
            "Epoch 17/30\n",
            "60000/60000 [==============================] - 11s 181us/step - loss: 0.0151 - acc: 0.9951 - val_loss: 0.0318 - val_acc: 0.9908\n",
            "\n",
            "Epoch 00017: val_acc improved from 0.99020 to 0.99080, saving model to best_mnist_cnn_model.h5\n",
            "Epoch 18/30\n",
            "60000/60000 [==============================] - 11s 180us/step - loss: 0.0135 - acc: 0.9955 - val_loss: 0.0405 - val_acc: 0.9886\n",
            "\n",
            "Epoch 00018: val_acc did not improve from 0.99080\n",
            "Epoch 19/30\n",
            "60000/60000 [==============================] - 11s 180us/step - loss: 0.0129 - acc: 0.9957 - val_loss: 0.0351 - val_acc: 0.9896\n",
            "\n",
            "Epoch 00019: val_acc did not improve from 0.99080\n",
            "Epoch 20/30\n",
            "60000/60000 [==============================] - 12s 195us/step - loss: 0.0127 - acc: 0.9958 - val_loss: 0.0363 - val_acc: 0.9895\n",
            "\n",
            "Epoch 00020: val_acc did not improve from 0.99080\n",
            "Epoch 21/30\n",
            "60000/60000 [==============================] - 12s 193us/step - loss: 0.0120 - acc: 0.9960 - val_loss: 0.0373 - val_acc: 0.9897\n",
            "\n",
            "Epoch 00021: val_acc did not improve from 0.99080\n",
            "Epoch 22/30\n",
            "60000/60000 [==============================] - 11s 191us/step - loss: 0.0117 - acc: 0.9960 - val_loss: 0.0367 - val_acc: 0.9895\n",
            "\n",
            "Epoch 00022: val_acc did not improve from 0.99080\n",
            "Epoch 23/30\n",
            "60000/60000 [==============================] - 11s 180us/step - loss: 0.0108 - acc: 0.9965 - val_loss: 0.0403 - val_acc: 0.9899\n",
            "\n",
            "Epoch 00023: val_acc did not improve from 0.99080\n",
            "Epoch 24/30\n",
            "60000/60000 [==============================] - 11s 179us/step - loss: 0.0105 - acc: 0.9967 - val_loss: 0.0488 - val_acc: 0.9881\n",
            "\n",
            "Epoch 00024: val_acc did not improve from 0.99080\n",
            "Epoch 25/30\n",
            "60000/60000 [==============================] - 11s 181us/step - loss: 0.0096 - acc: 0.9967 - val_loss: 0.0528 - val_acc: 0.9891\n",
            "\n",
            "Epoch 00025: val_acc did not improve from 0.99080\n",
            "Epoch 26/30\n",
            "60000/60000 [==============================] - 11s 181us/step - loss: 0.0096 - acc: 0.9968 - val_loss: 0.0446 - val_acc: 0.9894\n",
            "\n",
            "Epoch 00026: val_acc did not improve from 0.99080\n",
            "Epoch 27/30\n",
            "60000/60000 [==============================] - 11s 180us/step - loss: 0.0103 - acc: 0.9965 - val_loss: 0.0499 - val_acc: 0.9891\n",
            "\n",
            "Epoch 00027: val_acc did not improve from 0.99080\n",
            "Epoch 28/30\n",
            "60000/60000 [==============================] - 11s 184us/step - loss: 0.0103 - acc: 0.9967 - val_loss: 0.0505 - val_acc: 0.9890\n",
            "\n",
            "Epoch 00028: val_acc did not improve from 0.99080\n",
            "Epoch 29/30\n",
            "60000/60000 [==============================] - 12s 200us/step - loss: 0.0093 - acc: 0.9970 - val_loss: 0.0429 - val_acc: 0.9887\n",
            "\n",
            "Epoch 00029: val_acc did not improve from 0.99080\n",
            "Epoch 30/30\n",
            "60000/60000 [==============================] - 11s 180us/step - loss: 0.0084 - acc: 0.9971 - val_loss: 0.0520 - val_acc: 0.9886\n",
            "\n",
            "Epoch 00030: val_acc did not improve from 0.99080\n"
          ],
          "name": "stdout"
        }
      ]
    },
    {
      "cell_type": "markdown",
      "metadata": {
        "id": "pemqueNR-YGK",
        "colab_type": "text"
      },
      "source": [
        "# Visualization"
      ]
    },
    {
      "cell_type": "code",
      "metadata": {
        "id": "gSIHq50me60q",
        "colab_type": "code",
        "outputId": "c964c351-149a-4bc9-c6d4-526529a89e06",
        "colab": {
          "base_uri": "https://localhost:8080/",
          "height": 268
        }
      },
      "source": [
        "plt.plot(history.history['acc'],'r')\n",
        "plt.plot(history.history['val_acc'],'b')\n",
        "plt.legend({'training accuracy':'r', 'validation accuracy': 'b'})\n",
        "plt.show()"
      ],
      "execution_count": 0,
      "outputs": [
        {
          "output_type": "display_data",
          "data": {
            "image/png": "[encoded data removed]",
            "text/plain": [
              "<Figure size 432x288 with 1 Axes>"
            ]
          },
          "metadata": {
            "tags": []
          }
        }
      ]
    },
    {
      "cell_type": "code",
      "metadata": {
        "id": "_rde15Gue77D",
        "colab_type": "code",
        "outputId": "95ec1c0a-81a0-47f5-a491-66621689e87a",
        "colab": {
          "base_uri": "https://localhost:8080/",
          "height": 268
        }
      },
      "source": [
        "plt.plot(history.history['loss'],'r')\n",
        "plt.plot(history.history['val_loss'],'b')\n",
        "plt.legend({'training loss':'r', 'validation loss': 'b'})\n",
        "plt.show()"
      ],
      "execution_count": 0,
      "outputs": [
        {
          "output_type": "display_data",
          "data": {
            "image/png": "[encoded data removed]",
            "text/plain": [
              "<Figure size 432x288 with 1 Axes>"
            ]
          },
          "metadata": {
            "tags": []
          }
        }
      ]
    },
    {
      "cell_type": "code",
      "metadata": {
        "colab_type": "code",
        "id": "rqIwzY1t8HwG",
        "colab": {}
      },
      "source": [
        "#model score accuarcy on test data\n",
        "score = model.evaluate(X_test, Y_test, verbose=0)"
      ],
      "execution_count": 0,
      "outputs": []
    },
    {
      "cell_type": "code",
      "metadata": {
        "colab_type": "code",
        "outputId": "607f75a9-6444-49ed-cc46-093ef1a79792",
        "id": "A0JlOK_58HwM",
        "colab": {
          "base_uri": "https://localhost:8080/",
          "height": 34
        }
      },
      "source": [
        "print(score)"
      ],
      "execution_count": 0,
      "outputs": [
        {
          "output_type": "stream",
          "text": [
            "[0.05200387882014881, 0.9886]\n"
          ],
          "name": "stdout"
        }
      ]
    },
    {
      "cell_type": "markdown",
      "metadata": {
        "id": "HenVQVMR-lRQ",
        "colab_type": "text"
      },
      "source": [
        "# Maximum Validation Accuracy achieved 99.08% @ 17th epoch with 14.5 K parameters"
      ]
    },
    {
      "cell_type": "code",
      "metadata": {
        "id": "ZGTVCigMW7V8",
        "colab_type": "code",
        "colab": {}
      },
      "source": [
        ""
      ],
      "execution_count": 0,
      "outputs": []
    },
    {
      "cell_type": "code",
      "metadata": {
        "id": "R-LFrY3bW7YX",
        "colab_type": "code",
        "colab": {}
      },
      "source": [
        ""
      ],
      "execution_count": 0,
      "outputs": []
    },
    {
      "cell_type": "markdown",
      "metadata": {
        "id": "d5UWdGOKcoU9",
        "colab_type": "text"
      },
      "source": [
        "# Change No: 2\n",
        "## No of kernels(3,3) changes from 15, 32, 16, 64 to 14, 24, 30, 64"
      ]
    },
    {
      "cell_type": "code",
      "metadata": {
        "colab_type": "code",
        "outputId": "09e9ad4b-44e7-47e7-e16d-0a97f4d165db",
        "id": "SROd1Yr3crLf",
        "colab": {
          "base_uri": "https://localhost:8080/",
          "height": 178
        }
      },
      "source": [
        "from keras.layers import Activation, BatchNormalization\n",
        "\n",
        "model = Sequential() # Sequential model\n",
        " \n",
        "model.add(Convolution2D(14, 3, 3, activation='relu', input_shape=(28,28,1))) # Input Channel dimension= 1, output channel dimension= 14, RF = 3, out_img_size = 26\n",
        "\n",
        "model.add(Convolution2D(24, 3, 3, activation='relu')) # Input Channel dimension= 14, output channel dimension= 24, RF = 5, out_img_size = 24\n",
        "\n",
        "model.add(MaxPooling2D(pool_size = (2, 2))) # Input Channel dimension= 24, output channel dimension= 24, RF = 6, out_img_size = 12\n",
        "model.add(Convolution2D(10, 1, activation='relu')) # Input Channel dimension= 24, output channel dimension= 10, RF = 6, out_img_size = 12\n",
        "\n",
        "model.add(Convolution2D(30, 3, 3, activation='relu'))# Input Channel dimension= 10, output channel dimension= 30, RF = 14, out_img_size = 10\n",
        "\n",
        "model.add(Convolution2D(10, 1, activation='relu'))# Input Channel dimension= 30, output channel dimension= 10, RF = 14, out_img_size = 10\n",
        "\n",
        "model.add(Convolution2D(64, 3, 3, activation='relu'))# Input Channel dimension= 10, output channel dimension= 64, RF = 18, out_img_size = 8\n",
        "\n",
        "model.add(MaxPooling2D(pool_size = (2, 2)))# Input Channel dimension= 64, output channel dimension= 64, RF = 19, out_img_size = 4\n",
        "model.add(Convolution2D(10, 1, activation='relu'))# Input Channel dimension= 64, output channel dimension= 10, RF = 19, out_img_size = 4\n",
        " \n",
        "model.add(Convolution2D(10, 4)) # Input Channel dimension= 10, output channel dimension= 10, RF = 27, out_img_size = 1\n",
        "\n",
        "model.add(Flatten()) #flatten image dimension into 1\n",
        "model.add(Activation('softmax'))# softmax to assign confidence score of each class"
      ],
      "execution_count": 0,
      "outputs": [
        {
          "output_type": "stream",
          "text": [
            "/usr/local/lib/python3.6/dist-packages/ipykernel_launcher.py:5: UserWarning: Update your `Conv2D` call to the Keras 2 API: `Conv2D(14, (3, 3), activation=\"relu\", input_shape=(28, 28, 1...)`\n",
            "  \"\"\"\n",
            "/usr/local/lib/python3.6/dist-packages/ipykernel_launcher.py:6: UserWarning: Update your `Conv2D` call to the Keras 2 API: `Conv2D(24, (3, 3), activation=\"relu\")`\n",
            "  \n",
            "/usr/local/lib/python3.6/dist-packages/ipykernel_launcher.py:11: UserWarning: Update your `Conv2D` call to the Keras 2 API: `Conv2D(30, (3, 3), activation=\"relu\")`\n",
            "  # This is added back by InteractiveShellApp.init_path()\n",
            "/usr/local/lib/python3.6/dist-packages/ipykernel_launcher.py:13: UserWarning: Update your `Conv2D` call to the Keras 2 API: `Conv2D(64, (3, 3), activation=\"relu\")`\n",
            "  del sys.path[0]\n"
          ],
          "name": "stderr"
        }
      ]
    },
    {
      "cell_type": "code",
      "metadata": {
        "colab_type": "code",
        "outputId": "0b5e6033-c28e-4516-a7d3-b2e219098100",
        "id": "PlJvmya_crLu",
        "colab": {
          "base_uri": "https://localhost:8080/",
          "height": 567
        }
      },
      "source": [
        "model.summary()"
      ],
      "execution_count": 0,
      "outputs": [
        {
          "output_type": "stream",
          "text": [
            "_________________________________________________________________\n",
            "Layer (type)                 Output Shape              Param #   \n",
            "=================================================================\n",
            "conv2d_131 (Conv2D)          (None, 26, 26, 14)        140       \n",
            "_________________________________________________________________\n",
            "conv2d_132 (Conv2D)          (None, 24, 24, 24)        3048      \n",
            "_________________________________________________________________\n",
            "max_pooling2d_34 (MaxPooling (None, 12, 12, 24)        0         \n",
            "_________________________________________________________________\n",
            "conv2d_133 (Conv2D)          (None, 12, 12, 10)        250       \n",
            "_________________________________________________________________\n",
            "conv2d_134 (Conv2D)          (None, 10, 10, 30)        2730      \n",
            "_________________________________________________________________\n",
            "conv2d_135 (Conv2D)          (None, 10, 10, 10)        310       \n",
            "_________________________________________________________________\n",
            "conv2d_136 (Conv2D)          (None, 8, 8, 64)          5824      \n",
            "_________________________________________________________________\n",
            "max_pooling2d_35 (MaxPooling (None, 4, 4, 64)          0         \n",
            "_________________________________________________________________\n",
            "conv2d_137 (Conv2D)          (None, 4, 4, 10)          650       \n",
            "_________________________________________________________________\n",
            "conv2d_138 (Conv2D)          (None, 1, 1, 10)          1610      \n",
            "_________________________________________________________________\n",
            "flatten_16 (Flatten)         (None, 10)                0         \n",
            "_________________________________________________________________\n",
            "activation_16 (Activation)   (None, 10)                0         \n",
            "=================================================================\n",
            "Total params: 14,562\n",
            "Trainable params: 14,562\n",
            "Non-trainable params: 0\n",
            "_________________________________________________________________\n"
          ],
          "name": "stdout"
        }
      ]
    },
    {
      "cell_type": "code",
      "metadata": {
        "colab_type": "code",
        "id": "3IouoI4zcrL6",
        "colab": {}
      },
      "source": [
        "# import callbacks\n",
        "from keras.callbacks import ModelCheckpoint"
      ],
      "execution_count": 0,
      "outputs": []
    },
    {
      "cell_type": "code",
      "metadata": {
        "colab_type": "code",
        "id": "nvh0u6pkcrMi",
        "colab": {}
      },
      "source": [
        "# save best weights \n",
        "final_weights_path = 'best_mnist_cnn_model.h5'"
      ],
      "execution_count": 0,
      "outputs": []
    },
    {
      "cell_type": "code",
      "metadata": {
        "colab_type": "code",
        "id": "xbjbiVYrcrNJ",
        "colab": {}
      },
      "source": [
        "callbacks_list = [ModelCheckpoint(final_weights_path, monitor='val_acc', verbose = 1,save_best_only = True)]  \n"
      ],
      "execution_count": 0,
      "outputs": []
    },
    {
      "cell_type": "code",
      "metadata": {
        "colab_type": "code",
        "id": "N-8A_PpkcrNN",
        "colab": {}
      },
      "source": [
        "# model compilation\n",
        "model.compile(loss='categorical_crossentropy',\n",
        "             optimizer='adam',\n",
        "             metrics=['accuracy'])"
      ],
      "execution_count": 0,
      "outputs": []
    },
    {
      "cell_type": "code",
      "metadata": {
        "colab_type": "code",
        "outputId": "9abbbf07-329b-4408-8223-bbf8e988efa6",
        "id": "DA4ID2HScrNR",
        "colab": {
          "base_uri": "https://localhost:8080/",
          "height": 2203
        }
      },
      "source": [
        "# model training\n",
        "history = model.fit(X_train, Y_train, batch_size=32, nb_epoch=30, validation_data=(X_test,Y_test),callbacks = callbacks_list, verbose=1)"
      ],
      "execution_count": 0,
      "outputs": [
        {
          "output_type": "stream",
          "text": [
            "/usr/local/lib/python3.6/dist-packages/ipykernel_launcher.py:1: UserWarning: The `nb_epoch` argument in `fit` has been renamed `epochs`.\n",
            "  \"\"\"Entry point for launching an IPython kernel.\n"
          ],
          "name": "stderr"
        },
        {
          "output_type": "stream",
          "text": [
            "Train on 60000 samples, validate on 10000 samples\n",
            "Epoch 1/30\n",
            "60000/60000 [==============================] - 12s 203us/step - loss: 0.2224 - acc: 0.9299 - val_loss: 0.0705 - val_acc: 0.9770\n",
            "\n",
            "Epoch 00001: val_acc improved from -inf to 0.97700, saving model to best_mnist_cnn_model.h5\n",
            "Epoch 2/30\n",
            "60000/60000 [==============================] - 11s 184us/step - loss: 0.0729 - acc: 0.9775 - val_loss: 0.0536 - val_acc: 0.9836\n",
            "\n",
            "Epoch 00002: val_acc improved from 0.97700 to 0.98360, saving model to best_mnist_cnn_model.h5\n",
            "Epoch 3/30\n",
            "60000/60000 [==============================] - 11s 184us/step - loss: 0.0538 - acc: 0.9840 - val_loss: 0.0461 - val_acc: 0.9865\n",
            "\n",
            "Epoch 00003: val_acc improved from 0.98360 to 0.98650, saving model to best_mnist_cnn_model.h5\n",
            "Epoch 4/30\n",
            "60000/60000 [==============================] - 12s 205us/step - loss: 0.0455 - acc: 0.9859 - val_loss: 0.0389 - val_acc: 0.9864\n",
            "\n",
            "Epoch 00004: val_acc did not improve from 0.98650\n",
            "Epoch 5/30\n",
            "60000/60000 [==============================] - 11s 186us/step - loss: 0.0400 - acc: 0.9878 - val_loss: 0.0404 - val_acc: 0.9864\n",
            "\n",
            "Epoch 00005: val_acc did not improve from 0.98650\n",
            "Epoch 6/30\n",
            "60000/60000 [==============================] - 11s 184us/step - loss: 0.0349 - acc: 0.9889 - val_loss: 0.0365 - val_acc: 0.9879\n",
            "\n",
            "Epoch 00006: val_acc improved from 0.98650 to 0.98790, saving model to best_mnist_cnn_model.h5\n",
            "Epoch 7/30\n",
            "60000/60000 [==============================] - 11s 184us/step - loss: 0.0318 - acc: 0.9898 - val_loss: 0.0372 - val_acc: 0.9882\n",
            "\n",
            "Epoch 00007: val_acc improved from 0.98790 to 0.98820, saving model to best_mnist_cnn_model.h5\n",
            "Epoch 8/30\n",
            "60000/60000 [==============================] - 11s 183us/step - loss: 0.0288 - acc: 0.9905 - val_loss: 0.0323 - val_acc: 0.9890\n",
            "\n",
            "Epoch 00008: val_acc improved from 0.98820 to 0.98900, saving model to best_mnist_cnn_model.h5\n",
            "Epoch 9/30\n",
            "60000/60000 [==============================] - 11s 183us/step - loss: 0.0259 - acc: 0.9920 - val_loss: 0.0397 - val_acc: 0.9871\n",
            "\n",
            "Epoch 00009: val_acc did not improve from 0.98900\n",
            "Epoch 10/30\n",
            "60000/60000 [==============================] - 11s 184us/step - loss: 0.0236 - acc: 0.9923 - val_loss: 0.0335 - val_acc: 0.9902\n",
            "\n",
            "Epoch 00010: val_acc improved from 0.98900 to 0.99020, saving model to best_mnist_cnn_model.h5\n",
            "Epoch 11/30\n",
            "60000/60000 [==============================] - 12s 202us/step - loss: 0.0223 - acc: 0.9928 - val_loss: 0.0350 - val_acc: 0.9881\n",
            "\n",
            "Epoch 00011: val_acc did not improve from 0.99020\n",
            "Epoch 12/30\n",
            "60000/60000 [==============================] - 11s 189us/step - loss: 0.0203 - acc: 0.9936 - val_loss: 0.0349 - val_acc: 0.9890\n",
            "\n",
            "Epoch 00012: val_acc did not improve from 0.99020\n",
            "Epoch 13/30\n",
            "60000/60000 [==============================] - 11s 183us/step - loss: 0.0183 - acc: 0.9940 - val_loss: 0.0418 - val_acc: 0.9877\n",
            "\n",
            "Epoch 00013: val_acc did not improve from 0.99020\n",
            "Epoch 14/30\n",
            "60000/60000 [==============================] - 12s 202us/step - loss: 0.0163 - acc: 0.9944 - val_loss: 0.0488 - val_acc: 0.9876\n",
            "\n",
            "Epoch 00014: val_acc did not improve from 0.99020\n",
            "Epoch 15/30\n",
            "60000/60000 [==============================] - 12s 193us/step - loss: 0.0162 - acc: 0.9942 - val_loss: 0.0324 - val_acc: 0.9894\n",
            "\n",
            "Epoch 00015: val_acc did not improve from 0.99020\n",
            "Epoch 16/30\n",
            "60000/60000 [==============================] - 11s 183us/step - loss: 0.0149 - acc: 0.9951 - val_loss: 0.0411 - val_acc: 0.9882\n",
            "\n",
            "Epoch 00016: val_acc did not improve from 0.99020\n",
            "Epoch 17/30\n",
            "60000/60000 [==============================] - 11s 183us/step - loss: 0.0134 - acc: 0.9957 - val_loss: 0.0421 - val_acc: 0.9893\n",
            "\n",
            "Epoch 00017: val_acc did not improve from 0.99020\n",
            "Epoch 18/30\n",
            "60000/60000 [==============================] - 12s 199us/step - loss: 0.0133 - acc: 0.9956 - val_loss: 0.0523 - val_acc: 0.9866\n",
            "\n",
            "Epoch 00018: val_acc did not improve from 0.99020\n",
            "Epoch 19/30\n",
            "60000/60000 [==============================] - 11s 189us/step - loss: 0.0127 - acc: 0.9954 - val_loss: 0.0545 - val_acc: 0.9884\n",
            "\n",
            "Epoch 00019: val_acc did not improve from 0.99020\n",
            "Epoch 20/30\n",
            "60000/60000 [==============================] - 11s 183us/step - loss: 0.0126 - acc: 0.9959 - val_loss: 0.0465 - val_acc: 0.9888\n",
            "\n",
            "Epoch 00020: val_acc did not improve from 0.99020\n",
            "Epoch 21/30\n",
            "60000/60000 [==============================] - 12s 197us/step - loss: 0.0111 - acc: 0.9961 - val_loss: 0.0449 - val_acc: 0.9899\n",
            "\n",
            "Epoch 00021: val_acc did not improve from 0.99020\n",
            "Epoch 22/30\n",
            "60000/60000 [==============================] - 11s 183us/step - loss: 0.0109 - acc: 0.9963 - val_loss: 0.0539 - val_acc: 0.9889\n",
            "\n",
            "Epoch 00022: val_acc did not improve from 0.99020\n",
            "Epoch 23/30\n",
            "60000/60000 [==============================] - 11s 182us/step - loss: 0.0113 - acc: 0.9961 - val_loss: 0.0456 - val_acc: 0.9897\n",
            "\n",
            "Epoch 00023: val_acc did not improve from 0.99020\n",
            "Epoch 24/30\n",
            "60000/60000 [==============================] - 11s 181us/step - loss: 0.0105 - acc: 0.9965 - val_loss: 0.0549 - val_acc: 0.9884\n",
            "\n",
            "Epoch 00024: val_acc did not improve from 0.99020\n",
            "Epoch 25/30\n",
            "60000/60000 [==============================] - 12s 192us/step - loss: 0.0105 - acc: 0.9963 - val_loss: 0.0447 - val_acc: 0.9890\n",
            "\n",
            "Epoch 00025: val_acc did not improve from 0.99020\n",
            "Epoch 26/30\n",
            "60000/60000 [==============================] - 12s 193us/step - loss: 0.0099 - acc: 0.9966 - val_loss: 0.0459 - val_acc: 0.9899\n",
            "\n",
            "Epoch 00026: val_acc did not improve from 0.99020\n",
            "Epoch 27/30\n",
            "60000/60000 [==============================] - 11s 182us/step - loss: 0.0087 - acc: 0.9970 - val_loss: 0.0474 - val_acc: 0.9901\n",
            "\n",
            "Epoch 00027: val_acc did not improve from 0.99020\n",
            "Epoch 28/30\n",
            "60000/60000 [==============================] - 12s 199us/step - loss: 0.0092 - acc: 0.9969 - val_loss: 0.0567 - val_acc: 0.9886\n",
            "\n",
            "Epoch 00028: val_acc did not improve from 0.99020\n",
            "Epoch 29/30\n",
            "60000/60000 [==============================] - 11s 186us/step - loss: 0.0097 - acc: 0.9968 - val_loss: 0.0444 - val_acc: 0.9893\n",
            "\n",
            "Epoch 00029: val_acc did not improve from 0.99020\n",
            "Epoch 30/30\n",
            "60000/60000 [==============================] - 11s 187us/step - loss: 0.0089 - acc: 0.9971 - val_loss: 0.0483 - val_acc: 0.9887\n",
            "\n",
            "Epoch 00030: val_acc did not improve from 0.99020\n"
          ],
          "name": "stdout"
        }
      ]
    },
    {
      "cell_type": "code",
      "metadata": {
        "colab_type": "code",
        "outputId": "4df9630f-d4b0-493c-b617-8d4df7add66e",
        "id": "fgCu7zlmcrNX",
        "colab": {
          "base_uri": "https://localhost:8080/",
          "height": 268
        }
      },
      "source": [
        "plt.plot(history.history['acc'],'r')\n",
        "plt.plot(history.history['val_acc'],'b')\n",
        "plt.legend({'training accuracy':'r', 'validation accuracy': 'b'})\n",
        "plt.show()"
      ],
      "execution_count": 0,
      "outputs": [
        {
          "output_type": "display_data",
          "data": {
            "image/png": "[encoded data removed]",
            "text/plain": [
              "<Figure size 432x288 with 1 Axes>"
            ]
          },
          "metadata": {
            "tags": []
          }
        }
      ]
    },
    {
      "cell_type": "code",
      "metadata": {
        "colab_type": "code",
        "outputId": "dccd2187-1a88-4368-9e88-bebe9252492f",
        "id": "HnBDjIsncrNf",
        "colab": {
          "base_uri": "https://localhost:8080/",
          "height": 268
        }
      },
      "source": [
        "plt.plot(history.history['loss'],'r')\n",
        "plt.plot(history.history['val_loss'],'b')\n",
        "plt.legend({'training loss':'r', 'validation loss': 'b'})\n",
        "plt.show()"
      ],
      "execution_count": 0,
      "outputs": [
        {
          "output_type": "display_data",
          "data": {
            "image/png": "[encoded data removed]",
            "text/plain": [
              "<Figure size 432x288 with 1 Axes>"
            ]
          },
          "metadata": {
            "tags": []
          }
        }
      ]
    },
    {
      "cell_type": "code",
      "metadata": {
        "colab_type": "code",
        "id": "B5QP6B_DcrNj",
        "colab": {}
      },
      "source": [
        "#model score accuarcy on test data\n",
        "score = model.evaluate(X_test, Y_test, verbose=0)"
      ],
      "execution_count": 0,
      "outputs": []
    },
    {
      "cell_type": "code",
      "metadata": {
        "colab_type": "code",
        "outputId": "1fa4be97-79bb-4ac1-c8eb-82848d2ed3f1",
        "id": "RJRpNW1lcrNl",
        "colab": {
          "base_uri": "https://localhost:8080/",
          "height": 34
        }
      },
      "source": [
        "print(score)"
      ],
      "execution_count": 0,
      "outputs": [
        {
          "output_type": "stream",
          "text": [
            "[0.04826941552214062, 0.9887]\n"
          ],
          "name": "stdout"
        }
      ]
    },
    {
      "cell_type": "code",
      "metadata": {
        "id": "suunw8pVW7fX",
        "colab_type": "code",
        "colab": {}
      },
      "source": [
        ""
      ],
      "execution_count": 0,
      "outputs": []
    },
    {
      "cell_type": "markdown",
      "metadata": {
        "id": "JnZeThidBCmK",
        "colab_type": "text"
      },
      "source": [
        "# Maximum Validation Accuracy achieved 99.02% @ 10th epoch with 14.5 K parameters"
      ]
    },
    {
      "cell_type": "markdown",
      "metadata": {
        "id": "tFk53Bqooymt",
        "colab_type": "text"
      },
      "source": [
        "# Change No: 3\n",
        "## No of kernels(3,3) changes from 14, 24, 30, 64 to 16, 32, 64 (increasing order only)"
      ]
    },
    {
      "cell_type": "code",
      "metadata": {
        "id": "iSfPM2kBW7h3",
        "colab_type": "code",
        "colab": {}
      },
      "source": [
        ""
      ],
      "execution_count": 0,
      "outputs": []
    },
    {
      "cell_type": "code",
      "metadata": {
        "colab_type": "code",
        "outputId": "d4636798-57a1-4586-8434-cc22b3029528",
        "id": "K0ZvEJV0o2to",
        "colab": {
          "base_uri": "https://localhost:8080/",
          "height": 143
        }
      },
      "source": [
        "from keras.layers import Activation, BatchNormalization\n",
        "\n",
        "model = Sequential() # Sequential model\n",
        " \n",
        "model.add(Convolution2D(16, 3, 3, activation='relu', input_shape=(28,28,1))) # Input Channel dimension= 1, output channel dimension= 16, RF = 3, out_img_size = 26\n",
        "\n",
        "\n",
        "model.add(Convolution2D(32, 3, 3, activation='relu')) # Input Channel dimension= 16, output channel dimension= 32, RF = 5, out_img_size = 24\n",
        "\n",
        "\n",
        "model.add(MaxPooling2D(pool_size = (2, 2))) # Input Channel dimension= 32, output channel dimension= 32, RF = 6, out_img_size = 12\n",
        "\n",
        "model.add(Convolution2D(10, 1, activation='relu')) # Input Channel dimension= 32, output channel dimension= 10, RF = 6, out_img_size = 12\n",
        "\n",
        "model.add(Convolution2D(64, 3, 3, activation='relu'))# Input Channel dimension= 10, output channel dimension= 64, RF = 10, out_img_size = 10\n",
        "\n",
        "model.add(MaxPooling2D(pool_size = (2, 2)))# Input Channel dimension= 64, output channel dimension= 64, RF = 11, out_img_size = 5\n",
        "model.add(Convolution2D(10, 1, activation='relu'))# Input Channel dimension= 64, output channel dimension= 10, RF = 11, out_img_size = 5\n",
        " \n",
        "model.add(Convolution2D(10, 5)) # Input Channel dimension= 10, output channel dimension= 10, RF = 27, out_img_size = 1\n",
        "\n",
        "model.add(Flatten()) #flatten image dimension into 1\n",
        "model.add(Activation('softmax'))# softmax to assign confidence score of each class"
      ],
      "execution_count": 0,
      "outputs": [
        {
          "output_type": "stream",
          "text": [
            "/usr/local/lib/python3.6/dist-packages/ipykernel_launcher.py:5: UserWarning: Update your `Conv2D` call to the Keras 2 API: `Conv2D(16, (3, 3), activation=\"relu\", input_shape=(28, 28, 1...)`\n",
            "  \"\"\"\n",
            "/usr/local/lib/python3.6/dist-packages/ipykernel_launcher.py:6: UserWarning: Update your `Conv2D` call to the Keras 2 API: `Conv2D(32, (3, 3), activation=\"relu\")`\n",
            "  \n",
            "/usr/local/lib/python3.6/dist-packages/ipykernel_launcher.py:11: UserWarning: Update your `Conv2D` call to the Keras 2 API: `Conv2D(64, (3, 3), activation=\"relu\")`\n",
            "  # This is added back by InteractiveShellApp.init_path()\n"
          ],
          "name": "stderr"
        }
      ]
    },
    {
      "cell_type": "code",
      "metadata": {
        "colab_type": "code",
        "outputId": "d093f8d8-a93d-4498-9de0-4f94e19bceff",
        "id": "fVs_Ic4Eo2uB",
        "colab": {
          "base_uri": "https://localhost:8080/",
          "height": 496
        }
      },
      "source": [
        "model.summary()"
      ],
      "execution_count": 0,
      "outputs": [
        {
          "output_type": "stream",
          "text": [
            "_________________________________________________________________\n",
            "Layer (type)                 Output Shape              Param #   \n",
            "=================================================================\n",
            "conv2d_151 (Conv2D)          (None, 26, 26, 16)        160       \n",
            "_________________________________________________________________\n",
            "conv2d_152 (Conv2D)          (None, 24, 24, 32)        4640      \n",
            "_________________________________________________________________\n",
            "max_pooling2d_40 (MaxPooling (None, 12, 12, 32)        0         \n",
            "_________________________________________________________________\n",
            "conv2d_153 (Conv2D)          (None, 12, 12, 10)        330       \n",
            "_________________________________________________________________\n",
            "conv2d_154 (Conv2D)          (None, 10, 10, 64)        5824      \n",
            "_________________________________________________________________\n",
            "max_pooling2d_41 (MaxPooling (None, 5, 5, 64)          0         \n",
            "_________________________________________________________________\n",
            "conv2d_155 (Conv2D)          (None, 5, 5, 10)          650       \n",
            "_________________________________________________________________\n",
            "conv2d_156 (Conv2D)          (None, 1, 1, 10)          2510      \n",
            "_________________________________________________________________\n",
            "flatten_19 (Flatten)         (None, 10)                0         \n",
            "_________________________________________________________________\n",
            "activation_19 (Activation)   (None, 10)                0         \n",
            "=================================================================\n",
            "Total params: 14,114\n",
            "Trainable params: 14,114\n",
            "Non-trainable params: 0\n",
            "_________________________________________________________________\n"
          ],
          "name": "stdout"
        }
      ]
    },
    {
      "cell_type": "code",
      "metadata": {
        "colab_type": "code",
        "id": "8CV04eYHo2uK",
        "colab": {}
      },
      "source": [
        "# import callbacks\n",
        "from keras.callbacks import ModelCheckpoint"
      ],
      "execution_count": 0,
      "outputs": []
    },
    {
      "cell_type": "code",
      "metadata": {
        "colab_type": "code",
        "id": "Fxf9aTMXo2uO",
        "colab": {}
      },
      "source": [
        "# save best weights \n",
        "final_weights_path = 'best_mnist_cnn_model.h5'"
      ],
      "execution_count": 0,
      "outputs": []
    },
    {
      "cell_type": "code",
      "metadata": {
        "colab_type": "code",
        "id": "IZYkFfdio2uS",
        "colab": {}
      },
      "source": [
        "callbacks_list = [ModelCheckpoint(final_weights_path, monitor='val_acc', verbose = 1,save_best_only = True)]  \n"
      ],
      "execution_count": 0,
      "outputs": []
    },
    {
      "cell_type": "code",
      "metadata": {
        "colab_type": "code",
        "id": "fXsrKLwmo2uV",
        "colab": {}
      },
      "source": [
        "# model compilation\n",
        "model.compile(loss='categorical_crossentropy',\n",
        "             optimizer='adam',\n",
        "             metrics=['accuracy'])"
      ],
      "execution_count": 0,
      "outputs": []
    },
    {
      "cell_type": "code",
      "metadata": {
        "colab_type": "code",
        "outputId": "f8389f14-8c1e-48d5-e0ac-d800307538d5",
        "id": "Ouj37GWuo2up",
        "colab": {
          "base_uri": "https://localhost:8080/",
          "height": 2203
        }
      },
      "source": [
        "# model training\n",
        "history = model.fit(X_train, Y_train, batch_size=32, nb_epoch=30, validation_data=(X_test,Y_test),callbacks = callbacks_list, verbose=1)"
      ],
      "execution_count": 0,
      "outputs": [
        {
          "output_type": "stream",
          "text": [
            "/usr/local/lib/python3.6/dist-packages/ipykernel_launcher.py:1: UserWarning: The `nb_epoch` argument in `fit` has been renamed `epochs`.\n",
            "  \"\"\"Entry point for launching an IPython kernel.\n"
          ],
          "name": "stderr"
        },
        {
          "output_type": "stream",
          "text": [
            "Train on 60000 samples, validate on 10000 samples\n",
            "Epoch 1/30\n",
            "60000/60000 [==============================] - 11s 184us/step - loss: 0.1974 - acc: 0.9372 - val_loss: 0.0650 - val_acc: 0.9804\n",
            "\n",
            "Epoch 00001: val_acc improved from -inf to 0.98040, saving model to best_mnist_cnn_model.h5\n",
            "Epoch 2/30\n",
            "60000/60000 [==============================] - 10s 163us/step - loss: 0.0653 - acc: 0.9804 - val_loss: 0.0453 - val_acc: 0.9853\n",
            "\n",
            "Epoch 00002: val_acc improved from 0.98040 to 0.98530, saving model to best_mnist_cnn_model.h5\n",
            "Epoch 3/30\n",
            "60000/60000 [==============================] - 10s 164us/step - loss: 0.0487 - acc: 0.9847 - val_loss: 0.0310 - val_acc: 0.9895\n",
            "\n",
            "Epoch 00003: val_acc improved from 0.98530 to 0.98950, saving model to best_mnist_cnn_model.h5\n",
            "Epoch 4/30\n",
            "60000/60000 [==============================] - 10s 175us/step - loss: 0.0395 - acc: 0.9878 - val_loss: 0.0359 - val_acc: 0.9886\n",
            "\n",
            "Epoch 00004: val_acc did not improve from 0.98950\n",
            "Epoch 5/30\n",
            "60000/60000 [==============================] - 10s 172us/step - loss: 0.0340 - acc: 0.9896 - val_loss: 0.0323 - val_acc: 0.9892\n",
            "\n",
            "Epoch 00005: val_acc did not improve from 0.98950\n",
            "Epoch 6/30\n",
            "60000/60000 [==============================] - 10s 163us/step - loss: 0.0294 - acc: 0.9906 - val_loss: 0.0324 - val_acc: 0.9902\n",
            "\n",
            "Epoch 00006: val_acc improved from 0.98950 to 0.99020, saving model to best_mnist_cnn_model.h5\n",
            "Epoch 7/30\n",
            "60000/60000 [==============================] - 10s 163us/step - loss: 0.0272 - acc: 0.9914 - val_loss: 0.0309 - val_acc: 0.9906\n",
            "\n",
            "Epoch 00007: val_acc improved from 0.99020 to 0.99060, saving model to best_mnist_cnn_model.h5\n",
            "Epoch 8/30\n",
            "60000/60000 [==============================] - 10s 163us/step - loss: 0.0231 - acc: 0.9926 - val_loss: 0.0449 - val_acc: 0.9867\n",
            "\n",
            "Epoch 00008: val_acc did not improve from 0.99060\n",
            "Epoch 9/30\n",
            "60000/60000 [==============================] - 10s 164us/step - loss: 0.0208 - acc: 0.9933 - val_loss: 0.0317 - val_acc: 0.9904\n",
            "\n",
            "Epoch 00009: val_acc did not improve from 0.99060\n",
            "Epoch 10/30\n",
            "60000/60000 [==============================] - 10s 163us/step - loss: 0.0184 - acc: 0.9937 - val_loss: 0.0351 - val_acc: 0.9893\n",
            "\n",
            "Epoch 00010: val_acc did not improve from 0.99060\n",
            "Epoch 11/30\n",
            "60000/60000 [==============================] - 10s 163us/step - loss: 0.0167 - acc: 0.9946 - val_loss: 0.0361 - val_acc: 0.9900\n",
            "\n",
            "Epoch 00011: val_acc did not improve from 0.99060\n",
            "Epoch 12/30\n",
            "60000/60000 [==============================] - 10s 173us/step - loss: 0.0167 - acc: 0.9947 - val_loss: 0.0337 - val_acc: 0.9903\n",
            "\n",
            "Epoch 00012: val_acc did not improve from 0.99060\n",
            "Epoch 13/30\n",
            "60000/60000 [==============================] - 11s 177us/step - loss: 0.0145 - acc: 0.9951 - val_loss: 0.0343 - val_acc: 0.9896\n",
            "\n",
            "Epoch 00013: val_acc did not improve from 0.99060\n",
            "Epoch 14/30\n",
            "60000/60000 [==============================] - 10s 164us/step - loss: 0.0132 - acc: 0.9954 - val_loss: 0.0323 - val_acc: 0.9916\n",
            "\n",
            "Epoch 00014: val_acc improved from 0.99060 to 0.99160, saving model to best_mnist_cnn_model.h5\n",
            "Epoch 15/30\n",
            "60000/60000 [==============================] - 10s 165us/step - loss: 0.0129 - acc: 0.9953 - val_loss: 0.0403 - val_acc: 0.9895\n",
            "\n",
            "Epoch 00015: val_acc did not improve from 0.99160\n",
            "Epoch 16/30\n",
            "60000/60000 [==============================] - 10s 164us/step - loss: 0.0113 - acc: 0.9963 - val_loss: 0.0363 - val_acc: 0.9909\n",
            "\n",
            "Epoch 00016: val_acc did not improve from 0.99160\n",
            "Epoch 17/30\n",
            "60000/60000 [==============================] - 10s 167us/step - loss: 0.0122 - acc: 0.9960 - val_loss: 0.0297 - val_acc: 0.9906\n",
            "\n",
            "Epoch 00017: val_acc did not improve from 0.99160\n",
            "Epoch 18/30\n",
            "60000/60000 [==============================] - 10s 169us/step - loss: 0.0106 - acc: 0.9964 - val_loss: 0.0368 - val_acc: 0.9913\n",
            "\n",
            "Epoch 00018: val_acc did not improve from 0.99160\n",
            "Epoch 19/30\n",
            "60000/60000 [==============================] - 10s 164us/step - loss: 0.0098 - acc: 0.9967 - val_loss: 0.0355 - val_acc: 0.9904\n",
            "\n",
            "Epoch 00019: val_acc did not improve from 0.99160\n",
            "Epoch 20/30\n",
            "60000/60000 [==============================] - 11s 177us/step - loss: 0.0093 - acc: 0.9966 - val_loss: 0.0353 - val_acc: 0.9908\n",
            "\n",
            "Epoch 00020: val_acc did not improve from 0.99160\n",
            "Epoch 21/30\n",
            "60000/60000 [==============================] - 11s 190us/step - loss: 0.0086 - acc: 0.9971 - val_loss: 0.0377 - val_acc: 0.9909\n",
            "\n",
            "Epoch 00021: val_acc did not improve from 0.99160\n",
            "Epoch 22/30\n",
            "60000/60000 [==============================] - 11s 184us/step - loss: 0.0084 - acc: 0.9972 - val_loss: 0.0460 - val_acc: 0.9892\n",
            "\n",
            "Epoch 00022: val_acc did not improve from 0.99160\n",
            "Epoch 23/30\n",
            "60000/60000 [==============================] - 10s 169us/step - loss: 0.0091 - acc: 0.9967 - val_loss: 0.0377 - val_acc: 0.9902\n",
            "\n",
            "Epoch 00023: val_acc did not improve from 0.99160\n",
            "Epoch 24/30\n",
            "60000/60000 [==============================] - 11s 180us/step - loss: 0.0083 - acc: 0.9973 - val_loss: 0.0406 - val_acc: 0.9902\n",
            "\n",
            "Epoch 00024: val_acc did not improve from 0.99160\n",
            "Epoch 25/30\n",
            "60000/60000 [==============================] - 10s 171us/step - loss: 0.0070 - acc: 0.9977 - val_loss: 0.0591 - val_acc: 0.9876\n",
            "\n",
            "Epoch 00025: val_acc did not improve from 0.99160\n",
            "Epoch 26/30\n",
            "60000/60000 [==============================] - 10s 166us/step - loss: 0.0085 - acc: 0.9971 - val_loss: 0.0408 - val_acc: 0.9905\n",
            "\n",
            "Epoch 00026: val_acc did not improve from 0.99160\n",
            "Epoch 27/30\n",
            "60000/60000 [==============================] - 10s 168us/step - loss: 0.0076 - acc: 0.9975 - val_loss: 0.0454 - val_acc: 0.9903\n",
            "\n",
            "Epoch 00027: val_acc did not improve from 0.99160\n",
            "Epoch 28/30\n",
            "60000/60000 [==============================] - 11s 190us/step - loss: 0.0066 - acc: 0.9980 - val_loss: 0.0445 - val_acc: 0.9912\n",
            "\n",
            "Epoch 00028: val_acc did not improve from 0.99160\n",
            "Epoch 29/30\n",
            "60000/60000 [==============================] - 10s 169us/step - loss: 0.0070 - acc: 0.9976 - val_loss: 0.0511 - val_acc: 0.9888\n",
            "\n",
            "Epoch 00029: val_acc did not improve from 0.99160\n",
            "Epoch 30/30\n",
            "60000/60000 [==============================] - 10s 164us/step - loss: 0.0068 - acc: 0.9977 - val_loss: 0.0498 - val_acc: 0.9904\n",
            "\n",
            "Epoch 00030: val_acc did not improve from 0.99160\n"
          ],
          "name": "stdout"
        }
      ]
    },
    {
      "cell_type": "code",
      "metadata": {
        "colab_type": "code",
        "outputId": "2b53dffa-b35e-4aff-a6e8-57c74409fbce",
        "id": "DMRsZdf7o2uw",
        "colab": {
          "base_uri": "https://localhost:8080/",
          "height": 268
        }
      },
      "source": [
        "plt.plot(history.history['acc'],'r')\n",
        "plt.plot(history.history['val_acc'],'b')\n",
        "plt.legend({'training accuracy':'r', 'validation accuracy': 'b'})\n",
        "plt.show()"
      ],
      "execution_count": 0,
      "outputs": [
        {
          "output_type": "display_data",
          "data": {
            "image/png": "[encoded data removed]",
            "text/plain": [
              "<Figure size 432x288 with 1 Axes>"
            ]
          },
          "metadata": {
            "tags": []
          }
        }
      ]
    },
    {
      "cell_type": "code",
      "metadata": {
        "colab_type": "code",
        "outputId": "da2d5923-672d-4a14-cf5e-3c0892b15893",
        "id": "T2dcj0Rmo2u8",
        "colab": {
          "base_uri": "https://localhost:8080/",
          "height": 268
        }
      },
      "source": [
        "plt.plot(history.history['loss'],'r')\n",
        "plt.plot(history.history['val_loss'],'b')\n",
        "plt.legend({'training loss':'r', 'validation loss': 'b'})\n",
        "plt.show()"
      ],
      "execution_count": 0,
      "outputs": [
        {
          "output_type": "display_data",
          "data": {
            "image/png": "[encoded data removed]",
            "text/plain": [
              "<Figure size 432x288 with 1 Axes>"
            ]
          },
          "metadata": {
            "tags": []
          }
        }
      ]
    },
    {
      "cell_type": "code",
      "metadata": {
        "colab_type": "code",
        "id": "qdQtm9GRo2vB",
        "colab": {}
      },
      "source": [
        "#model score accuarcy on test data\n",
        "score = model.evaluate(X_test, Y_test, verbose=0)"
      ],
      "execution_count": 0,
      "outputs": []
    },
    {
      "cell_type": "code",
      "metadata": {
        "colab_type": "code",
        "outputId": "57734351-422f-4557-9939-f6ac48a332d9",
        "id": "gSxcjd3Ko2vD",
        "colab": {
          "base_uri": "https://localhost:8080/",
          "height": 34
        }
      },
      "source": [
        "print(score)"
      ],
      "execution_count": 0,
      "outputs": [
        {
          "output_type": "stream",
          "text": [
            "[0.04976296626329897, 0.9904]\n"
          ],
          "name": "stdout"
        }
      ]
    },
    {
      "cell_type": "code",
      "metadata": {
        "id": "sIpMl98oW7km",
        "colab_type": "code",
        "colab": {}
      },
      "source": [
        ""
      ],
      "execution_count": 0,
      "outputs": []
    },
    {
      "cell_type": "markdown",
      "metadata": {
        "id": "kp0mel7TB7A-",
        "colab_type": "text"
      },
      "source": [
        "# Maximum Validation Accuracy achieved 99.16% @ 14th epoch with 14.1 K parameters\n",
        "# Let's forward this network to 3rd notebook"
      ]
    }
  ]
}
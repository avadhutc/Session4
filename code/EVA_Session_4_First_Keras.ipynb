{
  "nbformat": 4,
  "nbformat_minor": 0,
  "metadata": {
    "colab": {
      "name": "EVA_Session_4_First_Keras.ipynb",
      "version": "0.3.2",
      "provenance": [],
      "collapsed_sections": [],
      "include_colab_link": true
    },
    "kernelspec": {
      "name": "python3",
      "display_name": "Python 3"
    },
    "accelerator": "GPU"
  },
  "cells": [
    {
      "cell_type": "markdown",
      "metadata": {
        "id": "view-in-github",
        "colab_type": "text"
      },
      "source": [
        "<a href=\"https://colab.research.google.com/github/avadhutc/Session4/blob/master/code/EVA_Session_4_First_Keras.ipynb\" target=\"_parent\"><img src=\"https://colab.research.google.com/assets/colab-badge.svg\" alt=\"Open In Colab\"/></a>"
      ]
    },
    {
      "cell_type": "markdown",
      "metadata": {
        "id": "_SrJwq6r5ZQV",
        "colab_type": "text"
      },
      "source": [
        "# Begin with Vanilla Network with 19.6 K parameters (< 20 K Params)\n",
        "## Going to note performance of following network before reducing parameters < 15 K"
      ]
    },
    {
      "cell_type": "markdown",
      "metadata": {
        "id": "aNyZv-Ec52ot",
        "colab_type": "text"
      },
      "source": [
        "# **Import Libraries and modules**"
      ]
    },
    {
      "cell_type": "code",
      "metadata": {
        "id": "3m3w1Cw49Zkt",
        "colab_type": "code",
        "colab": {}
      },
      "source": [
        "# https://keras.io/\n",
        "!pip install -q keras # install keras package\n",
        "import keras # import keras package for use"
      ],
      "execution_count": 0,
      "outputs": []
    },
    {
      "cell_type": "code",
      "metadata": {
        "id": "Eso6UHE080D4",
        "colab_type": "code",
        "colab": {}
      },
      "source": [
        "import numpy as np # import numpy package alias np\n",
        "\n",
        "from keras.models import Sequential # import Sequential flow to build model\n",
        "from keras.layers import Flatten # import flatten layer to convert any dimensional layer into one di\n",
        "from keras.layers import Convolution2D, MaxPooling2D # for doing convolution and maxpooling on image \n",
        "from keras.utils import np_utils # utility functions\n",
        "\n",
        "from keras.datasets import mnist# import mnist dataset\n",
        "from matplotlib import pyplot as plt # import pyplot alias plt for plotting\n",
        "#%matplotlib inline # print results in notebook cells"
      ],
      "execution_count": 0,
      "outputs": []
    },
    {
      "cell_type": "markdown",
      "metadata": {
        "id": "zByEi95J86RD",
        "colab_type": "text"
      },
      "source": [
        "### Load pre-shuffled MNIST data into train and test sets"
      ]
    },
    {
      "cell_type": "code",
      "metadata": {
        "id": "7eRM0QWN83PV",
        "colab_type": "code",
        "colab": {}
      },
      "source": [
        "(X_train, y_train), (X_test, y_test) = mnist.load_data()# download mnist dataset and load for training and testing sets"
      ],
      "execution_count": 0,
      "outputs": []
    },
    {
      "cell_type": "code",
      "metadata": {
        "id": "4a4Be72j8-ZC",
        "colab_type": "code",
        "outputId": "bf330c16-dd11-4dbb-af95-8ce3c37b965e",
        "colab": {
          "base_uri": "https://localhost:8080/",
          "height": 304
        }
      },
      "source": [
        "print (X_train.shape) # print shape of X_train dataset\n",
        " \n",
        "\n",
        "\n",
        "plt.imshow(X_train[0]) # display image"
      ],
      "execution_count": 0,
      "outputs": [
        {
          "output_type": "stream",
          "text": [
            "(60000, 28, 28)\n"
          ],
          "name": "stdout"
        },
        {
          "output_type": "execute_result",
          "data": {
            "text/plain": [
              "<matplotlib.image.AxesImage at 0x7f3bdae94160>"
            ]
          },
          "metadata": {
            "tags": []
          },
          "execution_count": 5
        },
        {
          "output_type": "display_data",
          "data": {
            "image/png": "[encoded data removed]",
            "text/plain": [
              "<Figure size 432x288 with 1 Axes>"
            ]
          },
          "metadata": {
            "tags": []
          }
        }
      ]
    },
    {
      "cell_type": "code",
      "metadata": {
        "id": "dkmprriw9AnZ",
        "colab_type": "code",
        "colab": {}
      },
      "source": [
        "X_train = X_train.reshape(X_train.shape[0], 28, 28,1) # reshape or arrange train dataset for all images with 1 channel \n",
        "X_test = X_test.reshape(X_test.shape[0], 28, 28,1)# reshape or arrange test dataset for all images with 1 channel"
      ],
      "execution_count": 0,
      "outputs": []
    },
    {
      "cell_type": "code",
      "metadata": {
        "id": "X2m4YS4E9CRh",
        "colab_type": "code",
        "colab": {}
      },
      "source": [
        "X_train = X_train.astype('float32') # set datatype of training dataset as float32\n",
        "X_test = X_test.astype('float32')# set datatype of test dataset as float32\n",
        "X_train /= 255 # normalize training dataset between 0 and 1\n",
        "X_test /= 255 # normalize tes dataset between 0 and 1"
      ],
      "execution_count": 0,
      "outputs": []
    },
    {
      "cell_type": "code",
      "metadata": {
        "id": "0Mn0vAYD9DvB",
        "colab_type": "code",
        "outputId": "07f9816d-ee86-4b8d-8b21-a3a5ec073e01",
        "colab": {
          "base_uri": "https://localhost:8080/",
          "height": 34
        }
      },
      "source": [
        "y_train[:10] # training set labels"
      ],
      "execution_count": 0,
      "outputs": [
        {
          "output_type": "execute_result",
          "data": {
            "text/plain": [
              "array([5, 0, 4, 1, 9, 2, 1, 3, 1, 4], dtype=uint8)"
            ]
          },
          "metadata": {
            "tags": []
          },
          "execution_count": 8
        }
      ]
    },
    {
      "cell_type": "code",
      "metadata": {
        "id": "ZG8JiXR39FHC",
        "colab_type": "code",
        "colab": {}
      },
      "source": [
        "# Convert 1-dimensional class arrays to 10-dimensional class matrices\n",
        "Y_train = np_utils.to_categorical(y_train, 10)# convert train labels into one-hot encodings\n",
        "Y_test = np_utils.to_categorical(y_test, 10)# convert test labels into one-hot encodings"
      ],
      "execution_count": 0,
      "outputs": []
    },
    {
      "cell_type": "code",
      "metadata": {
        "id": "fYlFRvKS9HMB",
        "colab_type": "code",
        "outputId": "d751db74-210b-4788-bda9-d34992fc49db",
        "colab": {
          "base_uri": "https://localhost:8080/",
          "height": 194
        }
      },
      "source": [
        "Y_train[:10]# print first 10 train labels\n"
      ],
      "execution_count": 0,
      "outputs": [
        {
          "output_type": "execute_result",
          "data": {
            "text/plain": [
              "array([[0., 0., 0., 0., 0., 1., 0., 0., 0., 0.],\n",
              "       [1., 0., 0., 0., 0., 0., 0., 0., 0., 0.],\n",
              "       [0., 0., 0., 0., 1., 0., 0., 0., 0., 0.],\n",
              "       [0., 1., 0., 0., 0., 0., 0., 0., 0., 0.],\n",
              "       [0., 0., 0., 0., 0., 0., 0., 0., 0., 1.],\n",
              "       [0., 0., 1., 0., 0., 0., 0., 0., 0., 0.],\n",
              "       [0., 1., 0., 0., 0., 0., 0., 0., 0., 0.],\n",
              "       [0., 0., 0., 1., 0., 0., 0., 0., 0., 0.],\n",
              "       [0., 1., 0., 0., 0., 0., 0., 0., 0., 0.],\n",
              "       [0., 0., 0., 0., 1., 0., 0., 0., 0., 0.]], dtype=float32)"
            ]
          },
          "metadata": {
            "tags": []
          },
          "execution_count": 10
        }
      ]
    },
    {
      "cell_type": "code",
      "metadata": {
        "colab_type": "code",
        "outputId": "29c4abd3-6ed8-4f81-ec76-586fcee8fe7e",
        "id": "PJIzAxm98HvS",
        "colab": {
          "base_uri": "https://localhost:8080/",
          "height": 232
        }
      },
      "source": [
        "from keras.layers import Activation \n",
        "\n",
        "model = Sequential() # Sequential model\n",
        " \n",
        "model.add(Convolution2D(16, 3, 3, activation='relu', input_shape=(28,28,1))) # Input Channel dimension= 1, output channel dimension= 16, RF = 3, out_img_size = 26\n",
        "\n",
        "model.add(Convolution2D(32, 3, 3, activation='relu')) # Input Channel dimension= 32, output channel dimension= 32, RF = 5, out_img_size = 24\n",
        "\n",
        "model.add(MaxPooling2D(pool_size = (2, 2))) # Input Channel dimension= 32, output channel dimension= 32, RF = 6, out_img_size = 12\n",
        "model.add(Convolution2D(10, 1, activation='relu')) # Input Channel dimension= 32, output channel dimension= 10, RF = 6, out_img_size = 12\n",
        "\n",
        "model.add(Convolution2D(64, 3, 3, activation='relu'))# Input Channel dimension= 10, output channel dimension= 64, RF = 10, out_img_size = 10\n",
        "\n",
        "model.add(Convolution2D(10, 1, activation='relu'))# Input Channel dimension= 64, output channel dimension= 10, RF = 10, out_img_size = 10\n",
        "\n",
        "model.add(Convolution2D(64, 3, 3, activation='relu'))# Input Channel dimension= 10, output channel dimension= 64, RF = 14, out_img_size = 8\n",
        "\n",
        "model.add(MaxPooling2D(pool_size = (2, 2)))# Input Channel dimension= 64, output channel dimension= 64, RF = 15, out_img_size = 4\n",
        "model.add(Convolution2D(10, 1, activation='relu'))# Input Channel dimension= 64, output channel dimension= 10, RF = 15, out_img_size = 4\n",
        " \n",
        "model.add(Convolution2D(10, 4)) # Input Channel dimension= 10, output channel dimension= 10, RF = 27, out_img_size = 1\n",
        "\n",
        "model.add(Flatten()) #flatten image dimension into 1\n",
        "model.add(Activation('softmax'))# softmax to assign confidence score of each class"
      ],
      "execution_count": 0,
      "outputs": [
        {
          "output_type": "stream",
          "text": [
            "WARNING:tensorflow:From /usr/local/lib/python3.6/dist-packages/tensorflow/python/framework/op_def_library.py:263: colocate_with (from tensorflow.python.framework.ops) is deprecated and will be removed in a future version.\n",
            "Instructions for updating:\n",
            "Colocations handled automatically by placer.\n"
          ],
          "name": "stdout"
        },
        {
          "output_type": "stream",
          "text": [
            "/usr/local/lib/python3.6/dist-packages/ipykernel_launcher.py:5: UserWarning: Update your `Conv2D` call to the Keras 2 API: `Conv2D(16, (3, 3), activation=\"relu\", input_shape=(28, 28, 1...)`\n",
            "  \"\"\"\n",
            "/usr/local/lib/python3.6/dist-packages/ipykernel_launcher.py:6: UserWarning: Update your `Conv2D` call to the Keras 2 API: `Conv2D(32, (3, 3), activation=\"relu\")`\n",
            "  \n",
            "/usr/local/lib/python3.6/dist-packages/ipykernel_launcher.py:10: UserWarning: Update your `Conv2D` call to the Keras 2 API: `Conv2D(64, (3, 3), activation=\"relu\")`\n",
            "  # Remove the CWD from sys.path while we load stuff.\n",
            "/usr/local/lib/python3.6/dist-packages/ipykernel_launcher.py:12: UserWarning: Update your `Conv2D` call to the Keras 2 API: `Conv2D(64, (3, 3), activation=\"relu\")`\n",
            "  if sys.path[0] == '':\n"
          ],
          "name": "stderr"
        }
      ]
    },
    {
      "cell_type": "code",
      "metadata": {
        "colab_type": "code",
        "outputId": "86a54772-eafe-4538-eba9-ba0950d8513a",
        "id": "AGZSY5ps8Hvj",
        "colab": {
          "base_uri": "https://localhost:8080/",
          "height": 567
        }
      },
      "source": [
        "model.summary()"
      ],
      "execution_count": 0,
      "outputs": [
        {
          "output_type": "stream",
          "text": [
            "_________________________________________________________________\n",
            "Layer (type)                 Output Shape              Param #   \n",
            "=================================================================\n",
            "conv2d_25 (Conv2D)           (None, 26, 26, 16)        160       \n",
            "_________________________________________________________________\n",
            "conv2d_26 (Conv2D)           (None, 24, 24, 32)        4640      \n",
            "_________________________________________________________________\n",
            "max_pooling2d_7 (MaxPooling2 (None, 12, 12, 32)        0         \n",
            "_________________________________________________________________\n",
            "conv2d_27 (Conv2D)           (None, 12, 12, 10)        330       \n",
            "_________________________________________________________________\n",
            "conv2d_28 (Conv2D)           (None, 10, 10, 64)        5824      \n",
            "_________________________________________________________________\n",
            "conv2d_29 (Conv2D)           (None, 10, 10, 10)        650       \n",
            "_________________________________________________________________\n",
            "conv2d_30 (Conv2D)           (None, 8, 8, 64)          5824      \n",
            "_________________________________________________________________\n",
            "max_pooling2d_8 (MaxPooling2 (None, 4, 4, 64)          0         \n",
            "_________________________________________________________________\n",
            "conv2d_31 (Conv2D)           (None, 4, 4, 10)          650       \n",
            "_________________________________________________________________\n",
            "conv2d_32 (Conv2D)           (None, 1, 1, 10)          1610      \n",
            "_________________________________________________________________\n",
            "flatten_4 (Flatten)          (None, 10)                0         \n",
            "_________________________________________________________________\n",
            "activation_4 (Activation)    (None, 10)                0         \n",
            "=================================================================\n",
            "Total params: 19,688\n",
            "Trainable params: 19,688\n",
            "Non-trainable params: 0\n",
            "_________________________________________________________________\n"
          ],
          "name": "stdout"
        }
      ]
    },
    {
      "cell_type": "code",
      "metadata": {
        "id": "f9ay1n8yb89H",
        "colab_type": "code",
        "colab": {}
      },
      "source": [
        ""
      ],
      "execution_count": 0,
      "outputs": []
    },
    {
      "cell_type": "code",
      "metadata": {
        "id": "KZam8Hq6lyN8",
        "colab_type": "code",
        "colab": {}
      },
      "source": [
        "# import callbacks\n",
        "from keras.callbacks import ModelCheckpoint"
      ],
      "execution_count": 0,
      "outputs": []
    },
    {
      "cell_type": "code",
      "metadata": {
        "id": "eoYiClnul61n",
        "colab_type": "code",
        "colab": {}
      },
      "source": [
        "# save best weights \n",
        "final_weights_path = 'best_mnist_cnn_model.h5'"
      ],
      "execution_count": 0,
      "outputs": []
    },
    {
      "cell_type": "code",
      "metadata": {
        "id": "eT4ip7U1l_kj",
        "colab_type": "code",
        "colab": {}
      },
      "source": [
        "callbacks_list = [ModelCheckpoint(final_weights_path, monitor='val_acc', verbose = 1,save_best_only = True)]  \n"
      ],
      "execution_count": 0,
      "outputs": []
    },
    {
      "cell_type": "code",
      "metadata": {
        "colab_type": "code",
        "id": "pEMg8GiG8Hvt",
        "colab": {}
      },
      "source": [
        "# model compilation\n",
        "model.compile(loss='categorical_crossentropy',\n",
        "             optimizer='adam',\n",
        "             metrics=['accuracy'])"
      ],
      "execution_count": 0,
      "outputs": []
    },
    {
      "cell_type": "code",
      "metadata": {
        "colab_type": "code",
        "outputId": "bb320dd7-1b0c-44e1-e8eb-705b6667d7f6",
        "id": "nx6l2OaS8Hvx",
        "colab": {
          "base_uri": "https://localhost:8080/",
          "height": 2203
        }
      },
      "source": [
        "# model training\n",
        "history = model.fit(X_train, Y_train, batch_size=32, nb_epoch=30, validation_data=(X_test,Y_test),callbacks = callbacks_list, verbose=1)"
      ],
      "execution_count": 0,
      "outputs": [
        {
          "output_type": "stream",
          "text": [
            "/usr/local/lib/python3.6/dist-packages/ipykernel_launcher.py:1: UserWarning: The `nb_epoch` argument in `fit` has been renamed `epochs`.\n",
            "  \"\"\"Entry point for launching an IPython kernel.\n"
          ],
          "name": "stderr"
        },
        {
          "output_type": "stream",
          "text": [
            "Train on 60000 samples, validate on 10000 samples\n",
            "Epoch 1/30\n",
            "60000/60000 [==============================] - 14s 240us/step - loss: 0.2094 - acc: 0.9342 - val_loss: 0.0710 - val_acc: 0.9764\n",
            "\n",
            "Epoch 00001: val_acc improved from -inf to 0.97640, saving model to best_mnist_cnn_model.h5\n",
            "Epoch 2/30\n",
            "60000/60000 [==============================] - 13s 210us/step - loss: 0.0682 - acc: 0.9789 - val_loss: 0.0492 - val_acc: 0.9843\n",
            "\n",
            "Epoch 00002: val_acc improved from 0.97640 to 0.98430, saving model to best_mnist_cnn_model.h5\n",
            "Epoch 3/30\n",
            "60000/60000 [==============================] - 12s 208us/step - loss: 0.0518 - acc: 0.9841 - val_loss: 0.0463 - val_acc: 0.9859\n",
            "\n",
            "Epoch 00003: val_acc improved from 0.98430 to 0.98590, saving model to best_mnist_cnn_model.h5\n",
            "Epoch 4/30\n",
            "60000/60000 [==============================] - 12s 208us/step - loss: 0.0428 - acc: 0.9865 - val_loss: 0.0496 - val_acc: 0.9843\n",
            "\n",
            "Epoch 00004: val_acc did not improve from 0.98590\n",
            "Epoch 5/30\n",
            "60000/60000 [==============================] - 12s 208us/step - loss: 0.0370 - acc: 0.9884 - val_loss: 0.0406 - val_acc: 0.9859\n",
            "\n",
            "Epoch 00005: val_acc did not improve from 0.98590\n",
            "Epoch 6/30\n",
            "60000/60000 [==============================] - 13s 211us/step - loss: 0.0318 - acc: 0.9900 - val_loss: 0.0329 - val_acc: 0.9889\n",
            "\n",
            "Epoch 00006: val_acc improved from 0.98590 to 0.98890, saving model to best_mnist_cnn_model.h5\n",
            "Epoch 7/30\n",
            "60000/60000 [==============================] - 15s 243us/step - loss: 0.0292 - acc: 0.9909 - val_loss: 0.0329 - val_acc: 0.9891\n",
            "\n",
            "Epoch 00007: val_acc improved from 0.98890 to 0.98910, saving model to best_mnist_cnn_model.h5\n",
            "Epoch 8/30\n",
            "60000/60000 [==============================] - 13s 215us/step - loss: 0.0253 - acc: 0.9916 - val_loss: 0.0277 - val_acc: 0.9909\n",
            "\n",
            "Epoch 00008: val_acc improved from 0.98910 to 0.99090, saving model to best_mnist_cnn_model.h5\n",
            "Epoch 9/30\n",
            "60000/60000 [==============================] - 12s 207us/step - loss: 0.0220 - acc: 0.9929 - val_loss: 0.0353 - val_acc: 0.9883\n",
            "\n",
            "Epoch 00009: val_acc did not improve from 0.99090\n",
            "Epoch 10/30\n",
            "60000/60000 [==============================] - 12s 208us/step - loss: 0.0219 - acc: 0.9931 - val_loss: 0.0396 - val_acc: 0.9895\n",
            "\n",
            "Epoch 00010: val_acc did not improve from 0.99090\n",
            "Epoch 11/30\n",
            "60000/60000 [==============================] - 12s 208us/step - loss: 0.0191 - acc: 0.9941 - val_loss: 0.0305 - val_acc: 0.9918\n",
            "\n",
            "Epoch 00011: val_acc improved from 0.99090 to 0.99180, saving model to best_mnist_cnn_model.h5\n",
            "Epoch 12/30\n",
            "60000/60000 [==============================] - 12s 208us/step - loss: 0.0180 - acc: 0.9942 - val_loss: 0.0317 - val_acc: 0.9902\n",
            "\n",
            "Epoch 00012: val_acc did not improve from 0.99180\n",
            "Epoch 13/30\n",
            "60000/60000 [==============================] - 13s 210us/step - loss: 0.0160 - acc: 0.9949 - val_loss: 0.0306 - val_acc: 0.9900\n",
            "\n",
            "Epoch 00013: val_acc did not improve from 0.99180\n",
            "Epoch 14/30\n",
            "60000/60000 [==============================] - 14s 225us/step - loss: 0.0146 - acc: 0.9950 - val_loss: 0.0343 - val_acc: 0.9905\n",
            "\n",
            "Epoch 00014: val_acc did not improve from 0.99180\n",
            "Epoch 15/30\n",
            "60000/60000 [==============================] - 13s 208us/step - loss: 0.0145 - acc: 0.9951 - val_loss: 0.0406 - val_acc: 0.9894\n",
            "\n",
            "Epoch 00015: val_acc did not improve from 0.99180\n",
            "Epoch 16/30\n",
            "60000/60000 [==============================] - 13s 220us/step - loss: 0.0131 - acc: 0.9956 - val_loss: 0.0487 - val_acc: 0.9862\n",
            "\n",
            "Epoch 00016: val_acc did not improve from 0.99180\n",
            "Epoch 17/30\n",
            "60000/60000 [==============================] - 12s 208us/step - loss: 0.0130 - acc: 0.9955 - val_loss: 0.0334 - val_acc: 0.9915\n",
            "\n",
            "Epoch 00017: val_acc did not improve from 0.99180\n",
            "Epoch 18/30\n",
            "60000/60000 [==============================] - 12s 208us/step - loss: 0.0117 - acc: 0.9961 - val_loss: 0.0389 - val_acc: 0.9901\n",
            "\n",
            "Epoch 00018: val_acc did not improve from 0.99180\n",
            "Epoch 19/30\n",
            "60000/60000 [==============================] - 12s 208us/step - loss: 0.0117 - acc: 0.9961 - val_loss: 0.0380 - val_acc: 0.9903\n",
            "\n",
            "Epoch 00019: val_acc did not improve from 0.99180\n",
            "Epoch 20/30\n",
            "60000/60000 [==============================] - 14s 229us/step - loss: 0.0102 - acc: 0.9969 - val_loss: 0.0398 - val_acc: 0.9905\n",
            "\n",
            "Epoch 00020: val_acc did not improve from 0.99180\n",
            "Epoch 21/30\n",
            "60000/60000 [==============================] - 12s 208us/step - loss: 0.0106 - acc: 0.9966 - val_loss: 0.0478 - val_acc: 0.9888\n",
            "\n",
            "Epoch 00021: val_acc did not improve from 0.99180\n",
            "Epoch 22/30\n",
            "60000/60000 [==============================] - 12s 208us/step - loss: 0.0091 - acc: 0.9970 - val_loss: 0.0492 - val_acc: 0.9896\n",
            "\n",
            "Epoch 00022: val_acc did not improve from 0.99180\n",
            "Epoch 23/30\n",
            "60000/60000 [==============================] - 12s 208us/step - loss: 0.0103 - acc: 0.9966 - val_loss: 0.0460 - val_acc: 0.9897\n",
            "\n",
            "Epoch 00023: val_acc did not improve from 0.99180\n",
            "Epoch 24/30\n",
            "60000/60000 [==============================] - 13s 208us/step - loss: 0.0092 - acc: 0.9967 - val_loss: 0.0332 - val_acc: 0.9919\n",
            "\n",
            "Epoch 00024: val_acc improved from 0.99180 to 0.99190, saving model to best_mnist_cnn_model.h5\n",
            "Epoch 25/30\n",
            "60000/60000 [==============================] - 13s 209us/step - loss: 0.0100 - acc: 0.9966 - val_loss: 0.0371 - val_acc: 0.9903\n",
            "\n",
            "Epoch 00025: val_acc did not improve from 0.99190\n",
            "Epoch 26/30\n",
            "60000/60000 [==============================] - 13s 221us/step - loss: 0.0080 - acc: 0.9973 - val_loss: 0.0465 - val_acc: 0.9894\n",
            "\n",
            "Epoch 00026: val_acc did not improve from 0.99190\n",
            "Epoch 27/30\n",
            "60000/60000 [==============================] - 13s 215us/step - loss: 0.0088 - acc: 0.9967 - val_loss: 0.0520 - val_acc: 0.9884\n",
            "\n",
            "Epoch 00027: val_acc did not improve from 0.99190\n",
            "Epoch 28/30\n",
            "60000/60000 [==============================] - 12s 208us/step - loss: 0.0090 - acc: 0.9970 - val_loss: 0.0385 - val_acc: 0.9925\n",
            "\n",
            "Epoch 00028: val_acc improved from 0.99190 to 0.99250, saving model to best_mnist_cnn_model.h5\n",
            "Epoch 29/30\n",
            "60000/60000 [==============================] - 12s 208us/step - loss: 0.0079 - acc: 0.9973 - val_loss: 0.0465 - val_acc: 0.9895\n",
            "\n",
            "Epoch 00029: val_acc did not improve from 0.99250\n",
            "Epoch 30/30\n",
            "60000/60000 [==============================] - 12s 207us/step - loss: 0.0077 - acc: 0.9974 - val_loss: 0.0471 - val_acc: 0.9902\n",
            "\n",
            "Epoch 00030: val_acc did not improve from 0.99250\n"
          ],
          "name": "stdout"
        }
      ]
    },
    {
      "cell_type": "code",
      "metadata": {
        "id": "kJrRqQ3ye6Wz",
        "colab_type": "code",
        "colab": {}
      },
      "source": [
        ""
      ],
      "execution_count": 0,
      "outputs": []
    },
    {
      "cell_type": "markdown",
      "metadata": {
        "id": "fsPXwZkd6ZQk",
        "colab_type": "text"
      },
      "source": [
        "# Visualization"
      ]
    },
    {
      "cell_type": "code",
      "metadata": {
        "id": "gSIHq50me60q",
        "colab_type": "code",
        "outputId": "cb0238d8-44af-4b4b-f05f-c5bc3d411ddc",
        "colab": {
          "base_uri": "https://localhost:8080/",
          "height": 268
        }
      },
      "source": [
        "plt.plot(history.history['acc'],'r')\n",
        "plt.plot(history.history['val_acc'],'b')\n",
        "plt.legend({'training accuracy':'r', 'validation accuracy': 'b'})\n",
        "plt.show()"
      ],
      "execution_count": 0,
      "outputs": [
        {
          "output_type": "display_data",
          "data": {
            "image/png": "[encoded data removed]",
            "text/plain": [
              "<Figure size 432x288 with 1 Axes>"
            ]
          },
          "metadata": {
            "tags": []
          }
        }
      ]
    },
    {
      "cell_type": "code",
      "metadata": {
        "id": "_rde15Gue77D",
        "colab_type": "code",
        "outputId": "50bf3d9a-f81d-43df-916d-c6f401461a46",
        "colab": {
          "base_uri": "https://localhost:8080/",
          "height": 268
        }
      },
      "source": [
        "plt.plot(history.history['loss'],'r')\n",
        "plt.plot(history.history['val_loss'],'b')\n",
        "plt.legend({'training loss':'r', 'validation loss': 'b'})\n",
        "plt.show()"
      ],
      "execution_count": 0,
      "outputs": [
        {
          "output_type": "display_data",
          "data": {
            "image/png": "[encoded data removed]",
            "text/plain": [
              "<Figure size 432x288 with 1 Axes>"
            ]
          },
          "metadata": {
            "tags": []
          }
        }
      ]
    },
    {
      "cell_type": "code",
      "metadata": {
        "colab_type": "code",
        "id": "rqIwzY1t8HwG",
        "colab": {}
      },
      "source": [
        "#model score accuarcy on test data\n",
        "score = model.evaluate(X_test, Y_test, verbose=0)"
      ],
      "execution_count": 0,
      "outputs": []
    },
    {
      "cell_type": "code",
      "metadata": {
        "colab_type": "code",
        "outputId": "a6c7c85b-8ef5-4e31-ef98-119722e9da01",
        "id": "A0JlOK_58HwM",
        "colab": {
          "base_uri": "https://localhost:8080/",
          "height": 34
        }
      },
      "source": [
        "print(score)"
      ],
      "execution_count": 0,
      "outputs": [
        {
          "output_type": "stream",
          "text": [
            "[0.04711167192283101, 0.9902]\n"
          ],
          "name": "stdout"
        }
      ]
    },
    {
      "cell_type": "code",
      "metadata": {
        "id": "PqybJxamWwVt",
        "colab_type": "code",
        "colab": {}
      },
      "source": [
        ""
      ],
      "execution_count": 0,
      "outputs": []
    },
    {
      "cell_type": "markdown",
      "metadata": {
        "id": "HPMRMfJZ6nus",
        "colab_type": "text"
      },
      "source": [
        "# Maximum Validation Accuracy achieved 99.25% @ 28th epoch with 19.6 K parameters\n",
        "# Let's forward this network to 2nd notebook"
      ]
    }
  ]
}
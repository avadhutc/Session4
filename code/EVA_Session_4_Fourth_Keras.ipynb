{
  "nbformat": 4,
  "nbformat_minor": 0,
  "metadata": {
    "colab": {
      "name": "EVA_Session_4_Fourth_Keras.ipynb",
      "version": "0.3.2",
      "provenance": [],
      "collapsed_sections": [],
      "include_colab_link": true
    },
    "kernelspec": {
      "name": "python3",
      "display_name": "Python 3"
    },
    "accelerator": "GPU"
  },
  "cells": [
    {
      "cell_type": "markdown",
      "metadata": {
        "id": "view-in-github",
        "colab_type": "text"
      },
      "source": [
        "<a href=\"https://colab.research.google.com/github/avadhutc/Session4/blob/master/code/EVA_Session_4_Fourth_Keras.ipynb\" target=\"_parent\"><img src=\"https://colab.research.google.com/assets/colab-badge.svg\" alt=\"Open In Colab\"/></a>"
      ]
    },
    {
      "cell_type": "markdown",
      "metadata": {
        "id": "aNyZv-Ec52ot",
        "colab_type": "text"
      },
      "source": [
        "# Change No: 1,  Reduce Lr on Plateau by factor = 0.1"
      ]
    },
    {
      "cell_type": "markdown",
      "metadata": {
        "id": "_lZ1B07QJW1c",
        "colab_type": "text"
      },
      "source": [
        "# **Import Libraries and modules**"
      ]
    },
    {
      "cell_type": "code",
      "metadata": {
        "id": "3m3w1Cw49Zkt",
        "colab_type": "code",
        "colab": {}
      },
      "source": [
        "# https://keras.io/\n",
        "!pip install -q keras # install keras package\n",
        "import keras # import keras package for use"
      ],
      "execution_count": 0,
      "outputs": []
    },
    {
      "cell_type": "code",
      "metadata": {
        "id": "Eso6UHE080D4",
        "colab_type": "code",
        "colab": {}
      },
      "source": [
        "import numpy as np # import numpy package alias np\n",
        "\n",
        "from keras.models import Sequential # import Sequential flow to build model\n",
        "from keras.layers import Flatten # import flatten layer to convert any dimensional layer into one di\n",
        "from keras.layers import Convolution2D, MaxPooling2D # for doing convolution and maxpooling on image \n",
        "from keras.utils import np_utils # utility functions\n",
        "\n",
        "from keras.datasets import mnist# import mnist dataset"
      ],
      "execution_count": 0,
      "outputs": []
    },
    {
      "cell_type": "markdown",
      "metadata": {
        "id": "zByEi95J86RD",
        "colab_type": "text"
      },
      "source": [
        "### Load pre-shuffled MNIST data into train and test sets"
      ]
    },
    {
      "cell_type": "code",
      "metadata": {
        "id": "7eRM0QWN83PV",
        "colab_type": "code",
        "colab": {}
      },
      "source": [
        "(X_train, y_train), (X_test, y_test) = mnist.load_data()# download mnist dataset and load for training and testing sets"
      ],
      "execution_count": 0,
      "outputs": []
    },
    {
      "cell_type": "code",
      "metadata": {
        "id": "4a4Be72j8-ZC",
        "colab_type": "code",
        "outputId": "3db4da99-02b1-4294-9c5e-22dacf6e1509",
        "colab": {
          "base_uri": "https://localhost:8080/",
          "height": 304
        }
      },
      "source": [
        "print (X_train.shape) # print shape of X_train dataset\n",
        "from matplotlib import pyplot as plt # import pyplot alias plt for plotting \n",
        "#%matplotlib inline # print results in notebook cells\n",
        "plt.imshow(X_train[0]) # display image"
      ],
      "execution_count": 0,
      "outputs": [
        {
          "output_type": "stream",
          "text": [
            "(60000, 28, 28)\n"
          ],
          "name": "stdout"
        },
        {
          "output_type": "execute_result",
          "data": {
            "text/plain": [
              "<matplotlib.image.AxesImage at 0x7f8d306956a0>"
            ]
          },
          "metadata": {
            "tags": []
          },
          "execution_count": 17
        },
        {
          "output_type": "display_data",
          "data": {
            "image/png": "[encoded data removed]",
            "text/plain": [
              "<Figure size 432x288 with 1 Axes>"
            ]
          },
          "metadata": {
            "tags": []
          }
        }
      ]
    },
    {
      "cell_type": "code",
      "metadata": {
        "id": "dkmprriw9AnZ",
        "colab_type": "code",
        "colab": {}
      },
      "source": [
        "X_train = X_train.reshape(X_train.shape[0], 28, 28,1) # reshape or arrange train dataset for all images with 1 channel \n",
        "X_test = X_test.reshape(X_test.shape[0], 28, 28,1)# reshape or arrange test dataset for all images with 1 channel"
      ],
      "execution_count": 0,
      "outputs": []
    },
    {
      "cell_type": "code",
      "metadata": {
        "id": "X2m4YS4E9CRh",
        "colab_type": "code",
        "colab": {}
      },
      "source": [
        "X_train = X_train.astype('float32') # set datatype of training dataset as float32\n",
        "X_test = X_test.astype('float32')# set datatype of test dataset as float32\n",
        "X_train /= 255 # normalize training dataset between 0 and 1\n",
        "X_test /= 255 # normalize tes dataset between 0 and 1"
      ],
      "execution_count": 0,
      "outputs": []
    },
    {
      "cell_type": "code",
      "metadata": {
        "id": "0Mn0vAYD9DvB",
        "colab_type": "code",
        "outputId": "4884bad3-9033-4a47-dd4e-6dd16d2732ab",
        "colab": {
          "base_uri": "https://localhost:8080/",
          "height": 34
        }
      },
      "source": [
        "y_train[:10] # training set labels"
      ],
      "execution_count": 0,
      "outputs": [
        {
          "output_type": "execute_result",
          "data": {
            "text/plain": [
              "array([5, 0, 4, 1, 9, 2, 1, 3, 1, 4], dtype=uint8)"
            ]
          },
          "metadata": {
            "tags": []
          },
          "execution_count": 20
        }
      ]
    },
    {
      "cell_type": "code",
      "metadata": {
        "id": "ZG8JiXR39FHC",
        "colab_type": "code",
        "colab": {}
      },
      "source": [
        "# Convert 1-dimensional class arrays to 10-dimensional class matrices\n",
        "Y_train = np_utils.to_categorical(y_train, 10)# convert train labels into one-hot encodings\n",
        "Y_test = np_utils.to_categorical(y_test, 10)# convert test labels into one-hot encodings"
      ],
      "execution_count": 0,
      "outputs": []
    },
    {
      "cell_type": "code",
      "metadata": {
        "id": "fYlFRvKS9HMB",
        "colab_type": "code",
        "outputId": "24069803-ed7b-4db7-858b-9b544050843d",
        "colab": {
          "base_uri": "https://localhost:8080/",
          "height": 194
        }
      },
      "source": [
        "Y_train[:10]# print first 10 train labels\n"
      ],
      "execution_count": 0,
      "outputs": [
        {
          "output_type": "execute_result",
          "data": {
            "text/plain": [
              "array([[0., 0., 0., 0., 0., 1., 0., 0., 0., 0.],\n",
              "       [1., 0., 0., 0., 0., 0., 0., 0., 0., 0.],\n",
              "       [0., 0., 0., 0., 1., 0., 0., 0., 0., 0.],\n",
              "       [0., 1., 0., 0., 0., 0., 0., 0., 0., 0.],\n",
              "       [0., 0., 0., 0., 0., 0., 0., 0., 0., 1.],\n",
              "       [0., 0., 1., 0., 0., 0., 0., 0., 0., 0.],\n",
              "       [0., 1., 0., 0., 0., 0., 0., 0., 0., 0.],\n",
              "       [0., 0., 0., 1., 0., 0., 0., 0., 0., 0.],\n",
              "       [0., 1., 0., 0., 0., 0., 0., 0., 0., 0.],\n",
              "       [0., 0., 0., 0., 1., 0., 0., 0., 0., 0.]], dtype=float32)"
            ]
          },
          "metadata": {
            "tags": []
          },
          "execution_count": 22
        }
      ]
    },
    {
      "cell_type": "code",
      "metadata": {
        "id": "4wgSvkxT8HPu",
        "colab_type": "code",
        "colab": {}
      },
      "source": [
        ""
      ],
      "execution_count": 0,
      "outputs": []
    },
    {
      "cell_type": "code",
      "metadata": {
        "id": "8Wz6bjEQ8HTH",
        "colab_type": "code",
        "colab": {}
      },
      "source": [
        ""
      ],
      "execution_count": 0,
      "outputs": []
    },
    {
      "cell_type": "code",
      "metadata": {
        "colab_type": "code",
        "outputId": "0234afdf-9215-40aa-a854-378ce6ef76a2",
        "id": "T6Oi_HIauRRN",
        "colab": {
          "base_uri": "https://localhost:8080/",
          "height": 146
        }
      },
      "source": [
        "from keras.layers import Activation, BatchNormalization\n",
        "\n",
        "model = Sequential() # Sequential model\n",
        " \n",
        "model.add(Convolution2D(16, 3, 3, activation='relu', input_shape=(28,28,1))) # Input Channel dimension= 1, output channel dimension= 16, RF = 3, out_img_size = 26\n",
        "model.add(BatchNormalization())\n",
        "\n",
        "model.add(Convolution2D(32, 3, 3, activation='relu')) # Input Channel dimension= 16, output channel dimension= 32, RF = 5, out_img_size = 24\n",
        "model.add(BatchNormalization())\n",
        "\n",
        "model.add(MaxPooling2D(pool_size = (2, 2))) # Input Channel dimension= 32, output channel dimension= 32, RF = 6, out_img_size = 12\n",
        "\n",
        "model.add(Convolution2D(10, 1, activation='relu')) # Input Channel dimension= 32, output channel dimension= 10, RF = 6, out_img_size = 12\n",
        "\n",
        "model.add(Convolution2D(64, 3, 3, activation='relu'))# Input Channel dimension= 10, output channel dimension= 64, RF = 10, out_img_size = 10\n",
        "model.add(BatchNormalization())\n",
        "\n",
        "model.add(MaxPooling2D(pool_size = (2, 2)))# Input Channel dimension= 64, output channel dimension= 64, RF = 11, out_img_size = 5\n",
        "model.add(Convolution2D(10, 1, activation='relu'))# Input Channel dimension= 64, output channel dimension= 10, RF = 11, out_img_size = 5\n",
        " \n",
        "model.add(Convolution2D(10, 5)) # Input Channel dimension= 10, output channel dimension= 10, RF = 11 + 8 + 8 = 27, out_img_size = 1\n",
        "\n",
        "model.add(Flatten()) #flatten image dimension into 1\n",
        "model.add(Activation('softmax'))# softmax to assign confidence score of each class"
      ],
      "execution_count": 0,
      "outputs": [
        {
          "output_type": "stream",
          "text": [
            "/usr/local/lib/python3.6/dist-packages/ipykernel_launcher.py:5: UserWarning: Update your `Conv2D` call to the Keras 2 API: `Conv2D(16, (3, 3), activation=\"relu\", input_shape=(28, 28, 1...)`\n",
            "  \"\"\"\n",
            "/usr/local/lib/python3.6/dist-packages/ipykernel_launcher.py:8: UserWarning: Update your `Conv2D` call to the Keras 2 API: `Conv2D(32, (3, 3), activation=\"relu\")`\n",
            "  \n",
            "/usr/local/lib/python3.6/dist-packages/ipykernel_launcher.py:15: UserWarning: Update your `Conv2D` call to the Keras 2 API: `Conv2D(64, (3, 3), activation=\"relu\")`\n",
            "  from ipykernel import kernelapp as app\n"
          ],
          "name": "stderr"
        }
      ]
    },
    {
      "cell_type": "code",
      "metadata": {
        "colab_type": "code",
        "outputId": "945fe6b0-b440-4f8c-fe6b-3ce2a9e7e090",
        "id": "4nPutt15uRRZ",
        "colab": {
          "base_uri": "https://localhost:8080/",
          "height": 617
        }
      },
      "source": [
        "model.summary()"
      ],
      "execution_count": 0,
      "outputs": [
        {
          "output_type": "stream",
          "text": [
            "_________________________________________________________________\n",
            "Layer (type)                 Output Shape              Param #   \n",
            "=================================================================\n",
            "conv2d_57 (Conv2D)           (None, 26, 26, 16)        160       \n",
            "_________________________________________________________________\n",
            "batch_normalization_22 (Batc (None, 26, 26, 16)        64        \n",
            "_________________________________________________________________\n",
            "conv2d_58 (Conv2D)           (None, 24, 24, 32)        4640      \n",
            "_________________________________________________________________\n",
            "batch_normalization_23 (Batc (None, 24, 24, 32)        128       \n",
            "_________________________________________________________________\n",
            "max_pooling2d_19 (MaxPooling (None, 12, 12, 32)        0         \n",
            "_________________________________________________________________\n",
            "conv2d_59 (Conv2D)           (None, 12, 12, 10)        330       \n",
            "_________________________________________________________________\n",
            "conv2d_60 (Conv2D)           (None, 10, 10, 64)        5824      \n",
            "_________________________________________________________________\n",
            "batch_normalization_24 (Batc (None, 10, 10, 64)        256       \n",
            "_________________________________________________________________\n",
            "max_pooling2d_20 (MaxPooling (None, 5, 5, 64)          0         \n",
            "_________________________________________________________________\n",
            "conv2d_61 (Conv2D)           (None, 5, 5, 10)          650       \n",
            "_________________________________________________________________\n",
            "conv2d_62 (Conv2D)           (None, 1, 1, 10)          2510      \n",
            "_________________________________________________________________\n",
            "flatten_10 (Flatten)         (None, 10)                0         \n",
            "_________________________________________________________________\n",
            "activation_10 (Activation)   (None, 10)                0         \n",
            "=================================================================\n",
            "Total params: 14,562\n",
            "Trainable params: 14,338\n",
            "Non-trainable params: 224\n",
            "_________________________________________________________________\n"
          ],
          "name": "stdout"
        }
      ]
    },
    {
      "cell_type": "code",
      "metadata": {
        "id": "KZam8Hq6lyN8",
        "colab_type": "code",
        "colab": {}
      },
      "source": [
        "# import callbacks\n",
        "from keras.callbacks import ModelCheckpoint, ReduceLROnPlateau"
      ],
      "execution_count": 0,
      "outputs": []
    },
    {
      "cell_type": "code",
      "metadata": {
        "id": "eoYiClnul61n",
        "colab_type": "code",
        "colab": {}
      },
      "source": [
        "# save best weights \n",
        "final_weights_path = 'best_mnist_cnn_model.h5'"
      ],
      "execution_count": 0,
      "outputs": []
    },
    {
      "cell_type": "code",
      "metadata": {
        "id": "7oAirfgkjG-Z",
        "colab_type": "code",
        "colab": {}
      },
      "source": [
        "# import adam optimizer parameters\n",
        "from keras.optimizers import Adam"
      ],
      "execution_count": 0,
      "outputs": []
    },
    {
      "cell_type": "code",
      "metadata": {
        "id": "-MwCEx6Li3gs",
        "colab_type": "code",
        "colab": {}
      },
      "source": [
        "# set adam optimizer parameters\n",
        "adam = Adam(lr=0.001, beta_1=0.9, beta_2=0.999, epsilon=1e-08, decay=0.0)"
      ],
      "execution_count": 0,
      "outputs": []
    },
    {
      "cell_type": "code",
      "metadata": {
        "id": "eT4ip7U1l_kj",
        "colab_type": "code",
        "colab": {}
      },
      "source": [
        "callbacks_list = [\n",
        "    ModelCheckpoint(final_weights_path, monitor='val_acc', verbose = 1,save_best_only = True),\n",
        "    ReduceLROnPlateau(monitor='val_acc', patience=5, verbose=1,factor=0.1, min_lr=0.00001 )\n",
        "]"
      ],
      "execution_count": 0,
      "outputs": []
    },
    {
      "cell_type": "code",
      "metadata": {
        "colab_type": "code",
        "id": "HLDoDhbhakFQ",
        "colab": {}
      },
      "source": [
        "# model compilation\n",
        "model.compile(loss='categorical_crossentropy', optimizer=adam,\n",
        "              metrics=['accuracy'])"
      ],
      "execution_count": 0,
      "outputs": []
    },
    {
      "cell_type": "code",
      "metadata": {
        "colab_type": "code",
        "outputId": "cc5acb88-2cc1-4657-de12-a1b0b8ddb17e",
        "id": "Q2ZJipP5akFV",
        "colab": {
          "base_uri": "https://localhost:8080/",
          "height": 3817
        }
      },
      "source": [
        "# model training\n",
        "history = model.fit(X_train, Y_train, batch_size=32, nb_epoch=50,validation_data=(X_test,Y_test),callbacks = callbacks_list, verbose=1)"
      ],
      "execution_count": 0,
      "outputs": [
        {
          "output_type": "stream",
          "text": [
            "/usr/local/lib/python3.6/dist-packages/ipykernel_launcher.py:1: UserWarning: The `nb_epoch` argument in `fit` has been renamed `epochs`.\n",
            "  \"\"\"Entry point for launching an IPython kernel.\n"
          ],
          "name": "stderr"
        },
        {
          "output_type": "stream",
          "text": [
            "Train on 60000 samples, validate on 10000 samples\n",
            "Epoch 1/50\n",
            "60000/60000 [==============================] - 16s 265us/step - loss: 0.1389 - acc: 0.9577 - val_loss: 0.0468 - val_acc: 0.9835\n",
            "\n",
            "Epoch 00001: val_acc improved from -inf to 0.98350, saving model to best_mnist_cnn_model.h5\n",
            "Epoch 2/50\n",
            "60000/60000 [==============================] - 13s 222us/step - loss: 0.0475 - acc: 0.9847 - val_loss: 0.0392 - val_acc: 0.9873\n",
            "\n",
            "Epoch 00002: val_acc improved from 0.98350 to 0.98730, saving model to best_mnist_cnn_model.h5\n",
            "Epoch 3/50\n",
            "60000/60000 [==============================] - 13s 222us/step - loss: 0.0370 - acc: 0.9880 - val_loss: 0.0357 - val_acc: 0.9884\n",
            "\n",
            "Epoch 00003: val_acc improved from 0.98730 to 0.98840, saving model to best_mnist_cnn_model.h5\n",
            "Epoch 4/50\n",
            "60000/60000 [==============================] - 13s 222us/step - loss: 0.0306 - acc: 0.9902 - val_loss: 0.0295 - val_acc: 0.9899\n",
            "\n",
            "Epoch 00004: val_acc improved from 0.98840 to 0.98990, saving model to best_mnist_cnn_model.h5\n",
            "Epoch 5/50\n",
            "60000/60000 [==============================] - 15s 253us/step - loss: 0.0261 - acc: 0.9921 - val_loss: 0.0364 - val_acc: 0.9877\n",
            "\n",
            "Epoch 00005: val_acc did not improve from 0.98990\n",
            "Epoch 6/50\n",
            "60000/60000 [==============================] - 15s 249us/step - loss: 0.0223 - acc: 0.9929 - val_loss: 0.0286 - val_acc: 0.9906\n",
            "\n",
            "Epoch 00006: val_acc improved from 0.98990 to 0.99060, saving model to best_mnist_cnn_model.h5\n",
            "Epoch 7/50\n",
            "60000/60000 [==============================] - 13s 222us/step - loss: 0.0205 - acc: 0.9934 - val_loss: 0.0257 - val_acc: 0.9916\n",
            "\n",
            "Epoch 00007: val_acc improved from 0.99060 to 0.99160, saving model to best_mnist_cnn_model.h5\n",
            "Epoch 8/50\n",
            "60000/60000 [==============================] - 13s 221us/step - loss: 0.0177 - acc: 0.9944 - val_loss: 0.0287 - val_acc: 0.9918\n",
            "\n",
            "Epoch 00008: val_acc improved from 0.99160 to 0.99180, saving model to best_mnist_cnn_model.h5\n",
            "Epoch 9/50\n",
            "60000/60000 [==============================] - 13s 222us/step - loss: 0.0160 - acc: 0.9946 - val_loss: 0.0416 - val_acc: 0.9895\n",
            "\n",
            "Epoch 00009: val_acc did not improve from 0.99180\n",
            "Epoch 10/50\n",
            "60000/60000 [==============================] - 13s 223us/step - loss: 0.0155 - acc: 0.9950 - val_loss: 0.0368 - val_acc: 0.9901\n",
            "\n",
            "Epoch 00010: val_acc did not improve from 0.99180\n",
            "Epoch 11/50\n",
            "60000/60000 [==============================] - 15s 250us/step - loss: 0.0131 - acc: 0.9957 - val_loss: 0.0346 - val_acc: 0.9895\n",
            "\n",
            "Epoch 00011: val_acc did not improve from 0.99180\n",
            "Epoch 12/50\n",
            "60000/60000 [==============================] - 13s 222us/step - loss: 0.0133 - acc: 0.9955 - val_loss: 0.0423 - val_acc: 0.9898\n",
            "\n",
            "Epoch 00012: val_acc did not improve from 0.99180\n",
            "Epoch 13/50\n",
            "60000/60000 [==============================] - 13s 223us/step - loss: 0.0120 - acc: 0.9962 - val_loss: 0.0284 - val_acc: 0.9920\n",
            "\n",
            "Epoch 00013: val_acc improved from 0.99180 to 0.99200, saving model to best_mnist_cnn_model.h5\n",
            "Epoch 14/50\n",
            "60000/60000 [==============================] - 13s 222us/step - loss: 0.0108 - acc: 0.9964 - val_loss: 0.0417 - val_acc: 0.9900\n",
            "\n",
            "Epoch 00014: val_acc did not improve from 0.99200\n",
            "Epoch 15/50\n",
            "60000/60000 [==============================] - 13s 223us/step - loss: 0.0103 - acc: 0.9963 - val_loss: 0.0384 - val_acc: 0.9905\n",
            "\n",
            "Epoch 00015: val_acc did not improve from 0.99200\n",
            "Epoch 16/50\n",
            "60000/60000 [==============================] - 13s 224us/step - loss: 0.0102 - acc: 0.9967 - val_loss: 0.0358 - val_acc: 0.9910\n",
            "\n",
            "Epoch 00016: val_acc did not improve from 0.99200\n",
            "Epoch 17/50\n",
            "60000/60000 [==============================] - 15s 249us/step - loss: 0.0088 - acc: 0.9970 - val_loss: 0.0457 - val_acc: 0.9898\n",
            "\n",
            "Epoch 00017: val_acc did not improve from 0.99200\n",
            "Epoch 18/50\n",
            "60000/60000 [==============================] - 13s 223us/step - loss: 0.0085 - acc: 0.9971 - val_loss: 0.0412 - val_acc: 0.9911\n",
            "\n",
            "Epoch 00018: val_acc did not improve from 0.99200\n",
            "\n",
            "Epoch 00018: ReduceLROnPlateau reducing learning rate to 0.00010000000474974513.\n",
            "Epoch 19/50\n",
            "60000/60000 [==============================] - 13s 223us/step - loss: 0.0037 - acc: 0.9989 - val_loss: 0.0318 - val_acc: 0.9925\n",
            "\n",
            "Epoch 00019: val_acc improved from 0.99200 to 0.99250, saving model to best_mnist_cnn_model.h5\n",
            "Epoch 20/50\n",
            "60000/60000 [==============================] - 13s 222us/step - loss: 0.0019 - acc: 0.9997 - val_loss: 0.0325 - val_acc: 0.9926\n",
            "\n",
            "Epoch 00020: val_acc improved from 0.99250 to 0.99260, saving model to best_mnist_cnn_model.h5\n",
            "Epoch 21/50\n",
            "60000/60000 [==============================] - 14s 228us/step - loss: 0.0015 - acc: 0.9998 - val_loss: 0.0320 - val_acc: 0.9928\n",
            "\n",
            "Epoch 00021: val_acc improved from 0.99260 to 0.99280, saving model to best_mnist_cnn_model.h5\n",
            "Epoch 22/50\n",
            "60000/60000 [==============================] - 14s 241us/step - loss: 0.0011 - acc: 0.9999 - val_loss: 0.0320 - val_acc: 0.9929\n",
            "\n",
            "Epoch 00022: val_acc improved from 0.99280 to 0.99290, saving model to best_mnist_cnn_model.h5\n",
            "Epoch 23/50\n",
            "60000/60000 [==============================] - 14s 238us/step - loss: 0.0010 - acc: 0.9999 - val_loss: 0.0330 - val_acc: 0.9930\n",
            "\n",
            "Epoch 00023: val_acc improved from 0.99290 to 0.99300, saving model to best_mnist_cnn_model.h5\n",
            "Epoch 24/50\n",
            "60000/60000 [==============================] - 13s 221us/step - loss: 9.1039e-04 - acc: 0.9999 - val_loss: 0.0331 - val_acc: 0.9934\n",
            "\n",
            "Epoch 00024: val_acc improved from 0.99300 to 0.99340, saving model to best_mnist_cnn_model.h5\n",
            "Epoch 25/50\n",
            "60000/60000 [==============================] - 13s 223us/step - loss: 8.2546e-04 - acc: 1.0000 - val_loss: 0.0343 - val_acc: 0.9936\n",
            "\n",
            "Epoch 00025: val_acc improved from 0.99340 to 0.99360, saving model to best_mnist_cnn_model.h5\n",
            "Epoch 26/50\n",
            "60000/60000 [==============================] - 13s 223us/step - loss: 8.1973e-04 - acc: 1.0000 - val_loss: 0.0357 - val_acc: 0.9931\n",
            "\n",
            "Epoch 00026: val_acc did not improve from 0.99360\n",
            "Epoch 27/50\n",
            "60000/60000 [==============================] - 13s 223us/step - loss: 8.0020e-04 - acc: 0.9999 - val_loss: 0.0349 - val_acc: 0.9935\n",
            "\n",
            "Epoch 00027: val_acc did not improve from 0.99360\n",
            "Epoch 28/50\n",
            "60000/60000 [==============================] - 15s 252us/step - loss: 7.0211e-04 - acc: 1.0000 - val_loss: 0.0362 - val_acc: 0.9935\n",
            "\n",
            "Epoch 00028: val_acc did not improve from 0.99360\n",
            "Epoch 29/50\n",
            "60000/60000 [==============================] - 14s 231us/step - loss: 7.4684e-04 - acc: 0.9999 - val_loss: 0.0360 - val_acc: 0.9934\n",
            "\n",
            "Epoch 00029: val_acc did not improve from 0.99360\n",
            "Epoch 30/50\n",
            "60000/60000 [==============================] - 13s 224us/step - loss: 6.6314e-04 - acc: 1.0000 - val_loss: 0.0363 - val_acc: 0.9932\n",
            "\n",
            "Epoch 00030: val_acc did not improve from 0.99360\n",
            "\n",
            "Epoch 00030: ReduceLROnPlateau reducing learning rate to 1.0000000474974514e-05.\n",
            "Epoch 31/50\n",
            "60000/60000 [==============================] - 14s 226us/step - loss: 6.5220e-04 - acc: 1.0000 - val_loss: 0.0365 - val_acc: 0.9935\n",
            "\n",
            "Epoch 00031: val_acc did not improve from 0.99360\n",
            "Epoch 32/50\n",
            "60000/60000 [==============================] - 14s 227us/step - loss: 6.3615e-04 - acc: 0.9999 - val_loss: 0.0367 - val_acc: 0.9933\n",
            "\n",
            "Epoch 00032: val_acc did not improve from 0.99360\n",
            "Epoch 33/50\n",
            "60000/60000 [==============================] - 14s 225us/step - loss: 6.1802e-04 - acc: 1.0000 - val_loss: 0.0369 - val_acc: 0.9933\n",
            "\n",
            "Epoch 00033: val_acc did not improve from 0.99360\n",
            "Epoch 34/50\n",
            "60000/60000 [==============================] - 15s 249us/step - loss: 6.1327e-04 - acc: 1.0000 - val_loss: 0.0371 - val_acc: 0.9934\n",
            "\n",
            "Epoch 00034: val_acc did not improve from 0.99360\n",
            "Epoch 35/50\n",
            "60000/60000 [==============================] - 14s 229us/step - loss: 6.1392e-04 - acc: 1.0000 - val_loss: 0.0373 - val_acc: 0.9934\n",
            "\n",
            "Epoch 00035: val_acc did not improve from 0.99360\n",
            "\n",
            "Epoch 00035: ReduceLROnPlateau reducing learning rate to 1e-05.\n",
            "Epoch 36/50\n",
            "60000/60000 [==============================] - 14s 226us/step - loss: 6.0860e-04 - acc: 1.0000 - val_loss: 0.0377 - val_acc: 0.9934\n",
            "\n",
            "Epoch 00036: val_acc did not improve from 0.99360\n",
            "Epoch 37/50\n",
            "60000/60000 [==============================] - 14s 226us/step - loss: 6.0919e-04 - acc: 1.0000 - val_loss: 0.0375 - val_acc: 0.9934\n",
            "\n",
            "Epoch 00037: val_acc did not improve from 0.99360\n",
            "Epoch 38/50\n",
            "60000/60000 [==============================] - 14s 226us/step - loss: 6.0050e-04 - acc: 1.0000 - val_loss: 0.0377 - val_acc: 0.9934\n",
            "\n",
            "Epoch 00038: val_acc did not improve from 0.99360\n",
            "Epoch 39/50\n",
            "60000/60000 [==============================] - 13s 224us/step - loss: 6.1859e-04 - acc: 1.0000 - val_loss: 0.0374 - val_acc: 0.9934\n",
            "\n",
            "Epoch 00039: val_acc did not improve from 0.99360\n",
            "Epoch 40/50\n",
            "60000/60000 [==============================] - 15s 249us/step - loss: 6.0019e-04 - acc: 1.0000 - val_loss: 0.0376 - val_acc: 0.9934\n",
            "\n",
            "Epoch 00040: val_acc did not improve from 0.99360\n",
            "Epoch 41/50\n",
            "60000/60000 [==============================] - 13s 221us/step - loss: 5.9890e-04 - acc: 1.0000 - val_loss: 0.0378 - val_acc: 0.9933\n",
            "\n",
            "Epoch 00041: val_acc did not improve from 0.99360\n",
            "Epoch 42/50\n",
            "60000/60000 [==============================] - 13s 221us/step - loss: 5.9492e-04 - acc: 1.0000 - val_loss: 0.0380 - val_acc: 0.9934\n",
            "\n",
            "Epoch 00042: val_acc did not improve from 0.99360\n",
            "Epoch 43/50\n",
            "60000/60000 [==============================] - 13s 221us/step - loss: 6.0033e-04 - acc: 1.0000 - val_loss: 0.0382 - val_acc: 0.9934\n",
            "\n",
            "Epoch 00043: val_acc did not improve from 0.99360\n",
            "Epoch 44/50\n",
            "60000/60000 [==============================] - 14s 237us/step - loss: 6.0336e-04 - acc: 1.0000 - val_loss: 0.0383 - val_acc: 0.9935\n",
            "\n",
            "Epoch 00044: val_acc did not improve from 0.99360\n",
            "Epoch 45/50\n",
            "60000/60000 [==============================] - 13s 221us/step - loss: 5.9371e-04 - acc: 1.0000 - val_loss: 0.0385 - val_acc: 0.9933\n",
            "\n",
            "Epoch 00045: val_acc did not improve from 0.99360\n",
            "Epoch 46/50\n",
            "60000/60000 [==============================] - 15s 249us/step - loss: 5.9026e-04 - acc: 1.0000 - val_loss: 0.0379 - val_acc: 0.9936\n",
            "\n",
            "Epoch 00046: val_acc did not improve from 0.99360\n",
            "Epoch 47/50\n",
            "60000/60000 [==============================] - 13s 221us/step - loss: 5.9717e-04 - acc: 1.0000 - val_loss: 0.0382 - val_acc: 0.9936\n",
            "\n",
            "Epoch 00047: val_acc did not improve from 0.99360\n",
            "Epoch 48/50\n",
            "60000/60000 [==============================] - 13s 221us/step - loss: 5.8755e-04 - acc: 1.0000 - val_loss: 0.0384 - val_acc: 0.9933\n",
            "\n",
            "Epoch 00048: val_acc did not improve from 0.99360\n",
            "Epoch 49/50\n",
            "60000/60000 [==============================] - 13s 221us/step - loss: 5.8752e-04 - acc: 1.0000 - val_loss: 0.0382 - val_acc: 0.9936\n",
            "\n",
            "Epoch 00049: val_acc did not improve from 0.99360\n",
            "Epoch 50/50\n",
            "60000/60000 [==============================] - 13s 221us/step - loss: 5.8768e-04 - acc: 1.0000 - val_loss: 0.0385 - val_acc: 0.9935\n",
            "\n",
            "Epoch 00050: val_acc did not improve from 0.99360\n"
          ],
          "name": "stdout"
        }
      ]
    },
    {
      "cell_type": "code",
      "metadata": {
        "id": "Q6HZan8Gqjhh",
        "colab_type": "code",
        "colab": {}
      },
      "source": [
        ""
      ],
      "execution_count": 0,
      "outputs": []
    },
    {
      "cell_type": "markdown",
      "metadata": {
        "id": "0XNMZ1ElKB4g",
        "colab_type": "text"
      },
      "source": [
        "# Visualization"
      ]
    },
    {
      "cell_type": "code",
      "metadata": {
        "colab_type": "code",
        "outputId": "05b1bc14-1702-435e-9a06-3ff6b498a3d4",
        "id": "Wh0zYifdwZO0",
        "colab": {
          "base_uri": "https://localhost:8080/",
          "height": 269
        }
      },
      "source": [
        "plt.plot(history.history['acc'],'r')\n",
        "plt.plot(history.history['val_acc'],'b')\n",
        "plt.legend({'training accuracy':'r', 'validation accuracy': 'b'})\n",
        "plt.show()"
      ],
      "execution_count": 0,
      "outputs": [
        {
          "output_type": "display_data",
          "data": {
            "image/png": "[encoded data removed]",
            "text/plain": [
              "<Figure size 432x288 with 1 Axes>"
            ]
          },
          "metadata": {
            "tags": []
          }
        }
      ]
    },
    {
      "cell_type": "code",
      "metadata": {
        "colab_type": "code",
        "outputId": "adfabc4f-d548-47a8-c634-2ff69777d2df",
        "id": "eFiGBRIfwZO5",
        "colab": {
          "base_uri": "https://localhost:8080/",
          "height": 269
        }
      },
      "source": [
        "plt.plot(history.history['loss'],'r')\n",
        "plt.plot(history.history['val_loss'],'b')\n",
        "plt.legend({'training loss':'r', 'validation loss': 'b'})\n",
        "plt.show()"
      ],
      "execution_count": 0,
      "outputs": [
        {
          "output_type": "display_data",
          "data": {
            "image/png": "[encoded data removed]",
            "text/plain": [
              "<Figure size 432x288 with 1 Axes>"
            ]
          },
          "metadata": {
            "tags": []
          }
        }
      ]
    },
    {
      "cell_type": "code",
      "metadata": {
        "colab_type": "code",
        "id": "mEfsm5DCakFc",
        "colab": {}
      },
      "source": [
        "score = model.evaluate(X_test, Y_test, verbose=0)"
      ],
      "execution_count": 0,
      "outputs": []
    },
    {
      "cell_type": "code",
      "metadata": {
        "colab_type": "code",
        "outputId": "43c9ce06-4e69-4c6f-d2ca-3c896ddbd2e3",
        "id": "7UopMEJsakFg",
        "colab": {
          "base_uri": "https://localhost:8080/",
          "height": 35
        }
      },
      "source": [
        "print(score)"
      ],
      "execution_count": 0,
      "outputs": [
        {
          "output_type": "stream",
          "text": [
            "[0.038530932814849005, 0.9935]\n"
          ],
          "name": "stdout"
        }
      ]
    },
    {
      "cell_type": "markdown",
      "metadata": {
        "id": "nH95-vIVKRqN",
        "colab_type": "text"
      },
      "source": [
        "# Maximum Validation Accuracy achieved 99.36% @ 25th epoch with 14.5 K parameters\n",
        "# But Overfitting problem"
      ]
    },
    {
      "cell_type": "code",
      "metadata": {
        "id": "reasqkboajRI",
        "colab_type": "code",
        "colab": {}
      },
      "source": [
        ""
      ],
      "execution_count": 0,
      "outputs": []
    },
    {
      "cell_type": "markdown",
      "metadata": {
        "id": "9YlPcLK2Ipn0",
        "colab_type": "text"
      },
      "source": [
        "# Change No: 2\n",
        "## To avoid overiftting-\n",
        "### 1. Use dropout(0.2) after Batchnormalization( 3 places)\n",
        "### 2. Lr begin changed from of 0.001 to 0.003 \n",
        "### 3. Batch size changed  from of 32 to 128"
      ]
    },
    {
      "cell_type": "code",
      "metadata": {
        "id": "vkanlE85ajOL",
        "colab_type": "code",
        "colab": {}
      },
      "source": [
        ""
      ],
      "execution_count": 0,
      "outputs": []
    },
    {
      "cell_type": "code",
      "metadata": {
        "colab_type": "code",
        "outputId": "2e5cb545-7bb3-4115-a608-3123088c5b75",
        "id": "u2Ah8980IzGn",
        "colab": {
          "base_uri": "https://localhost:8080/",
          "height": 128
        }
      },
      "source": [
        "from keras.layers import Activation, BatchNormalization\n",
        "\n",
        "model = Sequential() # Sequential model\n",
        " \n",
        "model.add(Convolution2D(16, 3, 3, activation='relu', input_shape=(28,28,1))) # Input Channel dimension= 1, output channel dimension= 16, RF = 3, out_img_size = 26\n",
        "model.add(BatchNormalization())\n",
        "model.add(Dropout(0.2))\n",
        "\n",
        "model.add(Convolution2D(32, 3, 3, activation='relu')) # Input Channel dimension= 16, output channel dimension= 32, RF = 5, out_img_size = 24\n",
        "model.add(BatchNormalization())\n",
        "model.add(Dropout(0.2))\n",
        "\n",
        "model.add(MaxPooling2D(pool_size = (2, 2))) # Input Channel dimension= 32, output channel dimension= 32, RF = 6, out_img_size = 12\n",
        "\n",
        "model.add(Convolution2D(10, 1, activation='relu')) # Input Channel dimension= 32, output channel dimension= 10, RF = 6, out_img_size = 12\n",
        "\n",
        "model.add(Convolution2D(64, 3, 3, activation='relu'))# Input Channel dimension= 10, output channel dimension= 64, RF = 10, out_img_size = 10\n",
        "model.add(BatchNormalization())\n",
        "model.add(Dropout(0.2))\n",
        "\n",
        "model.add(MaxPooling2D(pool_size = (2, 2)))# Input Channel dimension= 64, output channel dimension= 64, RF = 11, out_img_size = 5\n",
        "model.add(Convolution2D(10, 1, activation='relu'))# Input Channel dimension= 64, output channel dimension= 10, RF = 11, out_img_size = 5\n",
        " \n",
        "model.add(Convolution2D(10, 5)) # Input Channel dimension= 10, output channel dimension= 10, RF = 11 + 8 + 8 = 27, out_img_size = 1\n",
        "\n",
        "model.add(Flatten()) #flatten image dimension into 1\n",
        "model.add(Activation('softmax'))# softmax to assign confidence score of each class\n",
        "\n"
      ],
      "execution_count": 0,
      "outputs": [
        {
          "output_type": "stream",
          "text": [
            "/usr/local/lib/python3.6/dist-packages/ipykernel_launcher.py:5: UserWarning: Update your `Conv2D` call to the Keras 2 API: `Conv2D(16, (3, 3), activation=\"relu\", input_shape=(28, 28, 1...)`\n",
            "  \"\"\"\n",
            "/usr/local/lib/python3.6/dist-packages/ipykernel_launcher.py:9: UserWarning: Update your `Conv2D` call to the Keras 2 API: `Conv2D(32, (3, 3), activation=\"relu\")`\n",
            "  if __name__ == '__main__':\n",
            "/usr/local/lib/python3.6/dist-packages/ipykernel_launcher.py:17: UserWarning: Update your `Conv2D` call to the Keras 2 API: `Conv2D(64, (3, 3), activation=\"relu\")`\n"
          ],
          "name": "stderr"
        }
      ]
    },
    {
      "cell_type": "code",
      "metadata": {
        "colab_type": "code",
        "outputId": "00d99706-a512-4829-db39-d6085e04bf12",
        "id": "gVUPuIxLIzG0",
        "colab": {
          "base_uri": "https://localhost:8080/",
          "height": 726
        }
      },
      "source": [
        "model.summary()"
      ],
      "execution_count": 0,
      "outputs": [
        {
          "output_type": "stream",
          "text": [
            "_________________________________________________________________\n",
            "Layer (type)                 Output Shape              Param #   \n",
            "=================================================================\n",
            "conv2d_81 (Conv2D)           (None, 26, 26, 16)        160       \n",
            "_________________________________________________________________\n",
            "batch_normalization_34 (Batc (None, 26, 26, 16)        64        \n",
            "_________________________________________________________________\n",
            "dropout_12 (Dropout)         (None, 26, 26, 16)        0         \n",
            "_________________________________________________________________\n",
            "conv2d_82 (Conv2D)           (None, 24, 24, 32)        4640      \n",
            "_________________________________________________________________\n",
            "batch_normalization_35 (Batc (None, 24, 24, 32)        128       \n",
            "_________________________________________________________________\n",
            "dropout_13 (Dropout)         (None, 24, 24, 32)        0         \n",
            "_________________________________________________________________\n",
            "max_pooling2d_27 (MaxPooling (None, 12, 12, 32)        0         \n",
            "_________________________________________________________________\n",
            "conv2d_83 (Conv2D)           (None, 12, 12, 10)        330       \n",
            "_________________________________________________________________\n",
            "conv2d_84 (Conv2D)           (None, 10, 10, 64)        5824      \n",
            "_________________________________________________________________\n",
            "batch_normalization_36 (Batc (None, 10, 10, 64)        256       \n",
            "_________________________________________________________________\n",
            "dropout_14 (Dropout)         (None, 10, 10, 64)        0         \n",
            "_________________________________________________________________\n",
            "max_pooling2d_28 (MaxPooling (None, 5, 5, 64)          0         \n",
            "_________________________________________________________________\n",
            "conv2d_85 (Conv2D)           (None, 5, 5, 10)          650       \n",
            "_________________________________________________________________\n",
            "conv2d_86 (Conv2D)           (None, 1, 1, 10)          2510      \n",
            "_________________________________________________________________\n",
            "flatten_14 (Flatten)         (None, 10)                0         \n",
            "_________________________________________________________________\n",
            "activation_14 (Activation)   (None, 10)                0         \n",
            "=================================================================\n",
            "Total params: 14,562\n",
            "Trainable params: 14,338\n",
            "Non-trainable params: 224\n",
            "_________________________________________________________________\n"
          ],
          "name": "stdout"
        }
      ]
    },
    {
      "cell_type": "code",
      "metadata": {
        "colab_type": "code",
        "id": "2Z6LulGsIzHC",
        "colab": {}
      },
      "source": [
        "# import callbacks\n",
        "from keras.callbacks import ModelCheckpoint, ReduceLROnPlateau"
      ],
      "execution_count": 0,
      "outputs": []
    },
    {
      "cell_type": "code",
      "metadata": {
        "colab_type": "code",
        "id": "Y8j1vVIyIzHG",
        "colab": {}
      },
      "source": [
        "# save best weights \n",
        "final_weights_path = 'best_mnist_cnn_model.h5'"
      ],
      "execution_count": 0,
      "outputs": []
    },
    {
      "cell_type": "code",
      "metadata": {
        "colab_type": "code",
        "id": "XJ-6G8hcIzHK",
        "colab": {}
      },
      "source": [
        "# import adam optimizer parameters\n",
        "from keras.optimizers import Adam"
      ],
      "execution_count": 0,
      "outputs": []
    },
    {
      "cell_type": "code",
      "metadata": {
        "colab_type": "code",
        "id": "ewbkd1I9IzHN",
        "colab": {}
      },
      "source": [
        "# set adam optimizer parameters\n",
        "adam = Adam(lr=0.003, beta_1=0.9, beta_2=0.999, epsilon=1e-08, decay=0.0)"
      ],
      "execution_count": 0,
      "outputs": []
    },
    {
      "cell_type": "code",
      "metadata": {
        "colab_type": "code",
        "id": "NWUR4F9WIzHR",
        "colab": {}
      },
      "source": [
        "callbacks_list = [\n",
        "    ModelCheckpoint(final_weights_path, monitor='val_acc', verbose = 1,save_best_only = True),\n",
        "    ReduceLROnPlateau(monitor='val_acc', patience=5, verbose=1,factor=0.1, min_lr=0.00001 )\n",
        "]"
      ],
      "execution_count": 0,
      "outputs": []
    },
    {
      "cell_type": "code",
      "metadata": {
        "colab_type": "code",
        "id": "iG3ff1EwIzHo",
        "colab": {}
      },
      "source": [
        "# model compilation\n",
        "model.compile(loss='categorical_crossentropy', optimizer=adam,\n",
        "              metrics=['accuracy'])"
      ],
      "execution_count": 0,
      "outputs": []
    },
    {
      "cell_type": "code",
      "metadata": {
        "colab_type": "code",
        "outputId": "3dbbc277-699a-49ce-eb64-4660dedc062b",
        "id": "V-Yr1PIGIzHu",
        "colab": {
          "base_uri": "https://localhost:8080/",
          "height": 3817
        }
      },
      "source": [
        "# model training\n",
        "history = model.fit(X_train, Y_train, batch_size=128, nb_epoch=50,validation_data=(X_test,Y_test),callbacks = callbacks_list, verbose=1)"
      ],
      "execution_count": 0,
      "outputs": [
        {
          "output_type": "stream",
          "text": [
            "/usr/local/lib/python3.6/dist-packages/ipykernel_launcher.py:1: UserWarning: The `nb_epoch` argument in `fit` has been renamed `epochs`.\n",
            "  \"\"\"Entry point for launching an IPython kernel.\n"
          ],
          "name": "stderr"
        },
        {
          "output_type": "stream",
          "text": [
            "Train on 60000 samples, validate on 10000 samples\n",
            "Epoch 1/50\n",
            "60000/60000 [==============================] - 9s 146us/step - loss: 0.1906 - acc: 0.9408 - val_loss: 0.0572 - val_acc: 0.9807\n",
            "\n",
            "Epoch 00001: val_acc improved from -inf to 0.98070, saving model to best_mnist_cnn_model.h5\n",
            "Epoch 2/50\n",
            "60000/60000 [==============================] - 6s 99us/step - loss: 0.0628 - acc: 0.9801 - val_loss: 0.0479 - val_acc: 0.9842\n",
            "\n",
            "Epoch 00002: val_acc improved from 0.98070 to 0.98420, saving model to best_mnist_cnn_model.h5\n",
            "Epoch 3/50\n",
            "60000/60000 [==============================] - 6s 93us/step - loss: 0.0481 - acc: 0.9850 - val_loss: 0.0411 - val_acc: 0.9877\n",
            "\n",
            "Epoch 00003: val_acc improved from 0.98420 to 0.98770, saving model to best_mnist_cnn_model.h5\n",
            "Epoch 4/50\n",
            "60000/60000 [==============================] - 6s 92us/step - loss: 0.0411 - acc: 0.9876 - val_loss: 0.0397 - val_acc: 0.9868\n",
            "\n",
            "Epoch 00004: val_acc did not improve from 0.98770\n",
            "Epoch 5/50\n",
            "60000/60000 [==============================] - 6s 93us/step - loss: 0.0363 - acc: 0.9883 - val_loss: 0.0352 - val_acc: 0.9888\n",
            "\n",
            "Epoch 00005: val_acc improved from 0.98770 to 0.98880, saving model to best_mnist_cnn_model.h5\n",
            "Epoch 6/50\n",
            "60000/60000 [==============================] - 6s 93us/step - loss: 0.0348 - acc: 0.9892 - val_loss: 0.0364 - val_acc: 0.9879\n",
            "\n",
            "Epoch 00006: val_acc did not improve from 0.98880\n",
            "Epoch 7/50\n",
            "60000/60000 [==============================] - 6s 93us/step - loss: 0.0307 - acc: 0.9902 - val_loss: 0.0351 - val_acc: 0.9878\n",
            "\n",
            "Epoch 00007: val_acc did not improve from 0.98880\n",
            "Epoch 8/50\n",
            "60000/60000 [==============================] - 6s 92us/step - loss: 0.0305 - acc: 0.9907 - val_loss: 0.0347 - val_acc: 0.9888\n",
            "\n",
            "Epoch 00008: val_acc did not improve from 0.98880\n",
            "Epoch 9/50\n",
            "60000/60000 [==============================] - 6s 93us/step - loss: 0.0293 - acc: 0.9902 - val_loss: 0.0296 - val_acc: 0.9907\n",
            "\n",
            "Epoch 00009: val_acc improved from 0.98880 to 0.99070, saving model to best_mnist_cnn_model.h5\n",
            "Epoch 10/50\n",
            "60000/60000 [==============================] - 6s 92us/step - loss: 0.0274 - acc: 0.9913 - val_loss: 0.0388 - val_acc: 0.9883\n",
            "\n",
            "Epoch 00010: val_acc did not improve from 0.99070\n",
            "Epoch 11/50\n",
            "60000/60000 [==============================] - 6s 92us/step - loss: 0.0269 - acc: 0.9915 - val_loss: 0.0263 - val_acc: 0.9914\n",
            "\n",
            "Epoch 00011: val_acc improved from 0.99070 to 0.99140, saving model to best_mnist_cnn_model.h5\n",
            "Epoch 12/50\n",
            "60000/60000 [==============================] - 6s 92us/step - loss: 0.0244 - acc: 0.9920 - val_loss: 0.0410 - val_acc: 0.9878\n",
            "\n",
            "Epoch 00012: val_acc did not improve from 0.99140\n",
            "Epoch 13/50\n",
            "60000/60000 [==============================] - 6s 92us/step - loss: 0.0250 - acc: 0.9919 - val_loss: 0.0227 - val_acc: 0.9929\n",
            "\n",
            "Epoch 00013: val_acc improved from 0.99140 to 0.99290, saving model to best_mnist_cnn_model.h5\n",
            "Epoch 14/50\n",
            "60000/60000 [==============================] - 6s 92us/step - loss: 0.0223 - acc: 0.9929 - val_loss: 0.0357 - val_acc: 0.9907\n",
            "\n",
            "Epoch 00014: val_acc did not improve from 0.99290\n",
            "Epoch 15/50\n",
            "60000/60000 [==============================] - 6s 92us/step - loss: 0.0219 - acc: 0.9930 - val_loss: 0.0300 - val_acc: 0.9903\n",
            "\n",
            "Epoch 00015: val_acc did not improve from 0.99290\n",
            "Epoch 16/50\n",
            "60000/60000 [==============================] - 6s 97us/step - loss: 0.0213 - acc: 0.9931 - val_loss: 0.0255 - val_acc: 0.9918\n",
            "\n",
            "Epoch 00016: val_acc did not improve from 0.99290\n",
            "Epoch 17/50\n",
            "60000/60000 [==============================] - 6s 96us/step - loss: 0.0228 - acc: 0.9925 - val_loss: 0.0320 - val_acc: 0.9907\n",
            "\n",
            "Epoch 00017: val_acc did not improve from 0.99290\n",
            "Epoch 18/50\n",
            "60000/60000 [==============================] - 6s 92us/step - loss: 0.0201 - acc: 0.9936 - val_loss: 0.0336 - val_acc: 0.9894\n",
            "\n",
            "Epoch 00018: val_acc did not improve from 0.99290\n",
            "\n",
            "Epoch 00018: ReduceLROnPlateau reducing learning rate to 0.00030000000260770325.\n",
            "Epoch 19/50\n",
            "60000/60000 [==============================] - 6s 92us/step - loss: 0.0131 - acc: 0.9959 - val_loss: 0.0221 - val_acc: 0.9933\n",
            "\n",
            "Epoch 00019: val_acc improved from 0.99290 to 0.99330, saving model to best_mnist_cnn_model.h5\n",
            "Epoch 20/50\n",
            "60000/60000 [==============================] - 6s 92us/step - loss: 0.0094 - acc: 0.9970 - val_loss: 0.0208 - val_acc: 0.9946\n",
            "\n",
            "Epoch 00020: val_acc improved from 0.99330 to 0.99460, saving model to best_mnist_cnn_model.h5\n",
            "Epoch 21/50\n",
            "60000/60000 [==============================] - 6s 92us/step - loss: 0.0096 - acc: 0.9968 - val_loss: 0.0203 - val_acc: 0.9946\n",
            "\n",
            "Epoch 00021: val_acc did not improve from 0.99460\n",
            "Epoch 22/50\n",
            "60000/60000 [==============================] - 6s 92us/step - loss: 0.0086 - acc: 0.9972 - val_loss: 0.0207 - val_acc: 0.9946\n",
            "\n",
            "Epoch 00022: val_acc did not improve from 0.99460\n",
            "Epoch 23/50\n",
            "60000/60000 [==============================] - 6s 92us/step - loss: 0.0083 - acc: 0.9972 - val_loss: 0.0208 - val_acc: 0.9943\n",
            "\n",
            "Epoch 00023: val_acc did not improve from 0.99460\n",
            "Epoch 24/50\n",
            "60000/60000 [==============================] - 6s 92us/step - loss: 0.0078 - acc: 0.9974 - val_loss: 0.0212 - val_acc: 0.9941\n",
            "\n",
            "Epoch 00024: val_acc did not improve from 0.99460\n",
            "Epoch 25/50\n",
            "60000/60000 [==============================] - 6s 94us/step - loss: 0.0073 - acc: 0.9976 - val_loss: 0.0212 - val_acc: 0.9953\n",
            "\n",
            "Epoch 00025: val_acc improved from 0.99460 to 0.99530, saving model to best_mnist_cnn_model.h5\n",
            "Epoch 26/50\n",
            "60000/60000 [==============================] - 6s 100us/step - loss: 0.0079 - acc: 0.9974 - val_loss: 0.0212 - val_acc: 0.9948\n",
            "\n",
            "Epoch 00026: val_acc did not improve from 0.99530\n",
            "Epoch 27/50\n",
            "60000/60000 [==============================] - 6s 95us/step - loss: 0.0067 - acc: 0.9978 - val_loss: 0.0207 - val_acc: 0.9946\n",
            "\n",
            "Epoch 00027: val_acc did not improve from 0.99530\n",
            "Epoch 28/50\n",
            "60000/60000 [==============================] - 6s 92us/step - loss: 0.0068 - acc: 0.9977 - val_loss: 0.0217 - val_acc: 0.9941\n",
            "\n",
            "Epoch 00028: val_acc did not improve from 0.99530\n",
            "Epoch 29/50\n",
            "60000/60000 [==============================] - 6s 92us/step - loss: 0.0069 - acc: 0.9977 - val_loss: 0.0209 - val_acc: 0.9940\n",
            "\n",
            "Epoch 00029: val_acc did not improve from 0.99530\n",
            "Epoch 30/50\n",
            "60000/60000 [==============================] - 6s 98us/step - loss: 0.0066 - acc: 0.9978 - val_loss: 0.0223 - val_acc: 0.9935\n",
            "\n",
            "Epoch 00030: val_acc did not improve from 0.99530\n",
            "\n",
            "Epoch 00030: ReduceLROnPlateau reducing learning rate to 3.000000142492354e-05.\n",
            "Epoch 31/50\n",
            "60000/60000 [==============================] - 6s 96us/step - loss: 0.0061 - acc: 0.9980 - val_loss: 0.0215 - val_acc: 0.9942\n",
            "\n",
            "Epoch 00031: val_acc did not improve from 0.99530\n",
            "Epoch 32/50\n",
            "60000/60000 [==============================] - 6s 92us/step - loss: 0.0056 - acc: 0.9982 - val_loss: 0.0214 - val_acc: 0.9942\n",
            "\n",
            "Epoch 00032: val_acc did not improve from 0.99530\n",
            "Epoch 33/50\n",
            "60000/60000 [==============================] - 6s 92us/step - loss: 0.0058 - acc: 0.9982 - val_loss: 0.0213 - val_acc: 0.9945\n",
            "\n",
            "Epoch 00033: val_acc did not improve from 0.99530\n",
            "Epoch 34/50\n",
            "60000/60000 [==============================] - 6s 92us/step - loss: 0.0054 - acc: 0.9984 - val_loss: 0.0212 - val_acc: 0.9947\n",
            "\n",
            "Epoch 00034: val_acc did not improve from 0.99530\n",
            "Epoch 35/50\n",
            "60000/60000 [==============================] - 6s 92us/step - loss: 0.0057 - acc: 0.9981 - val_loss: 0.0212 - val_acc: 0.9946\n",
            "\n",
            "Epoch 00035: val_acc did not improve from 0.99530\n",
            "\n",
            "Epoch 00035: ReduceLROnPlateau reducing learning rate to 1e-05.\n",
            "Epoch 36/50\n",
            "60000/60000 [==============================] - 6s 92us/step - loss: 0.0054 - acc: 0.9984 - val_loss: 0.0211 - val_acc: 0.9944\n",
            "\n",
            "Epoch 00036: val_acc did not improve from 0.99530\n",
            "Epoch 37/50\n",
            "60000/60000 [==============================] - 5s 92us/step - loss: 0.0056 - acc: 0.9981 - val_loss: 0.0211 - val_acc: 0.9945\n",
            "\n",
            "Epoch 00037: val_acc did not improve from 0.99530\n",
            "Epoch 38/50\n",
            "60000/60000 [==============================] - 6s 92us/step - loss: 0.0055 - acc: 0.9985 - val_loss: 0.0211 - val_acc: 0.9943\n",
            "\n",
            "Epoch 00038: val_acc did not improve from 0.99530\n",
            "Epoch 39/50\n",
            "60000/60000 [==============================] - 6s 92us/step - loss: 0.0058 - acc: 0.9982 - val_loss: 0.0211 - val_acc: 0.9944\n",
            "\n",
            "Epoch 00039: val_acc did not improve from 0.99530\n",
            "Epoch 40/50\n",
            "60000/60000 [==============================] - 6s 92us/step - loss: 0.0057 - acc: 0.9981 - val_loss: 0.0211 - val_acc: 0.9942\n",
            "\n",
            "Epoch 00040: val_acc did not improve from 0.99530\n",
            "Epoch 41/50\n",
            "60000/60000 [==============================] - 6s 92us/step - loss: 0.0058 - acc: 0.9982 - val_loss: 0.0211 - val_acc: 0.9943\n",
            "\n",
            "Epoch 00041: val_acc did not improve from 0.99530\n",
            "Epoch 42/50\n",
            "60000/60000 [==============================] - 6s 92us/step - loss: 0.0050 - acc: 0.9985 - val_loss: 0.0213 - val_acc: 0.9944\n",
            "\n",
            "Epoch 00042: val_acc did not improve from 0.99530\n",
            "Epoch 43/50\n",
            "60000/60000 [==============================] - 6s 92us/step - loss: 0.0056 - acc: 0.9984 - val_loss: 0.0213 - val_acc: 0.9946\n",
            "\n",
            "Epoch 00043: val_acc did not improve from 0.99530\n",
            "Epoch 44/50\n",
            "60000/60000 [==============================] - 6s 95us/step - loss: 0.0050 - acc: 0.9984 - val_loss: 0.0213 - val_acc: 0.9944\n",
            "\n",
            "Epoch 00044: val_acc did not improve from 0.99530\n",
            "Epoch 45/50\n",
            "60000/60000 [==============================] - 6s 98us/step - loss: 0.0055 - acc: 0.9981 - val_loss: 0.0213 - val_acc: 0.9946\n",
            "\n",
            "Epoch 00045: val_acc did not improve from 0.99530\n",
            "Epoch 46/50\n",
            "60000/60000 [==============================] - 6s 93us/step - loss: 0.0059 - acc: 0.9981 - val_loss: 0.0212 - val_acc: 0.9946\n",
            "\n",
            "Epoch 00046: val_acc did not improve from 0.99530\n",
            "Epoch 47/50\n",
            "60000/60000 [==============================] - 6s 92us/step - loss: 0.0053 - acc: 0.9982 - val_loss: 0.0212 - val_acc: 0.9947\n",
            "\n",
            "Epoch 00047: val_acc did not improve from 0.99530\n",
            "Epoch 48/50\n",
            "60000/60000 [==============================] - 5s 92us/step - loss: 0.0058 - acc: 0.9983 - val_loss: 0.0212 - val_acc: 0.9948\n",
            "\n",
            "Epoch 00048: val_acc did not improve from 0.99530\n",
            "Epoch 49/50\n",
            "60000/60000 [==============================] - 6s 92us/step - loss: 0.0051 - acc: 0.9986 - val_loss: 0.0213 - val_acc: 0.9946\n",
            "\n",
            "Epoch 00049: val_acc did not improve from 0.99530\n",
            "Epoch 50/50\n",
            "60000/60000 [==============================] - 6s 92us/step - loss: 0.0056 - acc: 0.9983 - val_loss: 0.0214 - val_acc: 0.9946\n",
            "\n",
            "Epoch 00050: val_acc did not improve from 0.99530\n"
          ],
          "name": "stdout"
        }
      ]
    },
    {
      "cell_type": "markdown",
      "metadata": {
        "id": "50oHWrmYKHfL",
        "colab_type": "text"
      },
      "source": [
        "# Visualization"
      ]
    },
    {
      "cell_type": "code",
      "metadata": {
        "colab_type": "code",
        "outputId": "42ab5fc8-5385-4568-aea5-a1dfbdbf7d09",
        "id": "iggESSnBIzH2",
        "colab": {
          "base_uri": "https://localhost:8080/",
          "height": 269
        }
      },
      "source": [
        "plt.plot(history.history['acc'],'r')\n",
        "plt.plot(history.history['val_acc'],'b')\n",
        "plt.legend({'training accuracy':'r', 'validation accuracy': 'b'})\n",
        "plt.show()"
      ],
      "execution_count": 0,
      "outputs": [
        {
          "output_type": "display_data",
          "data": {
            "image/png": "[encoded data removed]",
            "text/plain": [
              "<Figure size 432x288 with 1 Axes>"
            ]
          },
          "metadata": {
            "tags": []
          }
        }
      ]
    },
    {
      "cell_type": "code",
      "metadata": {
        "colab_type": "code",
        "outputId": "6bdd4c36-be3a-4a81-df9a-7286fc817612",
        "id": "RCxHE3DEIzID",
        "colab": {
          "base_uri": "https://localhost:8080/",
          "height": 269
        }
      },
      "source": [
        "plt.plot(history.history['loss'],'r')\n",
        "plt.plot(history.history['val_loss'],'b')\n",
        "plt.legend({'training loss':'r', 'validation loss': 'b'})\n",
        "plt.show()"
      ],
      "execution_count": 0,
      "outputs": [
        {
          "output_type": "display_data",
          "data": {
            "image/png": "[encoded data removed]",
            "text/plain": [
              "<Figure size 432x288 with 1 Axes>"
            ]
          },
          "metadata": {
            "tags": []
          }
        }
      ]
    },
    {
      "cell_type": "code",
      "metadata": {
        "colab_type": "code",
        "id": "AoGV1QvKIzIM",
        "colab": {}
      },
      "source": [
        "score = model.evaluate(X_test, Y_test, verbose=0)"
      ],
      "execution_count": 0,
      "outputs": []
    },
    {
      "cell_type": "code",
      "metadata": {
        "colab_type": "code",
        "outputId": "d4dc2ad1-5576-4559-d58c-f00bbd35fdd0",
        "id": "hrtM7wEwIzIS",
        "colab": {
          "base_uri": "https://localhost:8080/",
          "height": 35
        }
      },
      "source": [
        "print(score)"
      ],
      "execution_count": 0,
      "outputs": [
        {
          "output_type": "stream",
          "text": [
            "[0.021424594816968057, 0.9946]\n"
          ],
          "name": "stdout"
        }
      ]
    },
    {
      "cell_type": "code",
      "metadata": {
        "id": "YZtSxDHYItQo",
        "colab_type": "code",
        "colab": {}
      },
      "source": [
        ""
      ],
      "execution_count": 0,
      "outputs": []
    },
    {
      "cell_type": "markdown",
      "metadata": {
        "id": "ZHlf7D4HcYq0",
        "colab_type": "text"
      },
      "source": [
        "# Maximum Validation Accuracy achieved 99.53% @ 25th epoch with 14.5K parameters"
      ]
    }
  ]
}